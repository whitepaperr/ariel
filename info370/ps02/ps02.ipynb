{
 "cells": [
  {
   "cell_type": "code",
   "execution_count": 100,
   "id": "c623af91-7de2-4827-94d5-0ee7fbacba23",
   "metadata": {},
   "outputs": [],
   "source": [
    "import numpy as np\n",
    "import pandas as pd\n",
    "import matplotlib.pyplot as plt\n",
    "import seaborn as sns"
   ]
  },
  {
   "cell_type": "markdown",
   "id": "de3bcbd6-5fa1-4db9-9025-9e526883ae6e",
   "metadata": {},
   "source": [
    "### Q.1 Cleaning Data"
   ]
  },
  {
   "cell_type": "code",
   "execution_count": 2,
   "id": "6e8492a9-1fe5-497d-aa8d-8a0363479bad",
   "metadata": {},
   "outputs": [],
   "source": [
    "#1 Load the \"gapminder\" dataset.\n",
    "gm = pd.read_csv(\"../data/gapminder.csv.bz2\", sep=\"\\t\")"
   ]
  },
  {
   "cell_type": "code",
   "execution_count": 3,
   "id": "b2c0cc79-4ff8-48a8-897a-e68fd431158e",
   "metadata": {},
   "outputs": [
    {
     "data": {
      "text/plain": [
       "(13055, 25)"
      ]
     },
     "execution_count": 3,
     "metadata": {},
     "output_type": "execute_result"
    }
   ],
   "source": [
    "#2 How many rows and columns? Does the first few lines of data look reasonable?\n",
    "gm.shape"
   ]
  },
  {
   "cell_type": "code",
   "execution_count": 4,
   "id": "0f32d625-a8d4-4df2-ad28-e0fd029b428b",
   "metadata": {},
   "outputs": [
    {
     "data": {
      "text/html": [
       "<div>\n",
       "<style scoped>\n",
       "    .dataframe tbody tr th:only-of-type {\n",
       "        vertical-align: middle;\n",
       "    }\n",
       "\n",
       "    .dataframe tbody tr th {\n",
       "        vertical-align: top;\n",
       "    }\n",
       "\n",
       "    .dataframe thead th {\n",
       "        text-align: right;\n",
       "    }\n",
       "</style>\n",
       "<table border=\"1\" class=\"dataframe\">\n",
       "  <thead>\n",
       "    <tr style=\"text-align: right;\">\n",
       "      <th></th>\n",
       "      <th>iso3</th>\n",
       "      <th>name</th>\n",
       "      <th>iso2</th>\n",
       "      <th>region</th>\n",
       "      <th>sub-region</th>\n",
       "      <th>intermediate-region</th>\n",
       "      <th>time</th>\n",
       "      <th>totalPopulation</th>\n",
       "      <th>fertilityRate</th>\n",
       "      <th>lifeExpectancy</th>\n",
       "      <th>...</th>\n",
       "      <th>accessElectricity</th>\n",
       "      <th>agriculturalLand</th>\n",
       "      <th>agricultureTractors</th>\n",
       "      <th>cerealProduction</th>\n",
       "      <th>fertilizerHa</th>\n",
       "      <th>co2</th>\n",
       "      <th>greenhouseGases</th>\n",
       "      <th>co2_PC</th>\n",
       "      <th>pm2.5_35</th>\n",
       "      <th>battleDeaths</th>\n",
       "    </tr>\n",
       "  </thead>\n",
       "  <tbody>\n",
       "    <tr>\n",
       "      <th>0</th>\n",
       "      <td>ABW</td>\n",
       "      <td>Aruba</td>\n",
       "      <td>AW</td>\n",
       "      <td>Americas</td>\n",
       "      <td>Latin America and the Caribbean</td>\n",
       "      <td>Caribbean</td>\n",
       "      <td>1960.0</td>\n",
       "      <td>54211.0</td>\n",
       "      <td>4.820</td>\n",
       "      <td>65.662</td>\n",
       "      <td>...</td>\n",
       "      <td>NaN</td>\n",
       "      <td>NaN</td>\n",
       "      <td>NaN</td>\n",
       "      <td>NaN</td>\n",
       "      <td>NaN</td>\n",
       "      <td>11092.675</td>\n",
       "      <td>NaN</td>\n",
       "      <td>204.62037</td>\n",
       "      <td>NaN</td>\n",
       "      <td>NaN</td>\n",
       "    </tr>\n",
       "    <tr>\n",
       "      <th>1</th>\n",
       "      <td>ABW</td>\n",
       "      <td>Aruba</td>\n",
       "      <td>AW</td>\n",
       "      <td>Americas</td>\n",
       "      <td>Latin America and the Caribbean</td>\n",
       "      <td>Caribbean</td>\n",
       "      <td>1961.0</td>\n",
       "      <td>55438.0</td>\n",
       "      <td>4.655</td>\n",
       "      <td>66.074</td>\n",
       "      <td>...</td>\n",
       "      <td>NaN</td>\n",
       "      <td>20.0</td>\n",
       "      <td>NaN</td>\n",
       "      <td>NaN</td>\n",
       "      <td>NaN</td>\n",
       "      <td>11576.719</td>\n",
       "      <td>NaN</td>\n",
       "      <td>208.82281</td>\n",
       "      <td>NaN</td>\n",
       "      <td>NaN</td>\n",
       "    </tr>\n",
       "    <tr>\n",
       "      <th>2</th>\n",
       "      <td>ABW</td>\n",
       "      <td>Aruba</td>\n",
       "      <td>AW</td>\n",
       "      <td>Americas</td>\n",
       "      <td>Latin America and the Caribbean</td>\n",
       "      <td>Caribbean</td>\n",
       "      <td>1962.0</td>\n",
       "      <td>56225.0</td>\n",
       "      <td>4.471</td>\n",
       "      <td>66.444</td>\n",
       "      <td>...</td>\n",
       "      <td>NaN</td>\n",
       "      <td>20.0</td>\n",
       "      <td>NaN</td>\n",
       "      <td>NaN</td>\n",
       "      <td>NaN</td>\n",
       "      <td>12713.489</td>\n",
       "      <td>NaN</td>\n",
       "      <td>226.11808</td>\n",
       "      <td>NaN</td>\n",
       "      <td>NaN</td>\n",
       "    </tr>\n",
       "    <tr>\n",
       "      <th>3</th>\n",
       "      <td>ABW</td>\n",
       "      <td>Aruba</td>\n",
       "      <td>AW</td>\n",
       "      <td>Americas</td>\n",
       "      <td>Latin America and the Caribbean</td>\n",
       "      <td>Caribbean</td>\n",
       "      <td>1963.0</td>\n",
       "      <td>56695.0</td>\n",
       "      <td>4.271</td>\n",
       "      <td>66.787</td>\n",
       "      <td>...</td>\n",
       "      <td>NaN</td>\n",
       "      <td>20.0</td>\n",
       "      <td>NaN</td>\n",
       "      <td>NaN</td>\n",
       "      <td>NaN</td>\n",
       "      <td>12178.107</td>\n",
       "      <td>NaN</td>\n",
       "      <td>214.80037</td>\n",
       "      <td>NaN</td>\n",
       "      <td>NaN</td>\n",
       "    </tr>\n",
       "    <tr>\n",
       "      <th>4</th>\n",
       "      <td>ABW</td>\n",
       "      <td>Aruba</td>\n",
       "      <td>AW</td>\n",
       "      <td>Americas</td>\n",
       "      <td>Latin America and the Caribbean</td>\n",
       "      <td>Caribbean</td>\n",
       "      <td>1964.0</td>\n",
       "      <td>57032.0</td>\n",
       "      <td>4.059</td>\n",
       "      <td>67.113</td>\n",
       "      <td>...</td>\n",
       "      <td>NaN</td>\n",
       "      <td>20.0</td>\n",
       "      <td>NaN</td>\n",
       "      <td>NaN</td>\n",
       "      <td>NaN</td>\n",
       "      <td>11840.743</td>\n",
       "      <td>NaN</td>\n",
       "      <td>207.61578</td>\n",
       "      <td>NaN</td>\n",
       "      <td>NaN</td>\n",
       "    </tr>\n",
       "  </tbody>\n",
       "</table>\n",
       "<p>5 rows × 25 columns</p>\n",
       "</div>"
      ],
      "text/plain": [
       "  iso3   name iso2    region                       sub-region  \\\n",
       "0  ABW  Aruba   AW  Americas  Latin America and the Caribbean   \n",
       "1  ABW  Aruba   AW  Americas  Latin America and the Caribbean   \n",
       "2  ABW  Aruba   AW  Americas  Latin America and the Caribbean   \n",
       "3  ABW  Aruba   AW  Americas  Latin America and the Caribbean   \n",
       "4  ABW  Aruba   AW  Americas  Latin America and the Caribbean   \n",
       "\n",
       "  intermediate-region    time  totalPopulation  fertilityRate  lifeExpectancy  \\\n",
       "0           Caribbean  1960.0          54211.0          4.820          65.662   \n",
       "1           Caribbean  1961.0          55438.0          4.655          66.074   \n",
       "2           Caribbean  1962.0          56225.0          4.471          66.444   \n",
       "3           Caribbean  1963.0          56695.0          4.271          66.787   \n",
       "4           Caribbean  1964.0          57032.0          4.059          67.113   \n",
       "\n",
       "   ...  accessElectricity  agriculturalLand  agricultureTractors  \\\n",
       "0  ...                NaN               NaN                  NaN   \n",
       "1  ...                NaN              20.0                  NaN   \n",
       "2  ...                NaN              20.0                  NaN   \n",
       "3  ...                NaN              20.0                  NaN   \n",
       "4  ...                NaN              20.0                  NaN   \n",
       "\n",
       "   cerealProduction  fertilizerHa        co2  greenhouseGases     co2_PC  \\\n",
       "0               NaN           NaN  11092.675              NaN  204.62037   \n",
       "1               NaN           NaN  11576.719              NaN  208.82281   \n",
       "2               NaN           NaN  12713.489              NaN  226.11808   \n",
       "3               NaN           NaN  12178.107              NaN  214.80037   \n",
       "4               NaN           NaN  11840.743              NaN  207.61578   \n",
       "\n",
       "   pm2.5_35  battleDeaths  \n",
       "0       NaN           NaN  \n",
       "1       NaN           NaN  \n",
       "2       NaN           NaN  \n",
       "3       NaN           NaN  \n",
       "4       NaN           NaN  \n",
       "\n",
       "[5 rows x 25 columns]"
      ]
     },
     "execution_count": 4,
     "metadata": {},
     "output_type": "execute_result"
    }
   ],
   "source": [
    "gm.head(5)"
   ]
  },
  {
   "cell_type": "markdown",
   "id": "e8e4b5e4-4978-48fd-bda7-c160d37f123f",
   "metadata": {},
   "source": [
    "- There are 13055 rows and 25 columns in the dataset. The first few lines look reasonable."
   ]
  },
  {
   "cell_type": "code",
   "execution_count": 5,
   "id": "57b0d569-447b-48d4-99a0-bfccece7984c",
   "metadata": {},
   "outputs": [
    {
     "data": {
      "text/plain": [
       "iso3                       0\n",
       "name                     240\n",
       "iso2                     300\n",
       "region                   241\n",
       "sub-region               241\n",
       "intermediate-region     7697\n",
       "time                      36\n",
       "totalPopulation           76\n",
       "fertilityRate           1307\n",
       "lifeExpectancy          1325\n",
       "childMortality          2600\n",
       "youthFemaleLiteracy    12134\n",
       "youthMaleLiteracy      12134\n",
       "adultLiteracy          12118\n",
       "GDP_PC                  3585\n",
       "accessElectricity       7608\n",
       "agriculturalLand        1910\n",
       "agricultureTractors     6947\n",
       "cerealProduction        3606\n",
       "fertilizerHa            4929\n",
       "co2                     2658\n",
       "greenhouseGases         4994\n",
       "co2_PC                  2661\n",
       "pm2.5_35               10727\n",
       "battleDeaths           12051\n",
       "dtype: int64"
      ]
     },
     "execution_count": 5,
     "metadata": {},
     "output_type": "execute_result"
    }
   ],
   "source": [
    "#3 How many missing values are there in each variable? \n",
    "gm.isna().sum()"
   ]
  },
  {
   "cell_type": "markdown",
   "id": "e4d307f0-f9d5-4ae4-a925-37418966ccd4",
   "metadata": {},
   "source": [
    "- You can see the number of NaNs in each variable above. Based on the above results, 'iso3' is good variable, but 'youthFemaleLiteracy', 'youthMaleLiteracy', 'adultLiteracy', and 'battleDeaths' are nearly unusable."
   ]
  },
  {
   "cell_type": "code",
   "execution_count": 6,
   "id": "25668272-35da-467e-9db2-4ef48062148f",
   "metadata": {},
   "outputs": [
    {
     "data": {
      "text/html": [
       "<div>\n",
       "<style scoped>\n",
       "    .dataframe tbody tr th:only-of-type {\n",
       "        vertical-align: middle;\n",
       "    }\n",
       "\n",
       "    .dataframe tbody tr th {\n",
       "        vertical-align: top;\n",
       "    }\n",
       "\n",
       "    .dataframe thead th {\n",
       "        text-align: right;\n",
       "    }\n",
       "</style>\n",
       "<table border=\"1\" class=\"dataframe\">\n",
       "  <thead>\n",
       "    <tr style=\"text-align: right;\">\n",
       "      <th></th>\n",
       "      <th>name</th>\n",
       "      <th>iso2</th>\n",
       "      <th>totalPopulation</th>\n",
       "      <th>time</th>\n",
       "    </tr>\n",
       "  </thead>\n",
       "  <tbody>\n",
       "    <tr>\n",
       "      <th>180</th>\n",
       "      <td>Anguilla</td>\n",
       "      <td>AI</td>\n",
       "      <td>NaN</td>\n",
       "      <td>NaN</td>\n",
       "    </tr>\n",
       "    <tr>\n",
       "      <th>181</th>\n",
       "      <td>Åland Islands</td>\n",
       "      <td>AX</td>\n",
       "      <td>NaN</td>\n",
       "      <td>NaN</td>\n",
       "    </tr>\n",
       "    <tr>\n",
       "      <th>542</th>\n",
       "      <td>Antarctica</td>\n",
       "      <td>AQ</td>\n",
       "      <td>NaN</td>\n",
       "      <td>NaN</td>\n",
       "    </tr>\n",
       "    <tr>\n",
       "      <th>543</th>\n",
       "      <td>French Southern Territories</td>\n",
       "      <td>TF</td>\n",
       "      <td>NaN</td>\n",
       "      <td>NaN</td>\n",
       "    </tr>\n",
       "    <tr>\n",
       "      <th>964</th>\n",
       "      <td>Bonaire, Sint Eustatius and Saba</td>\n",
       "      <td>BQ</td>\n",
       "      <td>NaN</td>\n",
       "      <td>NaN</td>\n",
       "    </tr>\n",
       "    <tr>\n",
       "      <th>1325</th>\n",
       "      <td>Saint Barthélemy</td>\n",
       "      <td>BL</td>\n",
       "      <td>NaN</td>\n",
       "      <td>NaN</td>\n",
       "    </tr>\n",
       "    <tr>\n",
       "      <th>1806</th>\n",
       "      <td>Bouvet Island</td>\n",
       "      <td>BV</td>\n",
       "      <td>NaN</td>\n",
       "      <td>NaN</td>\n",
       "    </tr>\n",
       "    <tr>\n",
       "      <th>1987</th>\n",
       "      <td>Cocos (Keeling) Islands</td>\n",
       "      <td>CC</td>\n",
       "      <td>NaN</td>\n",
       "      <td>NaN</td>\n",
       "    </tr>\n",
       "    <tr>\n",
       "      <th>2468</th>\n",
       "      <td>Cook Islands</td>\n",
       "      <td>CK</td>\n",
       "      <td>NaN</td>\n",
       "      <td>NaN</td>\n",
       "    </tr>\n",
       "    <tr>\n",
       "      <th>2769</th>\n",
       "      <td>Curaçao</td>\n",
       "      <td>CW</td>\n",
       "      <td>NaN</td>\n",
       "      <td>NaN</td>\n",
       "    </tr>\n",
       "    <tr>\n",
       "      <th>2770</th>\n",
       "      <td>Christmas Island</td>\n",
       "      <td>CX</td>\n",
       "      <td>NaN</td>\n",
       "      <td>NaN</td>\n",
       "    </tr>\n",
       "    <tr>\n",
       "      <th>3491</th>\n",
       "      <td>Western Sahara</td>\n",
       "      <td>EH</td>\n",
       "      <td>NaN</td>\n",
       "      <td>NaN</td>\n",
       "    </tr>\n",
       "    <tr>\n",
       "      <th>3792</th>\n",
       "      <td>Falkland Islands (Malvinas)</td>\n",
       "      <td>FK</td>\n",
       "      <td>NaN</td>\n",
       "      <td>NaN</td>\n",
       "    </tr>\n",
       "    <tr>\n",
       "      <th>4213</th>\n",
       "      <td>Guernsey</td>\n",
       "      <td>GG</td>\n",
       "      <td>NaN</td>\n",
       "      <td>NaN</td>\n",
       "    </tr>\n",
       "    <tr>\n",
       "      <th>4394</th>\n",
       "      <td>Guadeloupe</td>\n",
       "      <td>GP</td>\n",
       "      <td>NaN</td>\n",
       "      <td>NaN</td>\n",
       "    </tr>\n",
       "    <tr>\n",
       "      <th>4815</th>\n",
       "      <td>French Guiana</td>\n",
       "      <td>GF</td>\n",
       "      <td>NaN</td>\n",
       "      <td>NaN</td>\n",
       "    </tr>\n",
       "    <tr>\n",
       "      <th>4996</th>\n",
       "      <td>Heard Island and McDonald Islands</td>\n",
       "      <td>HM</td>\n",
       "      <td>NaN</td>\n",
       "      <td>NaN</td>\n",
       "    </tr>\n",
       "    <tr>\n",
       "      <th>5297</th>\n",
       "      <td>Isle of Man</td>\n",
       "      <td>IM</td>\n",
       "      <td>NaN</td>\n",
       "      <td>NaN</td>\n",
       "    </tr>\n",
       "    <tr>\n",
       "      <th>5358</th>\n",
       "      <td>British Indian Ocean Territory</td>\n",
       "      <td>IO</td>\n",
       "      <td>NaN</td>\n",
       "      <td>NaN</td>\n",
       "    </tr>\n",
       "    <tr>\n",
       "      <th>5779</th>\n",
       "      <td>Jersey</td>\n",
       "      <td>JE</td>\n",
       "      <td>NaN</td>\n",
       "      <td>NaN</td>\n",
       "    </tr>\n",
       "    <tr>\n",
       "      <th>8180</th>\n",
       "      <td>Montserrat</td>\n",
       "      <td>MS</td>\n",
       "      <td>NaN</td>\n",
       "      <td>NaN</td>\n",
       "    </tr>\n",
       "    <tr>\n",
       "      <th>8181</th>\n",
       "      <td>Martinique</td>\n",
       "      <td>MQ</td>\n",
       "      <td>NaN</td>\n",
       "      <td>NaN</td>\n",
       "    </tr>\n",
       "    <tr>\n",
       "      <th>8362</th>\n",
       "      <td>Mayotte</td>\n",
       "      <td>YT</td>\n",
       "      <td>NaN</td>\n",
       "      <td>NaN</td>\n",
       "    </tr>\n",
       "    <tr>\n",
       "      <th>8543</th>\n",
       "      <td>Norfolk Island</td>\n",
       "      <td>NF</td>\n",
       "      <td>NaN</td>\n",
       "      <td>NaN</td>\n",
       "    </tr>\n",
       "    <tr>\n",
       "      <th>8664</th>\n",
       "      <td>Niue</td>\n",
       "      <td>NU</td>\n",
       "      <td>NaN</td>\n",
       "      <td>NaN</td>\n",
       "    </tr>\n",
       "    <tr>\n",
       "      <th>9205</th>\n",
       "      <td>Pitcairn</td>\n",
       "      <td>PN</td>\n",
       "      <td>NaN</td>\n",
       "      <td>NaN</td>\n",
       "    </tr>\n",
       "    <tr>\n",
       "      <th>9925</th>\n",
       "      <td>Réunion</td>\n",
       "      <td>RE</td>\n",
       "      <td>NaN</td>\n",
       "      <td>NaN</td>\n",
       "    </tr>\n",
       "    <tr>\n",
       "      <th>10346</th>\n",
       "      <td>South Georgia and the South Sandwich Islands</td>\n",
       "      <td>GS</td>\n",
       "      <td>NaN</td>\n",
       "      <td>NaN</td>\n",
       "    </tr>\n",
       "    <tr>\n",
       "      <th>10347</th>\n",
       "      <td>Saint Helena, Ascension and Tristan da Cunha</td>\n",
       "      <td>SH</td>\n",
       "      <td>NaN</td>\n",
       "      <td>NaN</td>\n",
       "    </tr>\n",
       "    <tr>\n",
       "      <th>10348</th>\n",
       "      <td>Svalbard and Jan Mayen</td>\n",
       "      <td>SJ</td>\n",
       "      <td>NaN</td>\n",
       "      <td>NaN</td>\n",
       "    </tr>\n",
       "    <tr>\n",
       "      <th>10649</th>\n",
       "      <td>Saint Pierre and Miquelon</td>\n",
       "      <td>PM</td>\n",
       "      <td>NaN</td>\n",
       "      <td>NaN</td>\n",
       "    </tr>\n",
       "    <tr>\n",
       "      <th>11610</th>\n",
       "      <td>Tokelau</td>\n",
       "      <td>TK</td>\n",
       "      <td>NaN</td>\n",
       "      <td>NaN</td>\n",
       "    </tr>\n",
       "    <tr>\n",
       "      <th>12031</th>\n",
       "      <td>Taiwan, Province of China</td>\n",
       "      <td>TW</td>\n",
       "      <td>NaN</td>\n",
       "      <td>NaN</td>\n",
       "    </tr>\n",
       "    <tr>\n",
       "      <th>12212</th>\n",
       "      <td>United States Minor Outlying Islands</td>\n",
       "      <td>UM</td>\n",
       "      <td>NaN</td>\n",
       "      <td>NaN</td>\n",
       "    </tr>\n",
       "    <tr>\n",
       "      <th>12393</th>\n",
       "      <td>Holy See</td>\n",
       "      <td>VA</td>\n",
       "      <td>NaN</td>\n",
       "      <td>NaN</td>\n",
       "    </tr>\n",
       "    <tr>\n",
       "      <th>12754</th>\n",
       "      <td>Wallis and Futuna</td>\n",
       "      <td>WF</td>\n",
       "      <td>NaN</td>\n",
       "      <td>NaN</td>\n",
       "    </tr>\n",
       "  </tbody>\n",
       "</table>\n",
       "</div>"
      ],
      "text/plain": [
       "                                               name iso2  totalPopulation  \\\n",
       "180                                        Anguilla   AI              NaN   \n",
       "181                                   Åland Islands   AX              NaN   \n",
       "542                                      Antarctica   AQ              NaN   \n",
       "543                     French Southern Territories   TF              NaN   \n",
       "964                Bonaire, Sint Eustatius and Saba   BQ              NaN   \n",
       "1325                               Saint Barthélemy   BL              NaN   \n",
       "1806                                  Bouvet Island   BV              NaN   \n",
       "1987                        Cocos (Keeling) Islands   CC              NaN   \n",
       "2468                                   Cook Islands   CK              NaN   \n",
       "2769                                        Curaçao   CW              NaN   \n",
       "2770                               Christmas Island   CX              NaN   \n",
       "3491                                 Western Sahara   EH              NaN   \n",
       "3792                    Falkland Islands (Malvinas)   FK              NaN   \n",
       "4213                                       Guernsey   GG              NaN   \n",
       "4394                                     Guadeloupe   GP              NaN   \n",
       "4815                                  French Guiana   GF              NaN   \n",
       "4996              Heard Island and McDonald Islands   HM              NaN   \n",
       "5297                                    Isle of Man   IM              NaN   \n",
       "5358                 British Indian Ocean Territory   IO              NaN   \n",
       "5779                                         Jersey   JE              NaN   \n",
       "8180                                     Montserrat   MS              NaN   \n",
       "8181                                     Martinique   MQ              NaN   \n",
       "8362                                        Mayotte   YT              NaN   \n",
       "8543                                 Norfolk Island   NF              NaN   \n",
       "8664                                           Niue   NU              NaN   \n",
       "9205                                       Pitcairn   PN              NaN   \n",
       "9925                                        Réunion   RE              NaN   \n",
       "10346  South Georgia and the South Sandwich Islands   GS              NaN   \n",
       "10347  Saint Helena, Ascension and Tristan da Cunha   SH              NaN   \n",
       "10348                        Svalbard and Jan Mayen   SJ              NaN   \n",
       "10649                     Saint Pierre and Miquelon   PM              NaN   \n",
       "11610                                       Tokelau   TK              NaN   \n",
       "12031                     Taiwan, Province of China   TW              NaN   \n",
       "12212          United States Minor Outlying Islands   UM              NaN   \n",
       "12393                                      Holy See   VA              NaN   \n",
       "12754                             Wallis and Futuna   WF              NaN   \n",
       "\n",
       "       time  \n",
       "180     NaN  \n",
       "181     NaN  \n",
       "542     NaN  \n",
       "543     NaN  \n",
       "964     NaN  \n",
       "1325    NaN  \n",
       "1806    NaN  \n",
       "1987    NaN  \n",
       "2468    NaN  \n",
       "2769    NaN  \n",
       "2770    NaN  \n",
       "3491    NaN  \n",
       "3792    NaN  \n",
       "4213    NaN  \n",
       "4394    NaN  \n",
       "4815    NaN  \n",
       "4996    NaN  \n",
       "5297    NaN  \n",
       "5358    NaN  \n",
       "5779    NaN  \n",
       "8180    NaN  \n",
       "8181    NaN  \n",
       "8362    NaN  \n",
       "8543    NaN  \n",
       "8664    NaN  \n",
       "9205    NaN  \n",
       "9925    NaN  \n",
       "10346   NaN  \n",
       "10347   NaN  \n",
       "10348   NaN  \n",
       "10649   NaN  \n",
       "11610   NaN  \n",
       "12031   NaN  \n",
       "12212   NaN  \n",
       "12393   NaN  \n",
       "12754   NaN  "
      ]
     },
     "execution_count": 6,
     "metadata": {},
     "output_type": "execute_result"
    }
   ],
   "source": [
    "#4 Analyze the cases with missing time.\n",
    "non_time = gm[gm['time'].isna()]\n",
    "non_time[['name', 'iso2', 'totalPopulation', 'time']]"
   ]
  },
  {
   "cell_type": "markdown",
   "id": "1f6ec5a1-75d5-4e52-96f9-51e543ba788e",
   "metadata": {},
   "source": [
    "- Both 'totalPopulation' and 'time' are missing. There is no information in the cases with missing time."
   ]
  },
  {
   "cell_type": "code",
   "execution_count": 7,
   "id": "0a4df305-b341-4c55-a786-b9cf4bae77e4",
   "metadata": {},
   "outputs": [],
   "source": [
    "#5 Describe what you see there. Why do you think these observations are missing?"
   ]
  },
  {
   "cell_type": "markdown",
   "id": "d7f2ee79-f7a7-4b46-971a-9655bdabe5d9",
   "metadata": {},
   "source": [
    "- Both 'totalPopulation' and 'time' are missing. There is no information in the cases with missing time."
   ]
  },
  {
   "cell_type": "code",
   "execution_count": 8,
   "id": "c5a64096-1318-4740-acf8-a62ab956a814",
   "metadata": {},
   "outputs": [
    {
     "data": {
      "text/plain": [
       "0"
      ]
     },
     "execution_count": 8,
     "metadata": {},
     "output_type": "execute_result"
    }
   ],
   "source": [
    "#6 How many cases do you find where 1.name is missing but iso-2 code is there / 2. iso-2 code is missing but name is there?\n",
    "name_na_iso2_nna = (gm.name.isna()) & (gm.iso2.notna())\n",
    "name_na_iso2_nna.sum()"
   ]
  },
  {
   "cell_type": "code",
   "execution_count": 9,
   "id": "f2bf5345-2311-4b19-8940-1e4a77ce3959",
   "metadata": {},
   "outputs": [
    {
     "data": {
      "text/html": [
       "<div>\n",
       "<style scoped>\n",
       "    .dataframe tbody tr th:only-of-type {\n",
       "        vertical-align: middle;\n",
       "    }\n",
       "\n",
       "    .dataframe tbody tr th {\n",
       "        vertical-align: top;\n",
       "    }\n",
       "\n",
       "    .dataframe thead th {\n",
       "        text-align: right;\n",
       "    }\n",
       "</style>\n",
       "<table border=\"1\" class=\"dataframe\">\n",
       "  <thead>\n",
       "    <tr style=\"text-align: right;\">\n",
       "      <th></th>\n",
       "      <th>iso3</th>\n",
       "      <th>name</th>\n",
       "      <th>iso2</th>\n",
       "      <th>region</th>\n",
       "      <th>sub-region</th>\n",
       "      <th>intermediate-region</th>\n",
       "      <th>time</th>\n",
       "      <th>totalPopulation</th>\n",
       "      <th>fertilityRate</th>\n",
       "      <th>lifeExpectancy</th>\n",
       "      <th>...</th>\n",
       "      <th>accessElectricity</th>\n",
       "      <th>agriculturalLand</th>\n",
       "      <th>agricultureTractors</th>\n",
       "      <th>cerealProduction</th>\n",
       "      <th>fertilizerHa</th>\n",
       "      <th>co2</th>\n",
       "      <th>greenhouseGases</th>\n",
       "      <th>co2_PC</th>\n",
       "      <th>pm2.5_35</th>\n",
       "      <th>battleDeaths</th>\n",
       "    </tr>\n",
       "  </thead>\n",
       "  <tbody>\n",
       "  </tbody>\n",
       "</table>\n",
       "<p>0 rows × 25 columns</p>\n",
       "</div>"
      ],
      "text/plain": [
       "Empty DataFrame\n",
       "Columns: [iso3, name, iso2, region, sub-region, intermediate-region, time, totalPopulation, fertilityRate, lifeExpectancy, childMortality, youthFemaleLiteracy, youthMaleLiteracy, adultLiteracy, GDP_PC, accessElectricity, agriculturalLand, agricultureTractors, cerealProduction, fertilizerHa, co2, greenhouseGases, co2_PC, pm2.5_35, battleDeaths]\n",
       "Index: []\n",
       "\n",
       "[0 rows x 25 columns]"
      ]
     },
     "execution_count": 9,
     "metadata": {},
     "output_type": "execute_result"
    }
   ],
   "source": [
    "gm[(gm.name.isna()) & (gm.iso2.notna())].head()"
   ]
  },
  {
   "cell_type": "code",
   "execution_count": 10,
   "id": "246b72b4-af28-4d65-9629-81f75b0ae488",
   "metadata": {},
   "outputs": [
    {
     "data": {
      "text/plain": [
       "60"
      ]
     },
     "execution_count": 10,
     "metadata": {},
     "output_type": "execute_result"
    }
   ],
   "source": [
    "name_nna_iso2_na = (gm.iso2.isna()) & (gm.name.notna())\n",
    "name_nna_iso2_na.sum()"
   ]
  },
  {
   "cell_type": "code",
   "execution_count": 11,
   "id": "0dcd2589-d31b-4ff2-bd55-11489d0dc51a",
   "metadata": {},
   "outputs": [
    {
     "data": {
      "text/html": [
       "<div>\n",
       "<style scoped>\n",
       "    .dataframe tbody tr th:only-of-type {\n",
       "        vertical-align: middle;\n",
       "    }\n",
       "\n",
       "    .dataframe tbody tr th {\n",
       "        vertical-align: top;\n",
       "    }\n",
       "\n",
       "    .dataframe thead th {\n",
       "        text-align: right;\n",
       "    }\n",
       "</style>\n",
       "<table border=\"1\" class=\"dataframe\">\n",
       "  <thead>\n",
       "    <tr style=\"text-align: right;\">\n",
       "      <th></th>\n",
       "      <th>iso3</th>\n",
       "      <th>name</th>\n",
       "      <th>iso2</th>\n",
       "      <th>region</th>\n",
       "      <th>sub-region</th>\n",
       "      <th>intermediate-region</th>\n",
       "      <th>time</th>\n",
       "      <th>totalPopulation</th>\n",
       "      <th>fertilityRate</th>\n",
       "      <th>lifeExpectancy</th>\n",
       "      <th>...</th>\n",
       "      <th>accessElectricity</th>\n",
       "      <th>agriculturalLand</th>\n",
       "      <th>agricultureTractors</th>\n",
       "      <th>cerealProduction</th>\n",
       "      <th>fertilizerHa</th>\n",
       "      <th>co2</th>\n",
       "      <th>greenhouseGases</th>\n",
       "      <th>co2_PC</th>\n",
       "      <th>pm2.5_35</th>\n",
       "      <th>battleDeaths</th>\n",
       "    </tr>\n",
       "  </thead>\n",
       "  <tbody>\n",
       "    <tr>\n",
       "      <th>8363</th>\n",
       "      <td>NAM</td>\n",
       "      <td>Namibia</td>\n",
       "      <td>NaN</td>\n",
       "      <td>Africa</td>\n",
       "      <td>Sub-Saharan Africa</td>\n",
       "      <td>Southern Africa</td>\n",
       "      <td>1960.0</td>\n",
       "      <td>634142.0</td>\n",
       "      <td>6.149</td>\n",
       "      <td>46.483</td>\n",
       "      <td>...</td>\n",
       "      <td>NaN</td>\n",
       "      <td>NaN</td>\n",
       "      <td>NaN</td>\n",
       "      <td>NaN</td>\n",
       "      <td>NaN</td>\n",
       "      <td>NaN</td>\n",
       "      <td>NaN</td>\n",
       "      <td>NaN</td>\n",
       "      <td>NaN</td>\n",
       "      <td>NaN</td>\n",
       "    </tr>\n",
       "    <tr>\n",
       "      <th>8364</th>\n",
       "      <td>NAM</td>\n",
       "      <td>Namibia</td>\n",
       "      <td>NaN</td>\n",
       "      <td>Africa</td>\n",
       "      <td>Sub-Saharan Africa</td>\n",
       "      <td>Southern Africa</td>\n",
       "      <td>1961.0</td>\n",
       "      <td>649279.0</td>\n",
       "      <td>6.167</td>\n",
       "      <td>47.231</td>\n",
       "      <td>...</td>\n",
       "      <td>NaN</td>\n",
       "      <td>386420.0</td>\n",
       "      <td>NaN</td>\n",
       "      <td>35592.0</td>\n",
       "      <td>NaN</td>\n",
       "      <td>NaN</td>\n",
       "      <td>NaN</td>\n",
       "      <td>NaN</td>\n",
       "      <td>NaN</td>\n",
       "      <td>NaN</td>\n",
       "    </tr>\n",
       "    <tr>\n",
       "      <th>8365</th>\n",
       "      <td>NAM</td>\n",
       "      <td>Namibia</td>\n",
       "      <td>NaN</td>\n",
       "      <td>Africa</td>\n",
       "      <td>Sub-Saharan Africa</td>\n",
       "      <td>Southern Africa</td>\n",
       "      <td>1962.0</td>\n",
       "      <td>665115.0</td>\n",
       "      <td>6.184</td>\n",
       "      <td>47.957</td>\n",
       "      <td>...</td>\n",
       "      <td>NaN</td>\n",
       "      <td>386420.0</td>\n",
       "      <td>NaN</td>\n",
       "      <td>37068.0</td>\n",
       "      <td>NaN</td>\n",
       "      <td>NaN</td>\n",
       "      <td>NaN</td>\n",
       "      <td>NaN</td>\n",
       "      <td>NaN</td>\n",
       "      <td>NaN</td>\n",
       "    </tr>\n",
       "    <tr>\n",
       "      <th>8366</th>\n",
       "      <td>NAM</td>\n",
       "      <td>Namibia</td>\n",
       "      <td>NaN</td>\n",
       "      <td>Africa</td>\n",
       "      <td>Sub-Saharan Africa</td>\n",
       "      <td>Southern Africa</td>\n",
       "      <td>1963.0</td>\n",
       "      <td>681637.0</td>\n",
       "      <td>6.199</td>\n",
       "      <td>48.656</td>\n",
       "      <td>...</td>\n",
       "      <td>NaN</td>\n",
       "      <td>386420.0</td>\n",
       "      <td>NaN</td>\n",
       "      <td>37208.0</td>\n",
       "      <td>NaN</td>\n",
       "      <td>NaN</td>\n",
       "      <td>NaN</td>\n",
       "      <td>NaN</td>\n",
       "      <td>NaN</td>\n",
       "      <td>NaN</td>\n",
       "    </tr>\n",
       "    <tr>\n",
       "      <th>8367</th>\n",
       "      <td>NAM</td>\n",
       "      <td>Namibia</td>\n",
       "      <td>NaN</td>\n",
       "      <td>Africa</td>\n",
       "      <td>Sub-Saharan Africa</td>\n",
       "      <td>Southern Africa</td>\n",
       "      <td>1964.0</td>\n",
       "      <td>698796.0</td>\n",
       "      <td>6.216</td>\n",
       "      <td>49.325</td>\n",
       "      <td>...</td>\n",
       "      <td>NaN</td>\n",
       "      <td>386460.0</td>\n",
       "      <td>NaN</td>\n",
       "      <td>39600.0</td>\n",
       "      <td>NaN</td>\n",
       "      <td>NaN</td>\n",
       "      <td>NaN</td>\n",
       "      <td>NaN</td>\n",
       "      <td>NaN</td>\n",
       "      <td>NaN</td>\n",
       "    </tr>\n",
       "  </tbody>\n",
       "</table>\n",
       "<p>5 rows × 25 columns</p>\n",
       "</div>"
      ],
      "text/plain": [
       "     iso3     name iso2  region          sub-region intermediate-region  \\\n",
       "8363  NAM  Namibia  NaN  Africa  Sub-Saharan Africa     Southern Africa   \n",
       "8364  NAM  Namibia  NaN  Africa  Sub-Saharan Africa     Southern Africa   \n",
       "8365  NAM  Namibia  NaN  Africa  Sub-Saharan Africa     Southern Africa   \n",
       "8366  NAM  Namibia  NaN  Africa  Sub-Saharan Africa     Southern Africa   \n",
       "8367  NAM  Namibia  NaN  Africa  Sub-Saharan Africa     Southern Africa   \n",
       "\n",
       "        time  totalPopulation  fertilityRate  lifeExpectancy  ...  \\\n",
       "8363  1960.0         634142.0          6.149          46.483  ...   \n",
       "8364  1961.0         649279.0          6.167          47.231  ...   \n",
       "8365  1962.0         665115.0          6.184          47.957  ...   \n",
       "8366  1963.0         681637.0          6.199          48.656  ...   \n",
       "8367  1964.0         698796.0          6.216          49.325  ...   \n",
       "\n",
       "      accessElectricity  agriculturalLand  agricultureTractors  \\\n",
       "8363                NaN               NaN                  NaN   \n",
       "8364                NaN          386420.0                  NaN   \n",
       "8365                NaN          386420.0                  NaN   \n",
       "8366                NaN          386420.0                  NaN   \n",
       "8367                NaN          386460.0                  NaN   \n",
       "\n",
       "      cerealProduction  fertilizerHa  co2  greenhouseGases  co2_PC  pm2.5_35  \\\n",
       "8363               NaN           NaN  NaN              NaN     NaN       NaN   \n",
       "8364           35592.0           NaN  NaN              NaN     NaN       NaN   \n",
       "8365           37068.0           NaN  NaN              NaN     NaN       NaN   \n",
       "8366           37208.0           NaN  NaN              NaN     NaN       NaN   \n",
       "8367           39600.0           NaN  NaN              NaN     NaN       NaN   \n",
       "\n",
       "      battleDeaths  \n",
       "8363           NaN  \n",
       "8364           NaN  \n",
       "8365           NaN  \n",
       "8366           NaN  \n",
       "8367           NaN  \n",
       "\n",
       "[5 rows x 25 columns]"
      ]
     },
     "execution_count": 11,
     "metadata": {},
     "output_type": "execute_result"
    }
   ],
   "source": [
    "gm[(gm.iso2.isna()) & (gm.name.notna())].head()"
   ]
  },
  {
   "cell_type": "markdown",
   "id": "8531617b-5f5a-42ea-9428-42bbcb28805f",
   "metadata": {},
   "source": [
    "- There is no case where name is missing but iso-2 is there, while there are 60 cases where iso-2 is missing but name is there."
   ]
  },
  {
   "cell_type": "code",
   "execution_count": 12,
   "id": "910e2bd1-6d6e-4601-9254-61296cfcc2a4",
   "metadata": {},
   "outputs": [],
   "source": [
    "#7 Can you figure out what is two-letter country code for Namibia? \n",
    "#  Why do you think, out of all countries, it is Namibia that has its iso-2 code missing?"
   ]
  },
  {
   "cell_type": "markdown",
   "id": "fe0c6874-e883-480f-80a6-fdccc0dc15a7",
   "metadata": {},
   "source": [
    "- No, I cannot figure out the two-letter country code for Namibia. I think the iso-2 code of Namibia is missing since it is NA, which is possible NA to 'not available'. "
   ]
  },
  {
   "cell_type": "code",
   "execution_count": 13,
   "id": "33b244a0-f5f6-491c-b87c-884000b7b432",
   "metadata": {},
   "outputs": [
    {
     "data": {
      "text/plain": [
       "249"
      ]
     },
     "execution_count": 13,
     "metadata": {},
     "output_type": "execute_result"
    }
   ],
   "source": [
    "#8 How many different countries are there in these data?\n",
    "gm.name.nunique()"
   ]
  },
  {
   "cell_type": "markdown",
   "id": "f4409d37-78be-4d57-b6e2-ddefca5c6fb6",
   "metadata": {},
   "source": [
    "- There are 249 different countries in these data."
   ]
  },
  {
   "cell_type": "code",
   "execution_count": 14,
   "id": "1588e13c-069a-4ca4-84ab-b6a2a8ca2c83",
   "metadata": {},
   "outputs": [
    {
     "data": {
      "text/plain": [
       "1960.0"
      ]
     },
     "execution_count": 14,
     "metadata": {},
     "output_type": "execute_result"
    }
   ],
   "source": [
    "#9 What is the earliest and the most recent year in the dataset?\n",
    "gm.time.min()"
   ]
  },
  {
   "cell_type": "code",
   "execution_count": 15,
   "id": "b3f3fb3a-c78a-4c1a-86ad-9b6f9fa4cfe0",
   "metadata": {},
   "outputs": [
    {
     "data": {
      "text/plain": [
       "2019.0"
      ]
     },
     "execution_count": 15,
     "metadata": {},
     "output_type": "execute_result"
    }
   ],
   "source": [
    "gm.time.max()"
   ]
  },
  {
   "cell_type": "markdown",
   "id": "6d38c039-8488-4660-8e49-3e5f9ea92406",
   "metadata": {},
   "source": [
    "- The earliest year in the dataset is 1960, and the most recent year in the dataset is 2019."
   ]
  },
  {
   "cell_type": "markdown",
   "id": "59d9b560-2a66-4ce4-92e2-638d2bc0e9a0",
   "metadata": {},
   "source": [
    "### Q.2 Wealth"
   ]
  },
  {
   "cell_type": "code",
   "execution_count": 16,
   "id": "40766b86-c342-4964-aa9e-c0c51570605a",
   "metadata": {},
   "outputs": [
    {
     "data": {
      "text/plain": [
       "2019.0"
      ]
     },
     "execution_count": 16,
     "metadata": {},
     "output_type": "execute_result"
    }
   ],
   "source": [
    "#1  Find the most recent year in the data set that includes GDP data.\n",
    "gm[gm.GDP_PC.notna()].time.max()"
   ]
  },
  {
   "cell_type": "markdown",
   "id": "155b471c-d508-420c-a95e-63be5aab9ce5",
   "metadata": {},
   "source": [
    "- The most recent year in the data set that includes GDP data is 2019."
   ]
  },
  {
   "cell_type": "code",
   "execution_count": 17,
   "id": "304926c8-7bff-424d-8a14-20d6717fe802",
   "metadata": {},
   "outputs": [
    {
     "data": {
      "text/plain": [
       "15055.352217243239"
      ]
     },
     "execution_count": 17,
     "metadata": {},
     "output_type": "execute_result"
    }
   ],
   "source": [
    "#2 What is the average wealth on this planet as of 2019?\n",
    "gm[gm['time'] == 2019].GDP_PC.mean()"
   ]
  },
  {
   "cell_type": "markdown",
   "id": "57c35ab1-a961-4826-8ad7-36d9b3141dc7",
   "metadata": {},
   "source": [
    "- The average wealth on this planet as of 2019 is about 15055.35"
   ]
  },
  {
   "cell_type": "code",
   "execution_count": 18,
   "id": "b9ccc0a1-49a9-4f89-bc98-2d0742d59b73",
   "metadata": {},
   "outputs": [
    {
     "data": {
      "text/plain": [
       "name\n",
       "Djibouti                    2010.0\n",
       "Faroe Islands               2010.0\n",
       "Liechtenstein               2010.0\n",
       "Turks and Caicos Islands    2010.0\n",
       "Eritrea                     2011.0\n",
       "Name: time, dtype: float64"
      ]
     },
     "execution_count": 18,
     "metadata": {},
     "output_type": "execute_result"
    }
   ],
   "source": [
    "#3 Which 5 countries have the largest number of the most recent years missing? \n",
    "#  What is the most recent GDP data for these countries?\n",
    "name_recent_year = gm[gm.GDP_PC.notna()].groupby('name').time.max()\n",
    "name_recent_year.nsmallest()"
   ]
  },
  {
   "cell_type": "markdown",
   "id": "efc50a9c-6116-45f2-af5f-77fba6fb65eb",
   "metadata": {},
   "source": [
    "- Five countries which has the largest number of the most recent years missing are 'Djibouti', 'Faroe Islands', 'Liechtenstein', 'Turks and Caicos Islands', 'Eritrea'. The most recent GDP data for 'Djibouti' is 2010. The most recent GDP data for 'Faroe Islands' is 2010. The most recent GDP data for 'Liechtenstein' is 2010. The most recent GDP data for 'Turks and Caicos Islands' is 2010. The most recent GDP data for 'Eritrea' is 2011. "
   ]
  },
  {
   "cell_type": "code",
   "execution_count": 19,
   "id": "a0d69ebd-ed72-4784-b343-36f91ba79db4",
   "metadata": {},
   "outputs": [
    {
     "data": {
      "text/plain": [
       "region\n",
       "Europe      33227.983767\n",
       "Americas    14516.826303\n",
       "Asia        14116.124163\n",
       "Oceania     11817.735554\n",
       "Africa       2765.708956\n",
       "Name: GDP_PC, dtype: float64"
      ]
     },
     "execution_count": 19,
     "metadata": {},
     "output_type": "execute_result"
    }
   ],
   "source": [
    "#4 Order the continents by GDP wealth in 2019 so that the richest one is at top. Do you think this order is reasonable?\n",
    "gm[gm['time'] == 2019].groupby('region')['GDP_PC'].mean().sort_values(ascending = False)"
   ]
  },
  {
   "cell_type": "markdown",
   "id": "73b5eb2d-3577-4db3-8bd1-0f19f31c8802",
   "metadata": {},
   "source": [
    "- I think the order is not reasonable since America has higher GDP than Europe."
   ]
  },
  {
   "cell_type": "markdown",
   "id": "bd4a5f3a-2322-4c66-8273-d3723b31ad35",
   "metadata": {},
   "source": [
    "### Q.3 Descriptive Stats"
   ]
  },
  {
   "cell_type": "code",
   "execution_count": 48,
   "id": "2e6dc0e9-da84-4e2f-a398-6105da911156",
   "metadata": {},
   "outputs": [
    {
     "data": {
      "text/html": [
       "<div>\n",
       "<style scoped>\n",
       "    .dataframe tbody tr th:only-of-type {\n",
       "        vertical-align: middle;\n",
       "    }\n",
       "\n",
       "    .dataframe tbody tr th {\n",
       "        vertical-align: top;\n",
       "    }\n",
       "\n",
       "    .dataframe thead th {\n",
       "        text-align: right;\n",
       "    }\n",
       "</style>\n",
       "<table border=\"1\" class=\"dataframe\">\n",
       "  <thead>\n",
       "    <tr style=\"text-align: right;\">\n",
       "      <th></th>\n",
       "      <th>time</th>\n",
       "      <th>totalPopulation</th>\n",
       "      <th>fertilityRate</th>\n",
       "      <th>lifeExpectancy</th>\n",
       "      <th>childMortality</th>\n",
       "      <th>youthFemaleLiteracy</th>\n",
       "      <th>youthMaleLiteracy</th>\n",
       "      <th>adultLiteracy</th>\n",
       "      <th>GDP_PC</th>\n",
       "      <th>accessElectricity</th>\n",
       "      <th>agriculturalLand</th>\n",
       "      <th>agricultureTractors</th>\n",
       "      <th>cerealProduction</th>\n",
       "      <th>fertilizerHa</th>\n",
       "      <th>co2</th>\n",
       "      <th>greenhouseGases</th>\n",
       "      <th>co2_PC</th>\n",
       "      <th>pm2.5_35</th>\n",
       "      <th>battleDeaths</th>\n",
       "    </tr>\n",
       "  </thead>\n",
       "  <tbody>\n",
       "    <tr>\n",
       "      <th>count</th>\n",
       "      <td>216.0</td>\n",
       "      <td>2.160000e+02</td>\n",
       "      <td>190.000000</td>\n",
       "      <td>189.000000</td>\n",
       "      <td>112.000000</td>\n",
       "      <td>0.0</td>\n",
       "      <td>0.0</td>\n",
       "      <td>0.0</td>\n",
       "      <td>91.000000</td>\n",
       "      <td>0.0</td>\n",
       "      <td>0.0</td>\n",
       "      <td>0.0</td>\n",
       "      <td>0.0</td>\n",
       "      <td>0.0</td>\n",
       "      <td>1.560000e+02</td>\n",
       "      <td>0.0</td>\n",
       "      <td>156.000000</td>\n",
       "      <td>0.0</td>\n",
       "      <td>0.0</td>\n",
       "    </tr>\n",
       "    <tr>\n",
       "      <th>mean</th>\n",
       "      <td>1960.0</td>\n",
       "      <td>1.398490e+07</td>\n",
       "      <td>5.521432</td>\n",
       "      <td>53.898226</td>\n",
       "      <td>151.166071</td>\n",
       "      <td>NaN</td>\n",
       "      <td>NaN</td>\n",
       "      <td>NaN</td>\n",
       "      <td>5050.295040</td>\n",
       "      <td>NaN</td>\n",
       "      <td>NaN</td>\n",
       "      <td>NaN</td>\n",
       "      <td>NaN</td>\n",
       "      <td>NaN</td>\n",
       "      <td>5.204902e+04</td>\n",
       "      <td>NaN</td>\n",
       "      <td>3.420113</td>\n",
       "      <td>NaN</td>\n",
       "      <td>NaN</td>\n",
       "    </tr>\n",
       "    <tr>\n",
       "      <th>std</th>\n",
       "      <td>0.0</td>\n",
       "      <td>5.744975e+07</td>\n",
       "      <td>1.731749</td>\n",
       "      <td>12.195890</td>\n",
       "      <td>95.556097</td>\n",
       "      <td>NaN</td>\n",
       "      <td>NaN</td>\n",
       "      <td>NaN</td>\n",
       "      <td>6829.509163</td>\n",
       "      <td>NaN</td>\n",
       "      <td>NaN</td>\n",
       "      <td>NaN</td>\n",
       "      <td>NaN</td>\n",
       "      <td>NaN</td>\n",
       "      <td>2.697127e+05</td>\n",
       "      <td>NaN</td>\n",
       "      <td>16.820017</td>\n",
       "      <td>NaN</td>\n",
       "      <td>NaN</td>\n",
       "    </tr>\n",
       "    <tr>\n",
       "      <th>min</th>\n",
       "      <td>1960.0</td>\n",
       "      <td>2.833000e+03</td>\n",
       "      <td>1.940000</td>\n",
       "      <td>28.199000</td>\n",
       "      <td>19.600000</td>\n",
       "      <td>NaN</td>\n",
       "      <td>NaN</td>\n",
       "      <td>NaN</td>\n",
       "      <td>153.343930</td>\n",
       "      <td>NaN</td>\n",
       "      <td>NaN</td>\n",
       "      <td>NaN</td>\n",
       "      <td>NaN</td>\n",
       "      <td>NaN</td>\n",
       "      <td>1.100100e+01</td>\n",
       "      <td>NaN</td>\n",
       "      <td>0.007980</td>\n",
       "      <td>NaN</td>\n",
       "      <td>NaN</td>\n",
       "    </tr>\n",
       "    <tr>\n",
       "      <th>25%</th>\n",
       "      <td>1960.0</td>\n",
       "      <td>2.290570e+05</td>\n",
       "      <td>4.216500</td>\n",
       "      <td>43.600000</td>\n",
       "      <td>66.975000</td>\n",
       "      <td>NaN</td>\n",
       "      <td>NaN</td>\n",
       "      <td>NaN</td>\n",
       "      <td>851.151155</td>\n",
       "      <td>NaN</td>\n",
       "      <td>NaN</td>\n",
       "      <td>NaN</td>\n",
       "      <td>NaN</td>\n",
       "      <td>NaN</td>\n",
       "      <td>1.604313e+02</td>\n",
       "      <td>NaN</td>\n",
       "      <td>0.151050</td>\n",
       "      <td>NaN</td>\n",
       "      <td>NaN</td>\n",
       "    </tr>\n",
       "    <tr>\n",
       "      <th>50%</th>\n",
       "      <td>1960.0</td>\n",
       "      <td>2.364900e+06</td>\n",
       "      <td>6.248000</td>\n",
       "      <td>54.701000</td>\n",
       "      <td>149.400000</td>\n",
       "      <td>NaN</td>\n",
       "      <td>NaN</td>\n",
       "      <td>NaN</td>\n",
       "      <td>1751.862910</td>\n",
       "      <td>NaN</td>\n",
       "      <td>NaN</td>\n",
       "      <td>NaN</td>\n",
       "      <td>NaN</td>\n",
       "      <td>NaN</td>\n",
       "      <td>1.023093e+03</td>\n",
       "      <td>NaN</td>\n",
       "      <td>0.480395</td>\n",
       "      <td>NaN</td>\n",
       "      <td>NaN</td>\n",
       "    </tr>\n",
       "    <tr>\n",
       "      <th>75%</th>\n",
       "      <td>1960.0</td>\n",
       "      <td>8.123308e+06</td>\n",
       "      <td>6.802500</td>\n",
       "      <td>64.770000</td>\n",
       "      <td>220.925000</td>\n",
       "      <td>NaN</td>\n",
       "      <td>NaN</td>\n",
       "      <td>NaN</td>\n",
       "      <td>5737.243340</td>\n",
       "      <td>NaN</td>\n",
       "      <td>NaN</td>\n",
       "      <td>NaN</td>\n",
       "      <td>NaN</td>\n",
       "      <td>NaN</td>\n",
       "      <td>1.179582e+04</td>\n",
       "      <td>NaN</td>\n",
       "      <td>2.047810</td>\n",
       "      <td>NaN</td>\n",
       "      <td>NaN</td>\n",
       "    </tr>\n",
       "    <tr>\n",
       "      <th>max</th>\n",
       "      <td>1960.0</td>\n",
       "      <td>6.670700e+08</td>\n",
       "      <td>8.187000</td>\n",
       "      <td>73.549760</td>\n",
       "      <td>391.700000</td>\n",
       "      <td>NaN</td>\n",
       "      <td>NaN</td>\n",
       "      <td>NaN</td>\n",
       "      <td>33362.707620</td>\n",
       "      <td>NaN</td>\n",
       "      <td>NaN</td>\n",
       "      <td>NaN</td>\n",
       "      <td>NaN</td>\n",
       "      <td>NaN</td>\n",
       "      <td>2.890696e+06</td>\n",
       "      <td>NaN</td>\n",
       "      <td>204.620370</td>\n",
       "      <td>NaN</td>\n",
       "      <td>NaN</td>\n",
       "    </tr>\n",
       "  </tbody>\n",
       "</table>\n",
       "</div>"
      ],
      "text/plain": [
       "         time  totalPopulation  fertilityRate  lifeExpectancy  childMortality  \\\n",
       "count   216.0     2.160000e+02     190.000000      189.000000      112.000000   \n",
       "mean   1960.0     1.398490e+07       5.521432       53.898226      151.166071   \n",
       "std       0.0     5.744975e+07       1.731749       12.195890       95.556097   \n",
       "min    1960.0     2.833000e+03       1.940000       28.199000       19.600000   \n",
       "25%    1960.0     2.290570e+05       4.216500       43.600000       66.975000   \n",
       "50%    1960.0     2.364900e+06       6.248000       54.701000      149.400000   \n",
       "75%    1960.0     8.123308e+06       6.802500       64.770000      220.925000   \n",
       "max    1960.0     6.670700e+08       8.187000       73.549760      391.700000   \n",
       "\n",
       "       youthFemaleLiteracy  youthMaleLiteracy  adultLiteracy        GDP_PC  \\\n",
       "count                  0.0                0.0            0.0     91.000000   \n",
       "mean                   NaN                NaN            NaN   5050.295040   \n",
       "std                    NaN                NaN            NaN   6829.509163   \n",
       "min                    NaN                NaN            NaN    153.343930   \n",
       "25%                    NaN                NaN            NaN    851.151155   \n",
       "50%                    NaN                NaN            NaN   1751.862910   \n",
       "75%                    NaN                NaN            NaN   5737.243340   \n",
       "max                    NaN                NaN            NaN  33362.707620   \n",
       "\n",
       "       accessElectricity  agriculturalLand  agricultureTractors  \\\n",
       "count                0.0               0.0                  0.0   \n",
       "mean                 NaN               NaN                  NaN   \n",
       "std                  NaN               NaN                  NaN   \n",
       "min                  NaN               NaN                  NaN   \n",
       "25%                  NaN               NaN                  NaN   \n",
       "50%                  NaN               NaN                  NaN   \n",
       "75%                  NaN               NaN                  NaN   \n",
       "max                  NaN               NaN                  NaN   \n",
       "\n",
       "       cerealProduction  fertilizerHa           co2  greenhouseGases  \\\n",
       "count               0.0           0.0  1.560000e+02              0.0   \n",
       "mean                NaN           NaN  5.204902e+04              NaN   \n",
       "std                 NaN           NaN  2.697127e+05              NaN   \n",
       "min                 NaN           NaN  1.100100e+01              NaN   \n",
       "25%                 NaN           NaN  1.604313e+02              NaN   \n",
       "50%                 NaN           NaN  1.023093e+03              NaN   \n",
       "75%                 NaN           NaN  1.179582e+04              NaN   \n",
       "max                 NaN           NaN  2.890696e+06              NaN   \n",
       "\n",
       "           co2_PC  pm2.5_35  battleDeaths  \n",
       "count  156.000000       0.0           0.0  \n",
       "mean     3.420113       NaN           NaN  \n",
       "std     16.820017       NaN           NaN  \n",
       "min      0.007980       NaN           NaN  \n",
       "25%      0.151050       NaN           NaN  \n",
       "50%      0.480395       NaN           NaN  \n",
       "75%      2.047810       NaN           NaN  \n",
       "max    204.620370       NaN           NaN  "
      ]
     },
     "execution_count": 48,
     "metadata": {},
     "output_type": "execute_result"
    }
   ],
   "source": [
    "#1  First the simple descriptive statistics: compute minimum, maximum, median and mean wealth both in 1960 and 2019.\n",
    "gm_1960 = gm[gm.time == 1960]\n",
    "gm_1960.describe(include=['number'])"
   ]
  },
  {
   "cell_type": "code",
   "execution_count": 21,
   "id": "0a2c935e-7925-490a-aa3a-5ee58d17ed6e",
   "metadata": {},
   "outputs": [
    {
     "data": {
      "text/html": [
       "<div>\n",
       "<style scoped>\n",
       "    .dataframe tbody tr th:only-of-type {\n",
       "        vertical-align: middle;\n",
       "    }\n",
       "\n",
       "    .dataframe tbody tr th {\n",
       "        vertical-align: top;\n",
       "    }\n",
       "\n",
       "    .dataframe thead th {\n",
       "        text-align: right;\n",
       "    }\n",
       "</style>\n",
       "<table border=\"1\" class=\"dataframe\">\n",
       "  <thead>\n",
       "    <tr style=\"text-align: right;\">\n",
       "      <th></th>\n",
       "      <th>time</th>\n",
       "      <th>totalPopulation</th>\n",
       "      <th>fertilityRate</th>\n",
       "      <th>lifeExpectancy</th>\n",
       "      <th>childMortality</th>\n",
       "      <th>youthFemaleLiteracy</th>\n",
       "      <th>youthMaleLiteracy</th>\n",
       "      <th>adultLiteracy</th>\n",
       "      <th>GDP_PC</th>\n",
       "      <th>accessElectricity</th>\n",
       "      <th>agriculturalLand</th>\n",
       "      <th>agricultureTractors</th>\n",
       "      <th>cerealProduction</th>\n",
       "      <th>fertilizerHa</th>\n",
       "      <th>co2</th>\n",
       "      <th>greenhouseGases</th>\n",
       "      <th>co2_PC</th>\n",
       "      <th>pm2.5_35</th>\n",
       "      <th>battleDeaths</th>\n",
       "    </tr>\n",
       "  </thead>\n",
       "  <tbody>\n",
       "    <tr>\n",
       "      <th>count</th>\n",
       "      <td>217.0</td>\n",
       "      <td>2.160000e+02</td>\n",
       "      <td>200.000000</td>\n",
       "      <td>198.000000</td>\n",
       "      <td>193.000000</td>\n",
       "      <td>1.00000</td>\n",
       "      <td>1.0000</td>\n",
       "      <td>1.00000</td>\n",
       "      <td>185.000000</td>\n",
       "      <td>216.000000</td>\n",
       "      <td>0.0</td>\n",
       "      <td>0.0</td>\n",
       "      <td>0.0</td>\n",
       "      <td>0.0</td>\n",
       "      <td>0.0</td>\n",
       "      <td>0.0</td>\n",
       "      <td>0.0</td>\n",
       "      <td>0.0</td>\n",
       "      <td>37.000000</td>\n",
       "    </tr>\n",
       "    <tr>\n",
       "      <th>mean</th>\n",
       "      <td>2019.0</td>\n",
       "      <td>3.540078e+07</td>\n",
       "      <td>2.613507</td>\n",
       "      <td>72.926904</td>\n",
       "      <td>27.623834</td>\n",
       "      <td>96.08776</td>\n",
       "      <td>93.7047</td>\n",
       "      <td>74.68446</td>\n",
       "      <td>15055.352217</td>\n",
       "      <td>86.470255</td>\n",
       "      <td>NaN</td>\n",
       "      <td>NaN</td>\n",
       "      <td>NaN</td>\n",
       "      <td>NaN</td>\n",
       "      <td>NaN</td>\n",
       "      <td>NaN</td>\n",
       "      <td>NaN</td>\n",
       "      <td>NaN</td>\n",
       "      <td>1380.972973</td>\n",
       "    </tr>\n",
       "    <tr>\n",
       "      <th>std</th>\n",
       "      <td>0.0</td>\n",
       "      <td>1.379542e+08</td>\n",
       "      <td>1.239850</td>\n",
       "      <td>7.470629</td>\n",
       "      <td>27.968134</td>\n",
       "      <td>NaN</td>\n",
       "      <td>NaN</td>\n",
       "      <td>NaN</td>\n",
       "      <td>20542.480081</td>\n",
       "      <td>24.423889</td>\n",
       "      <td>NaN</td>\n",
       "      <td>NaN</td>\n",
       "      <td>NaN</td>\n",
       "      <td>NaN</td>\n",
       "      <td>NaN</td>\n",
       "      <td>NaN</td>\n",
       "      <td>NaN</td>\n",
       "      <td>NaN</td>\n",
       "      <td>4987.481543</td>\n",
       "    </tr>\n",
       "    <tr>\n",
       "      <th>min</th>\n",
       "      <td>2019.0</td>\n",
       "      <td>1.164600e+04</td>\n",
       "      <td>0.918000</td>\n",
       "      <td>53.283000</td>\n",
       "      <td>1.700000</td>\n",
       "      <td>96.08776</td>\n",
       "      <td>93.7047</td>\n",
       "      <td>74.68446</td>\n",
       "      <td>208.074730</td>\n",
       "      <td>6.720540</td>\n",
       "      <td>NaN</td>\n",
       "      <td>NaN</td>\n",
       "      <td>NaN</td>\n",
       "      <td>NaN</td>\n",
       "      <td>NaN</td>\n",
       "      <td>NaN</td>\n",
       "      <td>NaN</td>\n",
       "      <td>NaN</td>\n",
       "      <td>0.000000</td>\n",
       "    </tr>\n",
       "    <tr>\n",
       "      <th>25%</th>\n",
       "      <td>2019.0</td>\n",
       "      <td>7.778475e+05</td>\n",
       "      <td>1.659250</td>\n",
       "      <td>67.893000</td>\n",
       "      <td>6.600000</td>\n",
       "      <td>96.08776</td>\n",
       "      <td>93.7047</td>\n",
       "      <td>74.68446</td>\n",
       "      <td>1840.504350</td>\n",
       "      <td>84.762060</td>\n",
       "      <td>NaN</td>\n",
       "      <td>NaN</td>\n",
       "      <td>NaN</td>\n",
       "      <td>NaN</td>\n",
       "      <td>NaN</td>\n",
       "      <td>NaN</td>\n",
       "      <td>NaN</td>\n",
       "      <td>NaN</td>\n",
       "      <td>29.000000</td>\n",
       "    </tr>\n",
       "    <tr>\n",
       "      <th>50%</th>\n",
       "      <td>2019.0</td>\n",
       "      <td>6.661477e+06</td>\n",
       "      <td>2.181000</td>\n",
       "      <td>74.231340</td>\n",
       "      <td>16.600000</td>\n",
       "      <td>96.08776</td>\n",
       "      <td>93.7047</td>\n",
       "      <td>74.68446</td>\n",
       "      <td>5922.527590</td>\n",
       "      <td>100.000000</td>\n",
       "      <td>NaN</td>\n",
       "      <td>NaN</td>\n",
       "      <td>NaN</td>\n",
       "      <td>NaN</td>\n",
       "      <td>NaN</td>\n",
       "      <td>NaN</td>\n",
       "      <td>NaN</td>\n",
       "      <td>NaN</td>\n",
       "      <td>234.000000</td>\n",
       "    </tr>\n",
       "    <tr>\n",
       "      <th>75%</th>\n",
       "      <td>2019.0</td>\n",
       "      <td>2.544085e+07</td>\n",
       "      <td>3.518500</td>\n",
       "      <td>78.479267</td>\n",
       "      <td>42.400000</td>\n",
       "      <td>96.08776</td>\n",
       "      <td>93.7047</td>\n",
       "      <td>74.68446</td>\n",
       "      <td>17409.027430</td>\n",
       "      <td>100.000000</td>\n",
       "      <td>NaN</td>\n",
       "      <td>NaN</td>\n",
       "      <td>NaN</td>\n",
       "      <td>NaN</td>\n",
       "      <td>NaN</td>\n",
       "      <td>NaN</td>\n",
       "      <td>NaN</td>\n",
       "      <td>NaN</td>\n",
       "      <td>603.000000</td>\n",
       "    </tr>\n",
       "    <tr>\n",
       "      <th>max</th>\n",
       "      <td>2019.0</td>\n",
       "      <td>1.397715e+09</td>\n",
       "      <td>6.824000</td>\n",
       "      <td>85.078050</td>\n",
       "      <td>117.200000</td>\n",
       "      <td>96.08776</td>\n",
       "      <td>93.7047</td>\n",
       "      <td>74.68446</td>\n",
       "      <td>111043.531700</td>\n",
       "      <td>100.000000</td>\n",
       "      <td>NaN</td>\n",
       "      <td>NaN</td>\n",
       "      <td>NaN</td>\n",
       "      <td>NaN</td>\n",
       "      <td>NaN</td>\n",
       "      <td>NaN</td>\n",
       "      <td>NaN</td>\n",
       "      <td>NaN</td>\n",
       "      <td>29940.000000</td>\n",
       "    </tr>\n",
       "  </tbody>\n",
       "</table>\n",
       "</div>"
      ],
      "text/plain": [
       "         time  totalPopulation  fertilityRate  lifeExpectancy  childMortality  \\\n",
       "count   217.0     2.160000e+02     200.000000      198.000000      193.000000   \n",
       "mean   2019.0     3.540078e+07       2.613507       72.926904       27.623834   \n",
       "std       0.0     1.379542e+08       1.239850        7.470629       27.968134   \n",
       "min    2019.0     1.164600e+04       0.918000       53.283000        1.700000   \n",
       "25%    2019.0     7.778475e+05       1.659250       67.893000        6.600000   \n",
       "50%    2019.0     6.661477e+06       2.181000       74.231340       16.600000   \n",
       "75%    2019.0     2.544085e+07       3.518500       78.479267       42.400000   \n",
       "max    2019.0     1.397715e+09       6.824000       85.078050      117.200000   \n",
       "\n",
       "       youthFemaleLiteracy  youthMaleLiteracy  adultLiteracy         GDP_PC  \\\n",
       "count              1.00000             1.0000        1.00000     185.000000   \n",
       "mean              96.08776            93.7047       74.68446   15055.352217   \n",
       "std                    NaN                NaN            NaN   20542.480081   \n",
       "min               96.08776            93.7047       74.68446     208.074730   \n",
       "25%               96.08776            93.7047       74.68446    1840.504350   \n",
       "50%               96.08776            93.7047       74.68446    5922.527590   \n",
       "75%               96.08776            93.7047       74.68446   17409.027430   \n",
       "max               96.08776            93.7047       74.68446  111043.531700   \n",
       "\n",
       "       accessElectricity  agriculturalLand  agricultureTractors  \\\n",
       "count         216.000000               0.0                  0.0   \n",
       "mean           86.470255               NaN                  NaN   \n",
       "std            24.423889               NaN                  NaN   \n",
       "min             6.720540               NaN                  NaN   \n",
       "25%            84.762060               NaN                  NaN   \n",
       "50%           100.000000               NaN                  NaN   \n",
       "75%           100.000000               NaN                  NaN   \n",
       "max           100.000000               NaN                  NaN   \n",
       "\n",
       "       cerealProduction  fertilizerHa  co2  greenhouseGases  co2_PC  pm2.5_35  \\\n",
       "count               0.0           0.0  0.0              0.0     0.0       0.0   \n",
       "mean                NaN           NaN  NaN              NaN     NaN       NaN   \n",
       "std                 NaN           NaN  NaN              NaN     NaN       NaN   \n",
       "min                 NaN           NaN  NaN              NaN     NaN       NaN   \n",
       "25%                 NaN           NaN  NaN              NaN     NaN       NaN   \n",
       "50%                 NaN           NaN  NaN              NaN     NaN       NaN   \n",
       "75%                 NaN           NaN  NaN              NaN     NaN       NaN   \n",
       "max                 NaN           NaN  NaN              NaN     NaN       NaN   \n",
       "\n",
       "       battleDeaths  \n",
       "count     37.000000  \n",
       "mean    1380.972973  \n",
       "std     4987.481543  \n",
       "min        0.000000  \n",
       "25%       29.000000  \n",
       "50%      234.000000  \n",
       "75%      603.000000  \n",
       "max    29940.000000  "
      ]
     },
     "execution_count": 21,
     "metadata": {},
     "output_type": "execute_result"
    }
   ],
   "source": [
    "gm_2019 = gm[gm.time == 2019]\n",
    "gm_2019.describe(include=['number'])"
   ]
  },
  {
   "cell_type": "markdown",
   "id": "4b91c8bd-afaa-4eba-aa25-7fd6a5e59ed3",
   "metadata": {},
   "source": [
    "- In 1960, minimum wealth value is about 153, maximum is about 33362, median is about 1751, mean is about 5050.\n",
    "- In 2019, minimum wealth value is about 208, maximum is about 111043, median is about 5922, mean is about 15055."
   ]
  },
  {
   "cell_type": "code",
   "execution_count": 22,
   "id": "0428c37b-d290-464d-a0f0-f7f052a367ee",
   "metadata": {},
   "outputs": [],
   "source": [
    "#2 What do these figures suggest? Has the world become richer? Has it become more equal/inequal? Anything else you notice here?"
   ]
  },
  {
   "cell_type": "markdown",
   "id": "59fd36a7-30f9-4175-8217-6d2fa90c787d",
   "metadata": {},
   "source": [
    "- Seeing the median and mean of the wealth value, it seems that the world has become richer. Plus, seeing that the standard deviation is getting smaller, it seems that it has become more equal."
   ]
  },
  {
   "cell_type": "code",
   "execution_count": 23,
   "id": "aceb07f3-dbb4-4785-b512-f8ccacac5d3c",
   "metadata": {},
   "outputs": [
    {
     "data": {
      "text/plain": [
       "(array([59., 11.,  3.,  7.,  3.,  4.,  2.,  0.,  1.,  1.]),\n",
       " array([  153.34393 ,  3474.280299,  6795.216668, 10116.153037,\n",
       "        13437.089406, 16758.025775, 20078.962144, 23399.898513,\n",
       "        26720.834882, 30041.771251, 33362.70762 ]),\n",
       " <BarContainer object of 10 artists>)"
      ]
     },
     "execution_count": 23,
     "metadata": {},
     "output_type": "execute_result"
    },
    {
     "data": {
      "image/png": "[encoded data removed]",
      "text/plain": [
       "<Figure size 432x288 with 1 Axes>"
      ]
     },
     "metadata": {
      "needs_background": "light"
     },
     "output_type": "display_data"
    }
   ],
   "source": [
    "#3 Plot histograms of world wealth for 1960 and 2019.\n",
    "plt.hist(gm[gm.time == 1960].GDP_PC)"
   ]
  },
  {
   "cell_type": "code",
   "execution_count": 24,
   "id": "31f7e181-8175-4bf4-bb78-71f1f4c9c498",
   "metadata": {},
   "outputs": [
    {
     "data": {
      "text/plain": [
       "(array([121.,  24.,  12.,   7.,  10.,   6.,   0.,   2.,   2.,   1.]),\n",
       " array([   208.07473 ,  11291.620427,  22375.166124,  33458.711821,\n",
       "         44542.257518,  55625.803215,  66709.348912,  77792.894609,\n",
       "         88876.440306,  99959.986003, 111043.5317  ]),\n",
       " <BarContainer object of 10 artists>)"
      ]
     },
     "execution_count": 24,
     "metadata": {},
     "output_type": "execute_result"
    },
    {
     "data": {
      "image/png": "[encoded data removed]",
      "text/plain": [
       "<Figure size 432x288 with 1 Axes>"
      ]
     },
     "metadata": {
      "needs_background": "light"
     },
     "output_type": "display_data"
    }
   ],
   "source": [
    "plt.hist(gm[gm.time == 2019].GDP_PC)"
   ]
  },
  {
   "cell_type": "code",
   "execution_count": 25,
   "id": "7f4a15cf-0554-4326-b06a-b9644eb90853",
   "metadata": {},
   "outputs": [],
   "source": [
    "#4 Compare these histograms. Comment what do you see."
   ]
  },
  {
   "cell_type": "markdown",
   "id": "591a6663-d906-496a-a4ee-ba8fb169b293",
   "metadata": {},
   "source": [
    "- The range of x-axis, GDP value, in 2019 is wider than that in 1960. Therefore, the overall GDP value becomes higher."
   ]
  },
  {
   "cell_type": "code",
   "execution_count": 26,
   "id": "4ea1df9d-d48b-4757-b04d-440bf28a48b7",
   "metadata": {},
   "outputs": [
    {
     "data": {
      "text/plain": [
       "318426.61393"
      ]
     },
     "execution_count": 26,
     "metadata": {},
     "output_type": "execute_result"
    }
   ],
   "source": [
    "#5 Compute the quintile share ratio of GDP per capita for 1960 and 2019. What does it tell you–has inequality grown over time?\n",
    "gm_1960_top_20 = gm_1960[gm_1960.GDP_PC >= gm_1960.GDP_PC.quantile(.8)]\n",
    "gm_1960_top_20.GDP_PC.sum()"
   ]
  },
  {
   "cell_type": "code",
   "execution_count": 27,
   "id": "4266c60a-556c-40d0-ac13-37e6cf7b2ed3",
   "metadata": {},
   "outputs": [
    {
     "data": {
      "text/plain": [
       "7081.50593"
      ]
     },
     "execution_count": 27,
     "metadata": {},
     "output_type": "execute_result"
    }
   ],
   "source": [
    "gm_1960_bottom_20 = gm_1960[gm_1960.GDP_PC <= gm_1960.GDP_PC.quantile(.2)]\n",
    "gm_1960_bottom_20.GDP_PC.sum()"
   ]
  },
  {
   "cell_type": "code",
   "execution_count": 28,
   "id": "dcde1dc3-2182-4d9b-954c-746d62de9c57",
   "metadata": {},
   "outputs": [
    {
     "data": {
      "text/plain": [
       "44.965946096439964"
      ]
     },
     "execution_count": 28,
     "metadata": {},
     "output_type": "execute_result"
    }
   ],
   "source": [
    "318426.61393 / 7081.50593"
   ]
  },
  {
   "cell_type": "markdown",
   "id": "f98ca5b7-af7a-4eea-a4e8-c1d0eb0ea782",
   "metadata": {},
   "source": [
    "- The QSR for 1960 is about 44.97"
   ]
  },
  {
   "cell_type": "code",
   "execution_count": 29,
   "id": "3d394e68-67e3-4b68-b01f-e8a15e64b6c7",
   "metadata": {},
   "outputs": [
    {
     "data": {
      "text/plain": [
       "1868384.4504999998"
      ]
     },
     "execution_count": 29,
     "metadata": {},
     "output_type": "execute_result"
    }
   ],
   "source": [
    "gm_2019_top_20 = gm_2019[gm_2019.GDP_PC >= gm_2019.GDP_PC.quantile(.8)]\n",
    "gm_2019_top_20.GDP_PC.sum()"
   ]
  },
  {
   "cell_type": "code",
   "execution_count": 30,
   "id": "3d45b547-4719-49f9-ad1a-eec660159563",
   "metadata": {},
   "outputs": [
    {
     "data": {
      "text/plain": [
       "32649.716679999998"
      ]
     },
     "execution_count": 30,
     "metadata": {},
     "output_type": "execute_result"
    }
   ],
   "source": [
    "gm_2019_bottom_20 = gm_2019[gm_2019.GDP_PC <= gm_2019.GDP_PC.quantile(.2)]\n",
    "gm_2019_bottom_20.GDP_PC.sum()"
   ]
  },
  {
   "cell_type": "code",
   "execution_count": 31,
   "id": "916e5f01-274f-4df9-8514-1b5022333170",
   "metadata": {},
   "outputs": [
    {
     "data": {
      "text/plain": [
       "57.22513517688509"
      ]
     },
     "execution_count": 31,
     "metadata": {},
     "output_type": "execute_result"
    }
   ],
   "source": [
    "1868384.4504999998 / 32649.716679999998"
   ]
  },
  {
   "cell_type": "markdown",
   "id": "2ea360ac-9d4f-413f-9b8b-b57f8d1adb6f",
   "metadata": {},
   "source": [
    "- The QSR for 2019 is about 57.23"
   ]
  },
  {
   "cell_type": "markdown",
   "id": "887fc114-d893-4a13-85c4-01aff8bb14e9",
   "metadata": {},
   "source": [
    "- The QSR for 2019 is bigger than that for 1960, meaning that the inequality has grown over time."
   ]
  },
  {
   "cell_type": "code",
   "execution_count": 199,
   "id": "61e63a2a-2668-432b-b849-868fc36f28dd",
   "metadata": {},
   "outputs": [
    {
     "data": {
      "text/plain": [
       "318426.61393"
      ]
     },
     "execution_count": 199,
     "metadata": {},
     "output_type": "execute_result"
    }
   ],
   "source": [
    "#6 Now compute the Pareto ratio for the same two years. Will your conclusion be the same?\n",
    "gm_1960_top_20 = gm_1960[gm_1960.GDP_PC >= gm_1960.GDP_PC.quantile(.8)]\n",
    "gm_1960_top_20.GDP_PC.sum()"
   ]
  },
  {
   "cell_type": "code",
   "execution_count": 157,
   "id": "5ec2082a-873f-497c-b654-f6f0039e657e",
   "metadata": {},
   "outputs": [
    {
     "data": {
      "text/plain": [
       "459576.84862"
      ]
     },
     "execution_count": 157,
     "metadata": {},
     "output_type": "execute_result"
    }
   ],
   "source": [
    "gm_1960.GDP_PC.sum()"
   ]
  },
  {
   "cell_type": "code",
   "execution_count": 195,
   "id": "c722715c-487f-4ee6-9e30-99526b15e952",
   "metadata": {},
   "outputs": [
    {
     "data": {
      "text/plain": [
       "0.6928691357847102"
      ]
     },
     "execution_count": 195,
     "metadata": {},
     "output_type": "execute_result"
    }
   ],
   "source": [
    "318426.61393 / 459576.84862"
   ]
  },
  {
   "cell_type": "code",
   "execution_count": 196,
   "id": "6a72916a-2021-44e9-acc6-620426749797",
   "metadata": {},
   "outputs": [
    {
     "data": {
      "text/plain": [
       "1868384.4504999998"
      ]
     },
     "execution_count": 196,
     "metadata": {},
     "output_type": "execute_result"
    }
   ],
   "source": [
    "gm_2019_top_20 = gm_2019[gm_2019.GDP_PC >= gm_2019.GDP_PC.quantile(.8)]\n",
    "gm_2019_top_20.GDP_PC.sum()"
   ]
  },
  {
   "cell_type": "code",
   "execution_count": 188,
   "id": "d94c06d8-5b9f-49a6-86ac-91bd6d32beac",
   "metadata": {},
   "outputs": [
    {
     "data": {
      "text/plain": [
       "2785240.16019"
      ]
     },
     "execution_count": 188,
     "metadata": {},
     "output_type": "execute_result"
    }
   ],
   "source": [
    "gm_2019.GDP_PC.sum()"
   ]
  },
  {
   "cell_type": "code",
   "execution_count": 197,
   "id": "a3a69d51-166c-4f38-959c-c7c2f98b1ba0",
   "metadata": {},
   "outputs": [
    {
     "data": {
      "text/plain": [
       "0.6708162826334317"
      ]
     },
     "execution_count": 197,
     "metadata": {},
     "output_type": "execute_result"
    }
   ],
   "source": [
    "1868384.4504999998 / 2785240.16019"
   ]
  },
  {
   "cell_type": "markdown",
   "id": "8bab052d-50f7-4628-9de5-2455b517a0d9",
   "metadata": {},
   "source": [
    "- In 1960, top 20% is responsible for about 69% of the total. In 2019, top 20% is responsible for about 67% of the total. It seems that the inequality has not grown over time. My conclusion changed."
   ]
  },
  {
   "cell_type": "code",
   "execution_count": 198,
   "id": "a772ea79-0bb9-4c29-af32-d53d2deae41a",
   "metadata": {},
   "outputs": [],
   "source": [
    "#7 What do you think–are these data useful to tell something about how the world inequality has changed over the last 60 years?"
   ]
  },
  {
   "cell_type": "markdown",
   "id": "d29ec685-401d-47bc-b473-77494c5efb2a",
   "metadata": {},
   "source": [
    "- I think that these data can be useful to tell about the inequality, but it is necessary to consider various things and think deeply since conclusions can vary depending on which priciple is used."
   ]
  },
  {
   "cell_type": "markdown",
   "id": "56783141-0bc6-42dc-b439-98ee1a7a32ab",
   "metadata": {},
   "source": [
    "### Q.4 Health"
   ]
  },
  {
   "cell_type": "code",
   "execution_count": 34,
   "id": "b6bffca8-be6d-4205-9bd3-94f18edbd06b",
   "metadata": {},
   "outputs": [
    {
     "data": {
      "text/plain": [
       "104"
      ]
     },
     "execution_count": 34,
     "metadata": {},
     "output_type": "execute_result"
    }
   ],
   "source": [
    "#1 How many countries do not have CM data for year 1960? \n",
    "#  How many countries do not have this information for year 2019? \n",
    "#  So is data improving over time?\n",
    "gm_1960.childMortality.isna().sum()"
   ]
  },
  {
   "cell_type": "code",
   "execution_count": 35,
   "id": "6248648b-a958-4bc1-aa85-c4be9f0ee484",
   "metadata": {},
   "outputs": [
    {
     "data": {
      "text/plain": [
       "24"
      ]
     },
     "execution_count": 35,
     "metadata": {},
     "output_type": "execute_result"
    }
   ],
   "source": [
    "gm_2019.childMortality.isna().sum()"
   ]
  },
  {
   "cell_type": "markdown",
   "id": "6590f2d8-6284-46e6-9224-667740302fbc",
   "metadata": {},
   "source": [
    "- There are 104 countries that do not have CM data for year 1960, while there are 24 countires for year 2019. It means that the data is improving over time."
   ]
  },
  {
   "cell_type": "code",
   "execution_count": 201,
   "id": "4e28907e-6a38-4d51-8ba8-8b593ff352c3",
   "metadata": {},
   "outputs": [
    {
     "data": {
      "text/plain": [
       "iso3                                  MLI\n",
       "name                                 Mali\n",
       "iso2                                   ML\n",
       "region                             Africa\n",
       "sub-region             Sub-Saharan Africa\n",
       "intermediate-region        Western Africa\n",
       "time                               1963.0\n",
       "totalPopulation                 5441613.0\n",
       "fertilityRate                       7.011\n",
       "lifeExpectancy                     28.782\n",
       "childMortality                      420.6\n",
       "youthFemaleLiteracy                   NaN\n",
       "youthMaleLiteracy                     NaN\n",
       "adultLiteracy                         NaN\n",
       "GDP_PC                                NaN\n",
       "accessElectricity                     NaN\n",
       "agriculturalLand                 317080.0\n",
       "agricultureTractors                 150.0\n",
       "cerealProduction                1058200.0\n",
       "fertilizerHa                      0.21238\n",
       "co2                               176.016\n",
       "greenhouseGases                       NaN\n",
       "co2_PC                            0.03235\n",
       "pm2.5_35                              NaN\n",
       "battleDeaths                          NaN\n",
       "Name: 7703, dtype: object"
      ]
     },
     "execution_count": 201,
     "metadata": {},
     "output_type": "execute_result"
    }
   ],
   "source": [
    "#2 What is the largest and smallest CM in data? Which years/countries does this correspond to?\n",
    "gm.loc[gm.childMortality.nlargest().idxmax()]"
   ]
  },
  {
   "cell_type": "code",
   "execution_count": 200,
   "id": "35df5f89-7238-4347-950b-b1279f7a3302",
   "metadata": {},
   "outputs": [
    {
     "data": {
      "text/plain": [
       "iso3                               SMR\n",
       "name                        San Marino\n",
       "iso2                                SM\n",
       "region                          Europe\n",
       "sub-region             Southern Europe\n",
       "intermediate-region                NaN\n",
       "time                            2018.0\n",
       "totalPopulation                33785.0\n",
       "fertilityRate                      NaN\n",
       "lifeExpectancy                     NaN\n",
       "childMortality                     1.7\n",
       "youthFemaleLiteracy              100.0\n",
       "youthMaleLiteracy                100.0\n",
       "adultLiteracy                 99.91643\n",
       "GDP_PC                     50023.78642\n",
       "accessElectricity                100.0\n",
       "agriculturalLand                  23.0\n",
       "agricultureTractors                NaN\n",
       "cerealProduction                   NaN\n",
       "fertilizerHa                       NaN\n",
       "co2                                NaN\n",
       "greenhouseGases                    NaN\n",
       "co2_PC                             NaN\n",
       "pm2.5_35                           NaN\n",
       "battleDeaths                       NaN\n",
       "Name: 10587, dtype: object"
      ]
     },
     "execution_count": 200,
     "metadata": {},
     "output_type": "execute_result"
    }
   ],
   "source": [
    "gm.loc[gm.childMortality.nsmallest().idxmin()]"
   ]
  },
  {
   "cell_type": "markdown",
   "id": "b855956a-a26c-4efa-8375-d40e95ffeb30",
   "metadata": {},
   "source": [
    "- The largest CM in data is 420.6 in Mali in 1963, and the smallest CM in data is 1.7 in San Marino in 2018."
   ]
  },
  {
   "cell_type": "code",
   "execution_count": 74,
   "id": "327ac79f-214a-4fd4-b919-9f9bd4bc77a4",
   "metadata": {},
   "outputs": [
    {
     "data": {
      "text/html": [
       "<div>\n",
       "<style scoped>\n",
       "    .dataframe tbody tr th:only-of-type {\n",
       "        vertical-align: middle;\n",
       "    }\n",
       "\n",
       "    .dataframe tbody tr th {\n",
       "        vertical-align: top;\n",
       "    }\n",
       "\n",
       "    .dataframe thead th {\n",
       "        text-align: right;\n",
       "    }\n",
       "</style>\n",
       "<table border=\"1\" class=\"dataframe\">\n",
       "  <thead>\n",
       "    <tr style=\"text-align: right;\">\n",
       "      <th></th>\n",
       "      <th>region</th>\n",
       "      <th>name</th>\n",
       "      <th>childMortality</th>\n",
       "    </tr>\n",
       "  </thead>\n",
       "  <tbody>\n",
       "    <tr>\n",
       "      <th>6679</th>\n",
       "      <td>Africa</td>\n",
       "      <td>Libya</td>\n",
       "      <td>11.5</td>\n",
       "    </tr>\n",
       "    <tr>\n",
       "      <th>1986</th>\n",
       "      <td>Americas</td>\n",
       "      <td>Canada</td>\n",
       "      <td>4.9</td>\n",
       "    </tr>\n",
       "    <tr>\n",
       "      <th>2890</th>\n",
       "      <td>Asia</td>\n",
       "      <td>Cyprus</td>\n",
       "      <td>2.3</td>\n",
       "    </tr>\n",
       "    <tr>\n",
       "      <th>10588</th>\n",
       "      <td>Europe</td>\n",
       "      <td>San Marino</td>\n",
       "      <td>1.7</td>\n",
       "    </tr>\n",
       "    <tr>\n",
       "      <th>663</th>\n",
       "      <td>Oceania</td>\n",
       "      <td>Australia</td>\n",
       "      <td>3.6</td>\n",
       "    </tr>\n",
       "  </tbody>\n",
       "</table>\n",
       "</div>"
      ],
      "text/plain": [
       "         region        name  childMortality\n",
       "6679     Africa       Libya            11.5\n",
       "1986   Americas      Canada             4.9\n",
       "2890       Asia      Cyprus             2.3\n",
       "10588    Europe  San Marino             1.7\n",
       "663     Oceania   Australia             3.6"
      ]
     },
     "execution_count": 74,
     "metadata": {},
     "output_type": "execute_result"
    }
   ],
   "source": [
    "#3 For each continent, which country has the smallest and the largest CM (in 2019)?\n",
    "gm_2019_min_region = gm.loc[gm_2019.groupby('region')['childMortality'].idxmin()]\n",
    "gm_2019_min_region[['region','name', 'childMortality']]"
   ]
  },
  {
   "cell_type": "code",
   "execution_count": 75,
   "id": "bb8b4908-4fdf-4cc7-9d3b-ddb9e2f9d366",
   "metadata": {},
   "outputs": [
    {
     "data": {
      "text/html": [
       "<div>\n",
       "<style scoped>\n",
       "    .dataframe tbody tr th:only-of-type {\n",
       "        vertical-align: middle;\n",
       "    }\n",
       "\n",
       "    .dataframe tbody tr th {\n",
       "        vertical-align: top;\n",
       "    }\n",
       "\n",
       "    .dataframe thead th {\n",
       "        text-align: right;\n",
       "    }\n",
       "</style>\n",
       "<table border=\"1\" class=\"dataframe\">\n",
       "  <thead>\n",
       "    <tr style=\"text-align: right;\">\n",
       "      <th></th>\n",
       "      <th>region</th>\n",
       "      <th>name</th>\n",
       "      <th>childMortality</th>\n",
       "    </tr>\n",
       "  </thead>\n",
       "  <tbody>\n",
       "    <tr>\n",
       "      <th>8603</th>\n",
       "      <td>Africa</td>\n",
       "      <td>Nigeria</td>\n",
       "      <td>117.2</td>\n",
       "    </tr>\n",
       "    <tr>\n",
       "      <th>5176</th>\n",
       "      <td>Americas</td>\n",
       "      <td>Haiti</td>\n",
       "      <td>62.8</td>\n",
       "    </tr>\n",
       "    <tr>\n",
       "      <th>9144</th>\n",
       "      <td>Asia</td>\n",
       "      <td>Pakistan</td>\n",
       "      <td>67.2</td>\n",
       "    </tr>\n",
       "    <tr>\n",
       "      <th>7399</th>\n",
       "      <td>Europe</td>\n",
       "      <td>Moldova, Republic of</td>\n",
       "      <td>14.4</td>\n",
       "    </tr>\n",
       "    <tr>\n",
       "      <th>6199</th>\n",
       "      <td>Oceania</td>\n",
       "      <td>Kiribati</td>\n",
       "      <td>50.9</td>\n",
       "    </tr>\n",
       "  </tbody>\n",
       "</table>\n",
       "</div>"
      ],
      "text/plain": [
       "        region                  name  childMortality\n",
       "8603    Africa               Nigeria           117.2\n",
       "5176  Americas                 Haiti            62.8\n",
       "9144      Asia              Pakistan            67.2\n",
       "7399    Europe  Moldova, Republic of            14.4\n",
       "6199   Oceania              Kiribati            50.9"
      ]
     },
     "execution_count": 75,
     "metadata": {},
     "output_type": "execute_result"
    }
   ],
   "source": [
    "gm_2019_max_region = gm.loc[gm_2019.groupby('region')['childMortality'].idxmax()]\n",
    "gm_2019_max_region[['region','name', 'childMortality']]"
   ]
  },
  {
   "cell_type": "markdown",
   "id": "19bbae18-ae09-4fc0-9de6-341840fa6041",
   "metadata": {},
   "source": [
    "- In 2019, Libya has the smallest CM, while Nigeria has the largest CM in Africa. Canada has the smallest CM, while Haiti has the largest CM in Americas. Cyprus has the smallest CM, while Pakistan has the largest CM in Asia. San Marino has the smallest CM, while Republic of Moldova has the largest CM is Europe. Australia has the smallest CM, while Kiribati has the largest CM in Oceania."
   ]
  },
  {
   "cell_type": "markdown",
   "id": "a66db18e-7fcd-45b0-b3f9-d862959d572a",
   "metadata": {},
   "source": [
    "### Q.5 Graphical Analysis "
   ]
  },
  {
   "cell_type": "code",
   "execution_count": 203,
   "id": "6283fecd-9af1-4ba2-a790-4a3615cfc441",
   "metadata": {},
   "outputs": [
    {
     "data": {
      "text/plain": [
       "<AxesSubplot:xlabel='time', ylabel='childMortality'>"
      ]
     },
     "execution_count": 203,
     "metadata": {},
     "output_type": "execute_result"
    },
    {
     "data": {
      "image/png": "[encoded data removed]",
      "text/plain": [
       "<Figure size 432x288 with 1 Axes>"
      ]
     },
     "metadata": {
      "needs_background": "light"
     },
     "output_type": "display_data"
    }
   ],
   "source": [
    "#1 Make a plot of child mortality over time.\n",
    "sns.lineplot(x=\"time\", y=\"childMortality\", hue=\"name\", \n",
    "             data=gm[gm[\"name\"].isin([\"San Marino\",\"Nigeria\",\"Turkey\", \"Canada\", \"Kiribati\"])],\n",
    "             palette=['red', 'blue', 'green', 'purple', 'black'])"
   ]
  },
  {
   "cell_type": "markdown",
   "id": "f8c7d9d3-cb02-4a15-8258-2eeb6fa14098",
   "metadata": {},
   "source": [
    "##### Q.How much time did you spend on this PS? "
   ]
  },
  {
   "cell_type": "markdown",
   "id": "a157c56e-e1b3-47ef-a03b-a5c2d97ce44d",
   "metadata": {},
   "source": [
    "- I spent about 6 hours."
   ]
  }
 ],
 "metadata": {
  "kernelspec": {
   "display_name": "Python 3 (ipykernel)",
   "language": "python",
   "name": "python3"
  },
  "language_info": {
   "codemirror_mode": {
    "name": "ipython",
    "version": 3
   },
   "file_extension": ".py",
   "mimetype": "text/x-python",
   "name": "python",
   "nbconvert_exporter": "python",
   "pygments_lexer": "ipython3",
   "version": "3.9.7"
  }
 },
 "nbformat": 4,
 "nbformat_minor": 5
}
