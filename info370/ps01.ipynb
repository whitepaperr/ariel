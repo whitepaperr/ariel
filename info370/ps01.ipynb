{
 "cells": [
  {
   "cell_type": "markdown",
   "id": "47b77ce3-4b0a-4c9b-94a1-9c1977b73830",
   "metadata": {},
   "source": [
    "### Q.1.1 Computing"
   ]
  },
  {
   "cell_type": "code",
   "execution_count": 2,
   "id": "ad5724b3-1317-43eb-a593-e5333071bca5",
   "metadata": {},
   "outputs": [
    {
     "name": "stdout",
     "output_type": "stream",
     "text": [
      "31536000\n"
     ]
    }
   ],
   "source": [
    "#1 How many seconds are there in year?\n",
    "seconds_in_year = 365 * 24 * 60 * 60\n",
    "print(seconds_in_year)"
   ]
  },
  {
   "cell_type": "markdown",
   "id": "1d72fbc0-a0f3-4185-99d1-db4a6c9ea4f3",
   "metadata": {},
   "source": [
    "- There are 31536000 seconds in one year."
   ]
  },
  {
   "cell_type": "code",
   "execution_count": 3,
   "id": "5d75360b-4a39-44eb-bc78-89840a86ee5e",
   "metadata": {},
   "outputs": [
    {
     "name": "stdout",
     "output_type": "stream",
     "text": [
      "2522880000\n"
     ]
    }
   ],
   "source": [
    "#2 How many seconds in a typical human lifetime? Use the previous computed seconds in year.\n",
    "seconds_lifetime = 80 * seconds_in_year\n",
    "print(seconds_lifetime)"
   ]
  },
  {
   "cell_type": "markdown",
   "id": "d6e3efef-86fa-4fe1-a4cd-51ca15108db0",
   "metadata": {},
   "source": [
    "- Typical human lifetime is about 80 years. So, most people live 2522880000 seconds."
   ]
  },
  {
   "cell_type": "code",
   "execution_count": 4,
   "id": "b4d5b2b9-83dd-46f8-95c1-3c7c3c716a21",
   "metadata": {},
   "outputs": [
    {
     "name": "stdout",
     "output_type": "stream",
     "text": [
      "662256000\n"
     ]
    }
   ],
   "source": [
    "#3 What is your age in seconds? Compute this based on your age.\n",
    "my_age_in_seconds = 21 * seconds_in_year\n",
    "print(my_age_in_seconds)"
   ]
  },
  {
   "cell_type": "markdown",
   "id": "522a4983-a172-4f8d-a37f-c7fd9d6673f2",
   "metadata": {},
   "source": [
    "- I am 21 years old. In other words, I am 662256000 seconds old."
   ]
  },
  {
   "cell_type": "code",
   "execution_count": 5,
   "id": "97788e11-ec65-4dcb-bf33-d779aeb61c62",
   "metadata": {},
   "outputs": [
    {
     "name": "stdout",
     "output_type": "stream",
     "text": [
      "False\n"
     ]
    }
   ],
   "source": [
    "#4 Create a logical variable that is true if you are more than 700M seconds old. Use logical operator, not if/else!\n",
    "print(bool(my_age_in_seconds > 700000000))"
   ]
  },
  {
   "cell_type": "code",
   "execution_count": 6,
   "id": "a6ccc5c2-ac9d-4703-8b79-ecb237f00583",
   "metadata": {},
   "outputs": [
    {
     "data": {
      "text/plain": [
       "0.24"
      ]
     },
     "execution_count": 6,
     "metadata": {},
     "output_type": "execute_result"
    }
   ],
   "source": [
    "#5 Compute the following mathematical formulas:\n",
    "p = 0.4\n",
    "p * (1 - p)"
   ]
  },
  {
   "cell_type": "code",
   "execution_count": 7,
   "id": "cf7a1a37-3b21-48d0-864d-125a320707b0",
   "metadata": {},
   "outputs": [
    {
     "data": {
      "text/plain": [
       "0.058527663465935076"
      ]
     },
     "execution_count": 7,
     "metadata": {},
     "output_type": "execute_result"
    }
   ],
   "source": [
    "a = 3\n",
    "x0 = 2\n",
    "x = 2.5\n",
    "a / x0 * (1 + x / x0)**(-a - 1)"
   ]
  },
  {
   "cell_type": "markdown",
   "id": "aa61e88d-6360-49aa-8da2-30313bcfb4ff",
   "metadata": {},
   "source": [
    "### Q.1.2 Lists"
   ]
  },
  {
   "cell_type": "code",
   "execution_count": 8,
   "id": "aafe93a4-a6f4-4a45-a64f-6d0dca98bc43",
   "metadata": {},
   "outputs": [
    {
     "name": "stdout",
     "output_type": "stream",
     "text": [
      "['Spiderman', 'Kissing Booth', 'Inception', 'Up', 'La La Land', 'Titanic']\n"
     ]
    }
   ],
   "source": [
    "#1 Create a list 'movies' that contains the names of at least six movies you like.\n",
    "movies = ['Spiderman', 'Kissing Booth', 'Inception', 'Up', 'La La Land', 'Titanic']\n",
    "print(movies)"
   ]
  },
  {
   "cell_type": "code",
   "execution_count": 9,
   "id": "728947b9-c883-4a63-9b0d-1eb70eb67a1c",
   "metadata": {},
   "outputs": [
    {
     "data": {
      "text/plain": [
       "['Spiderman', 'Kissing Booth', 'Inception']"
      ]
     },
     "execution_count": 9,
     "metadata": {},
     "output_type": "execute_result"
    }
   ],
   "source": [
    "#2 Using indexing and slicing, Create a list of three first movies in the list.\n",
    "movies[:3]"
   ]
  },
  {
   "cell_type": "code",
   "execution_count": 10,
   "id": "a46fa670-884d-45e4-86a9-4020e92a0a7f",
   "metadata": {},
   "outputs": [
    {
     "data": {
      "text/plain": [
       "['Spiderman', 'Kissing Booth', 'La La Land', 'Titanic']"
      ]
     },
     "execution_count": 10,
     "metadata": {},
     "output_type": "execute_result"
    }
   ],
   "source": [
    "#3 Use slicing and list concentration to create a list of the first two and the last two movies.\n",
    "movies[0:2] + movies[4:]"
   ]
  },
  {
   "cell_type": "code",
   "execution_count": 11,
   "id": "a23f17b8-b59b-40e0-8419-89e16ba90243",
   "metadata": {},
   "outputs": [
    {
     "data": {
      "text/plain": [
       "['Titanic', 'La La Land', 'Up', 'Inception', 'Kissing Booth', 'Spiderman']"
      ]
     },
     "execution_count": 11,
     "metadata": {},
     "output_type": "execute_result"
    }
   ],
   "source": [
    "#4 Use slicing to list the movies in the opposite order.\n",
    "movies[::-1]"
   ]
  },
  {
   "cell_type": "markdown",
   "id": "f4e949d2-8a1f-4c9b-bfde-c8370e013d6f",
   "metadata": {},
   "source": [
    "### Q.1.3 Loops"
   ]
  },
  {
   "cell_type": "code",
   "execution_count": 12,
   "id": "103b4940-675b-4a30-90fe-6fb523385906",
   "metadata": {},
   "outputs": [
    {
     "name": "stdout",
     "output_type": "stream",
     "text": [
      "[70, 71, 72, 73, 74, 75, 76, 77, 78, 79]\n"
     ]
    }
   ],
   "source": [
    "#1 Create a list 'numbers' that is the numbers 70 through 79 in the following manner.\n",
    "numbers = []\n",
    "for i in range(70,80):\n",
    "    numbers.append(i)\n",
    "print(numbers)"
   ]
  },
  {
   "cell_type": "code",
   "execution_count": 13,
   "id": "477ff484-a99c-4cb7-8549-932b050456a5",
   "metadata": {},
   "outputs": [
    {
     "name": "stdout",
     "output_type": "stream",
     "text": [
      "74.5\n"
     ]
    }
   ],
   "source": [
    "#2 Use a loop to compute the mean value of the list.\n",
    "sum = 0\n",
    "for i in numbers:\n",
    "    sum += i\n",
    "print(sum / 10)"
   ]
  },
  {
   "cell_type": "code",
   "execution_count": 14,
   "id": "f1ac93c6-e84c-449e-8272-6f905e14d380",
   "metadata": {},
   "outputs": [
    {
     "name": "stdout",
     "output_type": "stream",
     "text": [
      "5050\n"
     ]
    }
   ],
   "source": [
    "#3 Use loop to compute sum of all integers from 1 till 100.\n",
    "sum = 0\n",
    "for i in range(1,101):\n",
    "    sum += i\n",
    "print(sum)"
   ]
  },
  {
   "cell_type": "code",
   "execution_count": 15,
   "id": "41746f1b-93b4-4a25-b8d3-1da904fdf814",
   "metadata": {},
   "outputs": [
    {
     "name": "stdout",
     "output_type": "stream",
     "text": [
      "['Adam: 33', 'Ashin: 12', 'Inukai: 45', 'Tanaka: 2', 'Ikki: 17']\n"
     ]
    }
   ],
   "source": [
    "#4 Assign people to seat.\n",
    "people = [\"Adam\", \"Ashin\", \"Inukai\", \"Tanaka\", \"Ikki\"]\n",
    "seat = [\"33\", \"12\", \"45\", \"2\", \"17\"]\n",
    "assigned = []\n",
    "for i in range(5):\n",
    "    assigned.append(people[i] + \": \" + seat[i])\n",
    "print(assigned)"
   ]
  },
  {
   "cell_type": "markdown",
   "id": "ebaaaf8a-9325-4fa5-96ca-29159e1ee706",
   "metadata": {},
   "source": [
    "### Q.1.4 Dicts"
   ]
  },
  {
   "cell_type": "code",
   "execution_count": 16,
   "id": "f4ee4db4-146f-4072-849e-89e50c9d0105",
   "metadata": {},
   "outputs": [
    {
     "name": "stdout",
     "output_type": "stream",
     "text": [
      "{'the': 4, 'final': 1, 'structure': 1, 'we': 1, 'discuss': 1, 'here': 1, 'is': 2, 'set.': 1, 'it': 3, 'models': 1, 'set': 1, 'in': 2, 'mathematical': 1, 'sense,': 1, 'i.e.': 1, 'an': 2, 'unordered': 2, 'collection': 1, 'that': 2, 'contains': 1, 'only': 1, 'one': 1, 'copy': 1, 'of': 1, 'each': 1, 'element.': 1, 'means': 1, 'looping': 1, 'over': 1, 'elements': 1, 'extracts': 1, 'those': 1, 'unpredictable': 1, 'order,': 1, 'and': 1, 'does': 1, 'not': 1, 'support': 1, 'positional': 1, 'access': 1, 'either.': 1}\n"
     ]
    }
   ],
   "source": [
    "#1 Count the number of each word in a sentence.\n",
    "def countWords(individual):\n",
    "    word_count = {}\n",
    "    for word in individual:\n",
    "        if not word in word_count:\n",
    "            word_count[word] = individual.count(word)\n",
    "    return word_count\n",
    "\n",
    "sentence = \"\"\"The final structure we discuss here is set.\n",
    "It models the set in the mathematical sense, i.e. it is an unordered collection that contains only one copy of each element. \n",
    "Unordered means that looping over the elements extracts those in an unpredictable order, \n",
    "and it does not support positional access either.\"\"\"\n",
    "individual = sentence.lower().split()\n",
    "\n",
    "word_count = countWords(individual)\n",
    "print(word_count)"
   ]
  },
  {
   "cell_type": "markdown",
   "id": "73de38af-7a25-495a-9979-15601d459520",
   "metadata": {},
   "source": [
    "### Q.1.5 Functions and data transformations"
   ]
  },
  {
   "cell_type": "code",
   "execution_count": 17,
   "id": "d6df6f7f-c5c2-4f59-8a81-e5934f9c21ad",
   "metadata": {},
   "outputs": [
    {
     "data": {
      "text/plain": [
       "(10.25, 3.75)"
      ]
     },
     "execution_count": 17,
     "metadata": {},
     "output_type": "execute_result"
    }
   ],
   "source": [
    "#1 Change Hours-Minutes to Hours-Fractions of hours.\n",
    "def calculator(num):\n",
    "    minute = num % 100\n",
    "    hour = num // 100\n",
    "\n",
    "    num_in_minute = hour * 60 + minute\n",
    "    return (num_in_minute / 60)\n",
    "\n",
    "calculator(1015), calculator(345)"
   ]
  },
  {
   "cell_type": "markdown",
   "id": "ac5feba2-38fd-47ca-8cb7-332a1a1261a6",
   "metadata": {},
   "source": [
    "### Q.2.1 Setup"
   ]
  },
  {
   "cell_type": "code",
   "execution_count": 18,
   "id": "6746e7bb-221b-4e67-a57d-71e65461c1fd",
   "metadata": {},
   "outputs": [],
   "source": [
    "import pandas as pd\n",
    "import numpy as np\n",
    "import matplotlib.pyplot as plt"
   ]
  },
  {
   "cell_type": "code",
   "execution_count": 19,
   "id": "4aa74263-d53f-4a50-8ea5-c8f01a67bb7d",
   "metadata": {},
   "outputs": [],
   "source": [
    "#1 Load the data.\n",
    "nyc_flights = pd.read_csv(\"../data/nycflights13.csv.bz2\", sep=\"\\t\")"
   ]
  },
  {
   "cell_type": "code",
   "execution_count": 20,
   "id": "ed463fc7-1b05-4b91-a43f-5122b117af87",
   "metadata": {},
   "outputs": [
    {
     "data": {
      "text/plain": [
       "(336776, 19)"
      ]
     },
     "execution_count": 20,
     "metadata": {},
     "output_type": "execute_result"
    }
   ],
   "source": [
    "#2 Basic checks\n",
    "nyc_flights.shape"
   ]
  },
  {
   "cell_type": "markdown",
   "id": "1d5e4f4e-71b9-40ff-8203-c4a02bdf7c7b",
   "metadata": {},
   "source": [
    "- There are 19 columns and 336776 rows in the data. "
   ]
  },
  {
   "cell_type": "code",
   "execution_count": 21,
   "id": "635a086c-6150-46c0-a7e8-03a53a39f427",
   "metadata": {},
   "outputs": [
    {
     "data": {
      "text/plain": [
       "Index(['year', 'month', 'day', 'dep_time', 'sched_dep_time', 'dep_delay',\n",
       "       'arr_time', 'sched_arr_time', 'arr_delay', 'carrier', 'flight',\n",
       "       'tailnum', 'origin', 'dest', 'air_time', 'distance', 'hour', 'minute',\n",
       "       'time_hour'],\n",
       "      dtype='object')"
      ]
     },
     "execution_count": 21,
     "metadata": {},
     "output_type": "execute_result"
    }
   ],
   "source": [
    "nyc_flights.columns"
   ]
  },
  {
   "cell_type": "code",
   "execution_count": 22,
   "id": "30cd9c76-0524-40ba-879d-031d9e7aa97e",
   "metadata": {},
   "outputs": [
    {
     "data": {
      "text/html": [
       "<div>\n",
       "<style scoped>\n",
       "    .dataframe tbody tr th:only-of-type {\n",
       "        vertical-align: middle;\n",
       "    }\n",
       "\n",
       "    .dataframe tbody tr th {\n",
       "        vertical-align: top;\n",
       "    }\n",
       "\n",
       "    .dataframe thead th {\n",
       "        text-align: right;\n",
       "    }\n",
       "</style>\n",
       "<table border=\"1\" class=\"dataframe\">\n",
       "  <thead>\n",
       "    <tr style=\"text-align: right;\">\n",
       "      <th></th>\n",
       "      <th>year</th>\n",
       "      <th>month</th>\n",
       "      <th>day</th>\n",
       "      <th>dep_time</th>\n",
       "      <th>sched_dep_time</th>\n",
       "      <th>dep_delay</th>\n",
       "      <th>arr_time</th>\n",
       "      <th>sched_arr_time</th>\n",
       "      <th>arr_delay</th>\n",
       "      <th>carrier</th>\n",
       "      <th>flight</th>\n",
       "      <th>tailnum</th>\n",
       "      <th>origin</th>\n",
       "      <th>dest</th>\n",
       "      <th>air_time</th>\n",
       "      <th>distance</th>\n",
       "      <th>hour</th>\n",
       "      <th>minute</th>\n",
       "      <th>time_hour</th>\n",
       "    </tr>\n",
       "  </thead>\n",
       "  <tbody>\n",
       "    <tr>\n",
       "      <th>0</th>\n",
       "      <td>2013</td>\n",
       "      <td>1</td>\n",
       "      <td>1</td>\n",
       "      <td>517.0</td>\n",
       "      <td>515</td>\n",
       "      <td>2.0</td>\n",
       "      <td>830.0</td>\n",
       "      <td>819</td>\n",
       "      <td>11.0</td>\n",
       "      <td>UA</td>\n",
       "      <td>1545</td>\n",
       "      <td>N14228</td>\n",
       "      <td>EWR</td>\n",
       "      <td>IAH</td>\n",
       "      <td>227.0</td>\n",
       "      <td>1400</td>\n",
       "      <td>5</td>\n",
       "      <td>15</td>\n",
       "      <td>2013-01-01T10:00:00Z</td>\n",
       "    </tr>\n",
       "    <tr>\n",
       "      <th>1</th>\n",
       "      <td>2013</td>\n",
       "      <td>1</td>\n",
       "      <td>1</td>\n",
       "      <td>533.0</td>\n",
       "      <td>529</td>\n",
       "      <td>4.0</td>\n",
       "      <td>850.0</td>\n",
       "      <td>830</td>\n",
       "      <td>20.0</td>\n",
       "      <td>UA</td>\n",
       "      <td>1714</td>\n",
       "      <td>N24211</td>\n",
       "      <td>LGA</td>\n",
       "      <td>IAH</td>\n",
       "      <td>227.0</td>\n",
       "      <td>1416</td>\n",
       "      <td>5</td>\n",
       "      <td>29</td>\n",
       "      <td>2013-01-01T10:00:00Z</td>\n",
       "    </tr>\n",
       "    <tr>\n",
       "      <th>2</th>\n",
       "      <td>2013</td>\n",
       "      <td>1</td>\n",
       "      <td>1</td>\n",
       "      <td>542.0</td>\n",
       "      <td>540</td>\n",
       "      <td>2.0</td>\n",
       "      <td>923.0</td>\n",
       "      <td>850</td>\n",
       "      <td>33.0</td>\n",
       "      <td>AA</td>\n",
       "      <td>1141</td>\n",
       "      <td>N619AA</td>\n",
       "      <td>JFK</td>\n",
       "      <td>MIA</td>\n",
       "      <td>160.0</td>\n",
       "      <td>1089</td>\n",
       "      <td>5</td>\n",
       "      <td>40</td>\n",
       "      <td>2013-01-01T10:00:00Z</td>\n",
       "    </tr>\n",
       "    <tr>\n",
       "      <th>3</th>\n",
       "      <td>2013</td>\n",
       "      <td>1</td>\n",
       "      <td>1</td>\n",
       "      <td>544.0</td>\n",
       "      <td>545</td>\n",
       "      <td>-1.0</td>\n",
       "      <td>1004.0</td>\n",
       "      <td>1022</td>\n",
       "      <td>-18.0</td>\n",
       "      <td>B6</td>\n",
       "      <td>725</td>\n",
       "      <td>N804JB</td>\n",
       "      <td>JFK</td>\n",
       "      <td>BQN</td>\n",
       "      <td>183.0</td>\n",
       "      <td>1576</td>\n",
       "      <td>5</td>\n",
       "      <td>45</td>\n",
       "      <td>2013-01-01T10:00:00Z</td>\n",
       "    </tr>\n",
       "    <tr>\n",
       "      <th>4</th>\n",
       "      <td>2013</td>\n",
       "      <td>1</td>\n",
       "      <td>1</td>\n",
       "      <td>554.0</td>\n",
       "      <td>600</td>\n",
       "      <td>-6.0</td>\n",
       "      <td>812.0</td>\n",
       "      <td>837</td>\n",
       "      <td>-25.0</td>\n",
       "      <td>DL</td>\n",
       "      <td>461</td>\n",
       "      <td>N668DN</td>\n",
       "      <td>LGA</td>\n",
       "      <td>ATL</td>\n",
       "      <td>116.0</td>\n",
       "      <td>762</td>\n",
       "      <td>6</td>\n",
       "      <td>0</td>\n",
       "      <td>2013-01-01T11:00:00Z</td>\n",
       "    </tr>\n",
       "  </tbody>\n",
       "</table>\n",
       "</div>"
      ],
      "text/plain": [
       "   year  month  day  dep_time  sched_dep_time  dep_delay  arr_time  \\\n",
       "0  2013      1    1     517.0             515        2.0     830.0   \n",
       "1  2013      1    1     533.0             529        4.0     850.0   \n",
       "2  2013      1    1     542.0             540        2.0     923.0   \n",
       "3  2013      1    1     544.0             545       -1.0    1004.0   \n",
       "4  2013      1    1     554.0             600       -6.0     812.0   \n",
       "\n",
       "   sched_arr_time  arr_delay carrier  flight tailnum origin dest  air_time  \\\n",
       "0             819       11.0      UA    1545  N14228    EWR  IAH     227.0   \n",
       "1             830       20.0      UA    1714  N24211    LGA  IAH     227.0   \n",
       "2             850       33.0      AA    1141  N619AA    JFK  MIA     160.0   \n",
       "3            1022      -18.0      B6     725  N804JB    JFK  BQN     183.0   \n",
       "4             837      -25.0      DL     461  N668DN    LGA  ATL     116.0   \n",
       "\n",
       "   distance  hour  minute             time_hour  \n",
       "0      1400     5      15  2013-01-01T10:00:00Z  \n",
       "1      1416     5      29  2013-01-01T10:00:00Z  \n",
       "2      1089     5      40  2013-01-01T10:00:00Z  \n",
       "3      1576     5      45  2013-01-01T10:00:00Z  \n",
       "4       762     6       0  2013-01-01T11:00:00Z  "
      ]
     },
     "execution_count": 22,
     "metadata": {},
     "output_type": "execute_result"
    }
   ],
   "source": [
    "nyc_flights.head()"
   ]
  },
  {
   "cell_type": "markdown",
   "id": "dba7f852-5a1f-407e-8499-4d6653ed1cee",
   "metadata": {},
   "source": [
    "### Q.2.2 Basic data exploration"
   ]
  },
  {
   "cell_type": "code",
   "execution_count": 23,
   "id": "c4a53f0a-bc96-48d1-9c88-b346a8f80532",
   "metadata": {},
   "outputs": [
    {
     "data": {
      "text/plain": [
       "3"
      ]
     },
     "execution_count": 23,
     "metadata": {},
     "output_type": "execute_result"
    }
   ],
   "source": [
    "#1 How many NYC airports are included in this data? Which airports are these?\n",
    "nyc_flights.origin.nunique()"
   ]
  },
  {
   "cell_type": "code",
   "execution_count": 24,
   "id": "51fa1908-3da6-4a94-8b3e-5742949e14bd",
   "metadata": {},
   "outputs": [
    {
     "data": {
      "text/plain": [
       "array(['EWR', 'LGA', 'JFK'], dtype=object)"
      ]
     },
     "execution_count": 24,
     "metadata": {},
     "output_type": "execute_result"
    }
   ],
   "source": [
    "nyc_flights.origin.unique()"
   ]
  },
  {
   "cell_type": "markdown",
   "id": "bb07704d-db8f-40c7-a40a-8fea57047b15",
   "metadata": {},
   "source": [
    "- There are total three airports in this data: EWR, LGA, and JFK."
   ]
  },
  {
   "cell_type": "code",
   "execution_count": 25,
   "id": "12edce4d-593c-4266-bcf4-940df84f044b",
   "metadata": {},
   "outputs": [
    {
     "data": {
      "text/plain": [
       "105"
      ]
     },
     "execution_count": 25,
     "metadata": {},
     "output_type": "execute_result"
    }
   ],
   "source": [
    "#2 Into how many airports did the airlines fly from NYC in 2013?\n",
    "nyc_flights[nyc_flights['year'] == 2013].dest.nunique()"
   ]
  },
  {
   "cell_type": "markdown",
   "id": "695a8d8f-86aa-4b91-9b15-e932cc612cdf",
   "metadata": {},
   "source": [
    "- The airlines fly from NYC into 105 airports in 2013."
   ]
  },
  {
   "cell_type": "code",
   "execution_count": 26,
   "id": "5f1c20a5-395a-4787-a856-a15421c0487e",
   "metadata": {},
   "outputs": [
    {
     "data": {
      "text/plain": [
       "3923"
      ]
     },
     "execution_count": 26,
     "metadata": {},
     "output_type": "execute_result"
    }
   ],
   "source": [
    "#3 How many flights were there from NYC to Seattle(SEA)?\n",
    "nyc_flights[nyc_flights['dest'] == 'SEA'].count()['dest']"
   ]
  },
  {
   "cell_type": "markdown",
   "id": "aee0dc30-5d25-40ae-980c-84c259e56aed",
   "metadata": {},
   "source": [
    "- There were 3923 flights from NYC to SEA."
   ]
  },
  {
   "cell_type": "code",
   "execution_count": 27,
   "id": "0caa6f58-bce4-4dd0-8384-f5ee3b21a765",
   "metadata": {},
   "outputs": [
    {
     "data": {
      "text/plain": [
       "0"
      ]
     },
     "execution_count": 27,
     "metadata": {},
     "output_type": "execute_result"
    }
   ],
   "source": [
    "#4 Were there any flights from NYC to Spokane(GEG)?\n",
    "nyc_flights[nyc_flights['dest'] == 'GEG'].count()['dest']"
   ]
  },
  {
   "cell_type": "markdown",
   "id": "48f1f033-f3ae-45f3-9cce-1934a8a61c2c",
   "metadata": {},
   "source": [
    "- There were no flight from NYC to GEG."
   ]
  },
  {
   "cell_type": "markdown",
   "id": "4c17332d-e750-4319-a259-fda484141b73",
   "metadata": {},
   "source": [
    "### Q.2.3 Compute new variables"
   ]
  },
  {
   "cell_type": "code",
   "execution_count": 28,
   "id": "f965c334-91cd-4563-88f9-0b57a01fa94b",
   "metadata": {},
   "outputs": [],
   "source": [
    "#1 Create new column for the flight data-flight duration in hours.\n",
    "nyc_flights['duration'] = nyc_flights.arr_time - nyc_flights.dep_time"
   ]
  },
  {
   "cell_type": "code",
   "execution_count": 59,
   "id": "6eaba047-441f-4102-8485-3f97585c3d38",
   "metadata": {},
   "outputs": [
    {
     "data": {
      "text/html": [
       "<div>\n",
       "<style scoped>\n",
       "    .dataframe tbody tr th:only-of-type {\n",
       "        vertical-align: middle;\n",
       "    }\n",
       "\n",
       "    .dataframe tbody tr th {\n",
       "        vertical-align: top;\n",
       "    }\n",
       "\n",
       "    .dataframe thead th {\n",
       "        text-align: right;\n",
       "    }\n",
       "</style>\n",
       "<table border=\"1\" class=\"dataframe\">\n",
       "  <thead>\n",
       "    <tr style=\"text-align: right;\">\n",
       "      <th></th>\n",
       "      <th>year</th>\n",
       "      <th>month</th>\n",
       "      <th>day</th>\n",
       "      <th>dep_time</th>\n",
       "      <th>sched_dep_time</th>\n",
       "      <th>dep_delay</th>\n",
       "      <th>arr_time</th>\n",
       "      <th>sched_arr_time</th>\n",
       "      <th>arr_delay</th>\n",
       "      <th>carrier</th>\n",
       "      <th>flight</th>\n",
       "      <th>tailnum</th>\n",
       "      <th>origin</th>\n",
       "      <th>dest</th>\n",
       "      <th>air_time</th>\n",
       "      <th>distance</th>\n",
       "      <th>hour</th>\n",
       "      <th>minute</th>\n",
       "      <th>time_hour</th>\n",
       "      <th>duration</th>\n",
       "    </tr>\n",
       "  </thead>\n",
       "  <tbody>\n",
       "    <tr>\n",
       "      <th>91416</th>\n",
       "      <td>2013</td>\n",
       "      <td>12</td>\n",
       "      <td>9</td>\n",
       "      <td>2055.0</td>\n",
       "      <td>1830</td>\n",
       "      <td>145.0</td>\n",
       "      <td>2253.0</td>\n",
       "      <td>2046</td>\n",
       "      <td>127.0</td>\n",
       "      <td>EV</td>\n",
       "      <td>5314</td>\n",
       "      <td>N615QX</td>\n",
       "      <td>EWR</td>\n",
       "      <td>DTW</td>\n",
       "      <td>91.0</td>\n",
       "      <td>488</td>\n",
       "      <td>18</td>\n",
       "      <td>30</td>\n",
       "      <td>2013-12-09T23:00:00Z</td>\n",
       "      <td>198.0</td>\n",
       "    </tr>\n",
       "    <tr>\n",
       "      <th>248098</th>\n",
       "      <td>2013</td>\n",
       "      <td>6</td>\n",
       "      <td>28</td>\n",
       "      <td>1148.0</td>\n",
       "      <td>1030</td>\n",
       "      <td>78.0</td>\n",
       "      <td>1507.0</td>\n",
       "      <td>1345</td>\n",
       "      <td>82.0</td>\n",
       "      <td>AA</td>\n",
       "      <td>179</td>\n",
       "      <td>N327AA</td>\n",
       "      <td>JFK</td>\n",
       "      <td>SFO</td>\n",
       "      <td>333.0</td>\n",
       "      <td>2586</td>\n",
       "      <td>10</td>\n",
       "      <td>30</td>\n",
       "      <td>2013-06-28T14:00:00Z</td>\n",
       "      <td>359.0</td>\n",
       "    </tr>\n",
       "    <tr>\n",
       "      <th>295391</th>\n",
       "      <td>2013</td>\n",
       "      <td>8</td>\n",
       "      <td>17</td>\n",
       "      <td>640.0</td>\n",
       "      <td>638</td>\n",
       "      <td>2.0</td>\n",
       "      <td>907.0</td>\n",
       "      <td>926</td>\n",
       "      <td>-19.0</td>\n",
       "      <td>UA</td>\n",
       "      <td>441</td>\n",
       "      <td>N579UA</td>\n",
       "      <td>EWR</td>\n",
       "      <td>SEA</td>\n",
       "      <td>311.0</td>\n",
       "      <td>2402</td>\n",
       "      <td>6</td>\n",
       "      <td>38</td>\n",
       "      <td>2013-08-17T10:00:00Z</td>\n",
       "      <td>267.0</td>\n",
       "    </tr>\n",
       "    <tr>\n",
       "      <th>315190</th>\n",
       "      <td>2013</td>\n",
       "      <td>9</td>\n",
       "      <td>7</td>\n",
       "      <td>1620.0</td>\n",
       "      <td>1455</td>\n",
       "      <td>85.0</td>\n",
       "      <td>1741.0</td>\n",
       "      <td>1630</td>\n",
       "      <td>71.0</td>\n",
       "      <td>MQ</td>\n",
       "      <td>3231</td>\n",
       "      <td>N639MQ</td>\n",
       "      <td>JFK</td>\n",
       "      <td>PIT</td>\n",
       "      <td>62.0</td>\n",
       "      <td>340</td>\n",
       "      <td>14</td>\n",
       "      <td>55</td>\n",
       "      <td>2013-09-07T18:00:00Z</td>\n",
       "      <td>121.0</td>\n",
       "    </tr>\n",
       "    <tr>\n",
       "      <th>89541</th>\n",
       "      <td>2013</td>\n",
       "      <td>12</td>\n",
       "      <td>7</td>\n",
       "      <td>1700.0</td>\n",
       "      <td>1640</td>\n",
       "      <td>20.0</td>\n",
       "      <td>2003.0</td>\n",
       "      <td>1954</td>\n",
       "      <td>9.0</td>\n",
       "      <td>DL</td>\n",
       "      <td>1854</td>\n",
       "      <td>N332NB</td>\n",
       "      <td>LGA</td>\n",
       "      <td>FLL</td>\n",
       "      <td>163.0</td>\n",
       "      <td>1076</td>\n",
       "      <td>16</td>\n",
       "      <td>40</td>\n",
       "      <td>2013-12-07T21:00:00Z</td>\n",
       "      <td>303.0</td>\n",
       "    </tr>\n",
       "  </tbody>\n",
       "</table>\n",
       "</div>"
      ],
      "text/plain": [
       "        year  month  day  dep_time  sched_dep_time  dep_delay  arr_time  \\\n",
       "91416   2013     12    9    2055.0            1830      145.0    2253.0   \n",
       "248098  2013      6   28    1148.0            1030       78.0    1507.0   \n",
       "295391  2013      8   17     640.0             638        2.0     907.0   \n",
       "315190  2013      9    7    1620.0            1455       85.0    1741.0   \n",
       "89541   2013     12    7    1700.0            1640       20.0    2003.0   \n",
       "\n",
       "        sched_arr_time  arr_delay carrier  flight tailnum origin dest  \\\n",
       "91416             2046      127.0      EV    5314  N615QX    EWR  DTW   \n",
       "248098            1345       82.0      AA     179  N327AA    JFK  SFO   \n",
       "295391             926      -19.0      UA     441  N579UA    EWR  SEA   \n",
       "315190            1630       71.0      MQ    3231  N639MQ    JFK  PIT   \n",
       "89541             1954        9.0      DL    1854  N332NB    LGA  FLL   \n",
       "\n",
       "        air_time  distance  hour  minute             time_hour  duration  \n",
       "91416       91.0       488    18      30  2013-12-09T23:00:00Z     198.0  \n",
       "248098     333.0      2586    10      30  2013-06-28T14:00:00Z     359.0  \n",
       "295391     311.0      2402     6      38  2013-08-17T10:00:00Z     267.0  \n",
       "315190      62.0       340    14      55  2013-09-07T18:00:00Z     121.0  \n",
       "89541      163.0      1076    16      40  2013-12-07T21:00:00Z     303.0  "
      ]
     },
     "execution_count": 59,
     "metadata": {},
     "output_type": "execute_result"
    }
   ],
   "source": [
    "nyc_flights.sample(5)"
   ]
  },
  {
   "cell_type": "code",
   "execution_count": 30,
   "id": "fe8a9bc9-5e4e-42a7-a50a-3b4f8fda7f97",
   "metadata": {},
   "outputs": [
    {
     "data": {
      "text/plain": [
       "-2346.0"
      ]
     },
     "execution_count": 30,
     "metadata": {},
     "output_type": "execute_result"
    }
   ],
   "source": [
    "#2 What is the minimum value of the duration you computed? Explain why you get negative values!\n",
    "nyc_flights.duration.min()"
   ]
  },
  {
   "cell_type": "markdown",
   "id": "ab303bc0-f750-4e2c-82e2-80b4ed36a42a",
   "metadata": {},
   "source": [
    "- There are some negative values of duration since some arr_time is smaller than some dep_time. "
   ]
  },
  {
   "cell_type": "markdown",
   "id": "0e83ad1b-5140-44a7-b598-76aaee9fdf0c",
   "metadata": {},
   "source": [
    "### Q.2.4 Flight Delays"
   ]
  },
  {
   "cell_type": "code",
   "execution_count": 61,
   "id": "7ec6e4c9-e9b3-4a2e-81fa-ca74d5fae219",
   "metadata": {},
   "outputs": [
    {
     "data": {
      "text/html": [
       "<div>\n",
       "<style scoped>\n",
       "    .dataframe tbody tr th:only-of-type {\n",
       "        vertical-align: middle;\n",
       "    }\n",
       "\n",
       "    .dataframe tbody tr th {\n",
       "        vertical-align: top;\n",
       "    }\n",
       "\n",
       "    .dataframe thead th {\n",
       "        text-align: right;\n",
       "    }\n",
       "</style>\n",
       "<table border=\"1\" class=\"dataframe\">\n",
       "  <thead>\n",
       "    <tr style=\"text-align: right;\">\n",
       "      <th></th>\n",
       "      <th>dep_delay</th>\n",
       "      <th>arr_delay</th>\n",
       "    </tr>\n",
       "  </thead>\n",
       "  <tbody>\n",
       "    <tr>\n",
       "      <th>0</th>\n",
       "      <td>2.0</td>\n",
       "      <td>11.0</td>\n",
       "    </tr>\n",
       "    <tr>\n",
       "      <th>1</th>\n",
       "      <td>4.0</td>\n",
       "      <td>20.0</td>\n",
       "    </tr>\n",
       "    <tr>\n",
       "      <th>2</th>\n",
       "      <td>2.0</td>\n",
       "      <td>33.0</td>\n",
       "    </tr>\n",
       "    <tr>\n",
       "      <th>3</th>\n",
       "      <td>-1.0</td>\n",
       "      <td>-18.0</td>\n",
       "    </tr>\n",
       "    <tr>\n",
       "      <th>4</th>\n",
       "      <td>-6.0</td>\n",
       "      <td>-25.0</td>\n",
       "    </tr>\n",
       "  </tbody>\n",
       "</table>\n",
       "</div>"
      ],
      "text/plain": [
       "   dep_delay  arr_delay\n",
       "0        2.0       11.0\n",
       "1        4.0       20.0\n",
       "2        2.0       33.0\n",
       "3       -1.0      -18.0\n",
       "4       -6.0      -25.0"
      ]
     },
     "execution_count": 61,
     "metadata": {},
     "output_type": "execute_result"
    }
   ],
   "source": [
    "#1 Create a new data frame, a subset of the flights data that only contains two variables: departure delay and arrival delay.\n",
    "new_flights = nyc_flights[['dep_delay', 'arr_delay']]\n",
    "new_flights.head()"
   ]
  },
  {
   "cell_type": "code",
   "execution_count": 62,
   "id": "8ae5c490-c772-4645-a60e-df246d4d2d30",
   "metadata": {},
   "outputs": [
    {
     "data": {
      "text/html": [
       "<div>\n",
       "<style scoped>\n",
       "    .dataframe tbody tr th:only-of-type {\n",
       "        vertical-align: middle;\n",
       "    }\n",
       "\n",
       "    .dataframe tbody tr th {\n",
       "        vertical-align: top;\n",
       "    }\n",
       "\n",
       "    .dataframe thead th {\n",
       "        text-align: right;\n",
       "    }\n",
       "</style>\n",
       "<table border=\"1\" class=\"dataframe\">\n",
       "  <thead>\n",
       "    <tr style=\"text-align: right;\">\n",
       "      <th></th>\n",
       "      <th>dep_delay</th>\n",
       "      <th>arr_delay</th>\n",
       "    </tr>\n",
       "  </thead>\n",
       "  <tbody>\n",
       "    <tr>\n",
       "      <th>39778</th>\n",
       "      <td>79.0</td>\n",
       "      <td>95.0</td>\n",
       "    </tr>\n",
       "    <tr>\n",
       "      <th>171154</th>\n",
       "      <td>18.0</td>\n",
       "      <td>6.0</td>\n",
       "    </tr>\n",
       "    <tr>\n",
       "      <th>153206</th>\n",
       "      <td>4.0</td>\n",
       "      <td>-4.0</td>\n",
       "    </tr>\n",
       "    <tr>\n",
       "      <th>299669</th>\n",
       "      <td>30.0</td>\n",
       "      <td>24.0</td>\n",
       "    </tr>\n",
       "    <tr>\n",
       "      <th>319629</th>\n",
       "      <td>4.0</td>\n",
       "      <td>4.0</td>\n",
       "    </tr>\n",
       "  </tbody>\n",
       "</table>\n",
       "</div>"
      ],
      "text/plain": [
       "        dep_delay  arr_delay\n",
       "39778        79.0       95.0\n",
       "171154       18.0        6.0\n",
       "153206        4.0       -4.0\n",
       "299669       30.0       24.0\n",
       "319629        4.0        4.0"
      ]
     },
     "execution_count": 62,
     "metadata": {},
     "output_type": "execute_result"
    }
   ],
   "source": [
    "#2 Print a small random sample of the delay data frame.\n",
    "new_flights.sample(5)"
   ]
  },
  {
   "cell_type": "code",
   "execution_count": 65,
   "id": "6516bb39-a731-4a4c-97dd-13526d8f6a1b",
   "metadata": {},
   "outputs": [
    {
     "data": {
      "text/plain": [
       "dep_delay    float64\n",
       "arr_delay    float64\n",
       "dtype: object"
      ]
     },
     "execution_count": 65,
     "metadata": {},
     "output_type": "execute_result"
    }
   ],
   "source": [
    "#3 What is the data type of the flight delay value?\n",
    "new_flights.dtypes"
   ]
  },
  {
   "cell_type": "code",
   "execution_count": 75,
   "id": "c5e6af14-aab9-4cc3-a34d-a4dca74f9348",
   "metadata": {},
   "outputs": [
    {
     "data": {
      "text/plain": [
       "(35648, 3)"
      ]
     },
     "execution_count": 75,
     "metadata": {},
     "output_type": "execute_result"
    }
   ],
   "source": [
    "#4 Filter to keep the \"slow flights\": cases where the plane leaves early but arrives late. How many cases do you have?\n",
    "new_flights[(new_flights.dep_delay < 0) & (new_flights.arr_delay > 0)].shape"
   ]
  },
  {
   "cell_type": "markdown",
   "id": "4909eb64-8dc6-4cf2-b023-608c75c3c4f1",
   "metadata": {},
   "source": [
    "- There are 35648 cases where plane leaves early but arrives late."
   ]
  },
  {
   "cell_type": "code",
   "execution_count": 78,
   "id": "d1b3bfb0-cd1a-4c2f-a709-546014179605",
   "metadata": {},
   "outputs": [
    {
     "data": {
      "text/html": [
       "<div>\n",
       "<style scoped>\n",
       "    .dataframe tbody tr th:only-of-type {\n",
       "        vertical-align: middle;\n",
       "    }\n",
       "\n",
       "    .dataframe tbody tr th {\n",
       "        vertical-align: top;\n",
       "    }\n",
       "\n",
       "    .dataframe thead th {\n",
       "        text-align: right;\n",
       "    }\n",
       "</style>\n",
       "<table border=\"1\" class=\"dataframe\">\n",
       "  <thead>\n",
       "    <tr style=\"text-align: right;\">\n",
       "      <th></th>\n",
       "      <th>dep_delay</th>\n",
       "      <th>arr_delay</th>\n",
       "      <th>extra_flight</th>\n",
       "    </tr>\n",
       "  </thead>\n",
       "  <tbody>\n",
       "    <tr>\n",
       "      <th>0</th>\n",
       "      <td>2.0</td>\n",
       "      <td>11.0</td>\n",
       "      <td>9.0</td>\n",
       "    </tr>\n",
       "    <tr>\n",
       "      <th>1</th>\n",
       "      <td>4.0</td>\n",
       "      <td>20.0</td>\n",
       "      <td>16.0</td>\n",
       "    </tr>\n",
       "    <tr>\n",
       "      <th>2</th>\n",
       "      <td>2.0</td>\n",
       "      <td>33.0</td>\n",
       "      <td>31.0</td>\n",
       "    </tr>\n",
       "    <tr>\n",
       "      <th>3</th>\n",
       "      <td>-1.0</td>\n",
       "      <td>-18.0</td>\n",
       "      <td>-17.0</td>\n",
       "    </tr>\n",
       "    <tr>\n",
       "      <th>4</th>\n",
       "      <td>-6.0</td>\n",
       "      <td>-25.0</td>\n",
       "      <td>-19.0</td>\n",
       "    </tr>\n",
       "  </tbody>\n",
       "</table>\n",
       "</div>"
      ],
      "text/plain": [
       "   dep_delay  arr_delay  extra_flight\n",
       "0        2.0       11.0           9.0\n",
       "1        4.0       20.0          16.0\n",
       "2        2.0       33.0          31.0\n",
       "3       -1.0      -18.0         -17.0\n",
       "4       -6.0      -25.0         -19.0"
      ]
     },
     "execution_count": 78,
     "metadata": {},
     "output_type": "execute_result"
    }
   ],
   "source": [
    "#5 What is the longest \"extra flight time\"?\n",
    "new_flights['extra_flight'].copy = new_flights.arr_delay - new_flights.dep_delay\n",
    "new_flights.head()"
   ]
  },
  {
   "cell_type": "code",
   "execution_count": 79,
   "id": "e2538cc4-7c5d-4387-a855-eca93b273672",
   "metadata": {},
   "outputs": [
    {
     "data": {
      "text/plain": [
       "196.0"
      ]
     },
     "execution_count": 79,
     "metadata": {},
     "output_type": "execute_result"
    }
   ],
   "source": [
    "new_flights.extra_flight.max()"
   ]
  },
  {
   "cell_type": "markdown",
   "id": "8d7135b6-02b0-46b1-8b4f-a456bae3f35b",
   "metadata": {},
   "source": [
    "- The longest extra flight time is 196.0."
   ]
  },
  {
   "cell_type": "code",
   "execution_count": 83,
   "id": "17ebb2cf-671e-4dc3-ba84-51a1ed72b026",
   "metadata": {},
   "outputs": [
    {
     "data": {
      "text/plain": [
       "(133004, 3)"
      ]
     },
     "execution_count": 83,
     "metadata": {},
     "output_type": "execute_result"
    }
   ],
   "source": [
    "#6 How many of flights were delayed (positive arrival delay)?\n",
    "new_flights[new_flights.arr_delay > 0].shape"
   ]
  },
  {
   "cell_type": "markdown",
   "id": "6ee01c2b-84d6-4155-94dd-87afc3fd457a",
   "metadata": {},
   "source": [
    "- There are 133004 delayed flights."
   ]
  },
  {
   "cell_type": "code",
   "execution_count": 103,
   "id": "56ee4ed1-578a-4592-bc47-259776f3f3b8",
   "metadata": {},
   "outputs": [
    {
     "data": {
      "text/plain": [
       "0.2305092999501152"
      ]
     },
     "execution_count": 103,
     "metadata": {},
     "output_type": "execute_result"
    }
   ],
   "source": [
    "#7 What percentage of flights were delayed by more than 15 minutes at arrival? \n",
    "(new_flights.arr_delay > 15).mean()"
   ]
  },
  {
   "cell_type": "markdown",
   "id": "6a4a6e18-366d-4ed8-9984-472d8a580c75",
   "metadata": {},
   "source": [
    "- About 23.05% of flights were delayed by more than 16 minutes."
   ]
  },
  {
   "cell_type": "markdown",
   "id": "7acbf9a3-3f29-43b3-9882-2e3b9f8d04c9",
   "metadata": {},
   "source": [
    "### How much time did you spend?"
   ]
  },
  {
   "cell_type": "markdown",
   "id": "393d62cf-91ad-470e-9692-e17632646b8e",
   "metadata": {},
   "source": [
    "- I spent about 6 hours."
   ]
  }
 ],
 "metadata": {
  "kernelspec": {
   "display_name": "Python 3 (ipykernel)",
   "language": "python",
   "name": "python3"
  },
  "language_info": {
   "codemirror_mode": {
    "name": "ipython",
    "version": 3
   },
   "file_extension": ".py",
   "mimetype": "text/x-python",
   "name": "python",
   "nbconvert_exporter": "python",
   "pygments_lexer": "ipython3",
   "version": "3.9.7"
  }
 },
 "nbformat": 4,
 "nbformat_minor": 5
}
