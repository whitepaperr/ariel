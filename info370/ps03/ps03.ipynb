{
 "cells": [
  {
   "cell_type": "code",
   "execution_count": 1,
   "id": "23d8658a-ee33-4cea-aeb2-b4522ad205b3",
   "metadata": {},
   "outputs": [],
   "source": [
    "import pandas as pd\n",
    "import matplotlib.pyplot as plt\n",
    "import numpy as np"
   ]
  },
  {
   "cell_type": "markdown",
   "id": "2a5b7244-60ef-4a97-b3f1-8f14fec30f5c",
   "metadata": {},
   "source": [
    "### Q.1 Binomial distribution"
   ]
  },
  {
   "cell_type": "code",
   "execution_count": 2,
   "id": "a14bafc5-3da8-43fa-be3c-7eca7526e045",
   "metadata": {},
   "outputs": [
    {
     "data": {
      "text/plain": [
       "array([3, 2, 3, 2, 1])"
      ]
     },
     "execution_count": 2,
     "metadata": {},
     "output_type": "execute_result"
    }
   ],
   "source": [
    "s, p = 3, 0.6\n",
    "RV = np.random.binomial(s, p, size=5)\n",
    "RV"
   ]
  },
  {
   "cell_type": "code",
   "execution_count": 3,
   "id": "653050a3-caae-4416-9a02-35bb8af8672f",
   "metadata": {},
   "outputs": [
    {
     "data": {
      "text/plain": [
       "1.7999999999999998"
      ]
     },
     "execution_count": 3,
     "metadata": {},
     "output_type": "execute_result"
    }
   ],
   "source": [
    "#1 What is the expected value of this RV E X?\n",
    "expected_value = s * p\n",
    "expected_value"
   ]
  },
  {
   "cell_type": "markdown",
   "id": "17a14bb0-dc9a-4df2-b254-0d3e4939bc71",
   "metadata": {},
   "source": [
    "- A binomial distribution's expected value is calculated by multiplying the sample size (s) by the probability of successes (p). So, the expected value is about 1.8."
   ]
  },
  {
   "cell_type": "code",
   "execution_count": 4,
   "id": "599c14b6-ddbe-43e7-b2e6-440b0661caad",
   "metadata": {},
   "outputs": [
    {
     "data": {
      "text/plain": [
       "(0.06400000000000002,\n",
       " 0.28800000000000003,\n",
       " 0.43200000000000005,\n",
       " 0.21599999999999997)"
      ]
     },
     "execution_count": 4,
     "metadata": {},
     "output_type": "execute_result"
    }
   ],
   "source": [
    "#2 What is the probability your get 0, 1, 2 or 3 “successes”?\n",
    "zero = (0.6)**0 * (0.4)**3\n",
    "one = ((3*2*1) / ((1) * (2*1))) * (0.6)**1 * (0.4)**2\n",
    "two = ((3*2*1) / ((2*1) * (1))) * (0.6)**2 * (0.4)**1\n",
    "three = (0.6)**3 * (0.4)**0\n",
    "zero, one, two, three"
   ]
  },
  {
   "cell_type": "markdown",
   "id": "38056b68-4018-432a-8e1c-44302428cde5",
   "metadata": {},
   "source": [
    "- The probability I get 0 success is about 0.06. The probability I get 1 success is about 0.29. The probability I get 2 successes is about 0.43. The probability I get 3 successes is about 0.22."
   ]
  },
  {
   "cell_type": "code",
   "execution_count": 5,
   "id": "52615a14-09f2-47fd-bd1c-1d2246f7b4f3",
   "metadata": {},
   "outputs": [
    {
     "data": {
      "text/plain": [
       "0.72"
      ]
     },
     "execution_count": 5,
     "metadata": {},
     "output_type": "execute_result"
    }
   ],
   "source": [
    "#3 What is variance of this RV Var X?\n",
    "var = s * p * (0.4)\n",
    "var"
   ]
  },
  {
   "cell_type": "markdown",
   "id": "579ace2d-94f1-4cd4-9d97-300bc8fb5dad",
   "metadata": {},
   "source": [
    "- A binomial distribution's variance is calculated by multiplying the expected value by the (1 - probability). So the variance of this RV is 0.72."
   ]
  },
  {
   "cell_type": "code",
   "execution_count": 6,
   "id": "044ee70c-3a72-4d18-92f3-0b25afa67ad4",
   "metadata": {},
   "outputs": [],
   "source": [
    "#4 Pick a sample size R (1000...100,000 are good numbers) and create a sample of size R of such random values.\n",
    "R = 100000\n",
    "new_RV = np.random.binomial(s, p, size=R)"
   ]
  },
  {
   "cell_type": "markdown",
   "id": "871e8559-76d8-4c2d-a018-082bb54a90f3",
   "metadata": {},
   "source": [
    "- I chose a new sample of size 100000."
   ]
  },
  {
   "cell_type": "code",
   "execution_count": 7,
   "id": "dfc6f30f-e044-45e2-91ff-629edeffcbc8",
   "metadata": {},
   "outputs": [
    {
     "data": {
      "text/plain": [
       "1.80277"
      ]
     },
     "execution_count": 7,
     "metadata": {},
     "output_type": "execute_result"
    }
   ],
   "source": [
    "#5 Compute the mean of your sample.\n",
    "np.mean(new_RV)"
   ]
  },
  {
   "cell_type": "markdown",
   "id": "104b12cf-f16f-4e45-b29c-86a0b478ef92",
   "metadata": {},
   "source": [
    "- The mean of new RV is about 1.8."
   ]
  },
  {
   "cell_type": "code",
   "execution_count": 8,
   "id": "0311d8e9-1d99-4aa6-a76a-bfa327cc2594",
   "metadata": {},
   "outputs": [
    {
     "data": {
      "text/plain": [
       "0.7208103270999998"
      ]
     },
     "execution_count": 8,
     "metadata": {},
     "output_type": "execute_result"
    }
   ],
   "source": [
    "#6 Compute the variance of your sample.\n",
    "np.var(new_RV)"
   ]
  },
  {
   "cell_type": "markdown",
   "id": "4da7ffe3-5a66-4a62-b181-fee7c8578a65",
   "metadata": {},
   "source": [
    "- The variance of new RV is about 0.72."
   ]
  },
  {
   "cell_type": "code",
   "execution_count": 9,
   "id": "99886674-5f4b-49c0-adc1-d13a3917dfad",
   "metadata": {},
   "outputs": [
    {
     "data": {
      "text/plain": [
       "(60.0, 290.0, 430.0, 220.0)"
      ]
     },
     "execution_count": 9,
     "metadata": {},
     "output_type": "execute_result"
    }
   ],
   "source": [
    "#7 Given your sample size, what are the expected number of cases with 0, 1, 2, and 3 successes?\n",
    "new_zero = 0.06 * 1000\n",
    "new_one = 0.29 * 1000\n",
    "new_two = 0.43 * 1000\n",
    "new_three = 0.22 *1000\n",
    "new_zero, new_one, new_two, new_three"
   ]
  },
  {
   "cell_type": "markdown",
   "id": "379bd12b-1f20-4262-9874-e2130e5b7751",
   "metadata": {},
   "source": [
    "- The expected number is calculated by multiplying the probability that I get by the sample size. So, the expected number of cases with 0 success is 60, that with 1 success is 290, that with 2 success is 430, that with 3 success is 220."
   ]
  },
  {
   "cell_type": "code",
   "execution_count": 10,
   "id": "84071fd8-296c-4508-b54d-f657fb53ae14",
   "metadata": {},
   "outputs": [],
   "source": [
    "#8 Make a histogram of your sample.\n",
    "successes = [0, 1, 2, 3]\n",
    "counts = [new_zero, new_one, new_two, new_three]"
   ]
  },
  {
   "cell_type": "code",
   "execution_count": 11,
   "id": "63e18409-56e0-4145-b090-0aafc022d734",
   "metadata": {},
   "outputs": [
    {
     "data": {
      "text/plain": [
       "(array([ 6348.,     0.,     0., 28803.,     0.,     0., 43073.,     0.,\n",
       "            0., 21776.]),\n",
       " array([0. , 0.3, 0.6, 0.9, 1.2, 1.5, 1.8, 2.1, 2.4, 2.7, 3. ]),\n",
       " <BarContainer object of 10 artists>)"
      ]
     },
     "execution_count": 11,
     "metadata": {},
     "output_type": "execute_result"
    },
    {
     "data": {
      "image/png": "[encoded data removed]",
      "text/plain": [
       "<Figure size 432x288 with 1 Axes>"
      ]
     },
     "metadata": {
      "needs_background": "light"
     },
     "output_type": "display_data"
    }
   ],
   "source": [
    "plt.hist(new_RV)"
   ]
  },
  {
   "cell_type": "code",
   "execution_count": 12,
   "id": "1975be0a-c7d4-4821-a43f-ba91ca6a8843",
   "metadata": {},
   "outputs": [
    {
     "data": {
      "text/plain": [
       "<matplotlib.collections.PathCollection at 0x7f33e6a1fb80>"
      ]
     },
     "execution_count": 12,
     "metadata": {},
     "output_type": "execute_result"
    },
    {
     "data": {
      "image/png": "[encoded data removed]",
      "text/plain": [
       "<Figure size 432x288 with 1 Axes>"
      ]
     },
     "metadata": {
      "needs_background": "light"
     },
     "output_type": "display_data"
    }
   ],
   "source": [
    "plt.scatter(successes, counts, c=\"red\")"
   ]
  },
  {
   "cell_type": "markdown",
   "id": "1f2bcfd8-a1bb-46d9-8b0a-b1e0e16d3b55",
   "metadata": {},
   "source": [
    "- The histogram and the scatterplot matches well. Both the random number and the expected number of 2 successes is the highest, and both the random number and the expected number of 0 success is the lowest. Plus,the number of 1 success is higher than that of 3 successes in both graph."
   ]
  },
  {
   "cell_type": "markdown",
   "id": "3f19d279-6876-45de-8e57-9bcecdedc5a8",
   "metadata": {},
   "source": [
    "### Q.2 Log-normal distribution "
   ]
  },
  {
   "cell_type": "code",
   "execution_count": 13,
   "id": "9cac0063-ada5-44a8-be7b-a30c7a56f8e8",
   "metadata": {},
   "outputs": [
    {
     "data": {
      "text/plain": [
       "array([2.53648321, 0.15031316, 0.4205048 , ..., 0.95903315, 1.29741534,\n",
       "       0.54948659])"
      ]
     },
     "execution_count": 13,
     "metadata": {},
     "output_type": "execute_result"
    }
   ],
   "source": [
    "#1 Choose your sample size S. 10,000 is a good number.\n",
    "mean = 0\n",
    "sigma = 1\n",
    "RL = np.random.lognormal(mean, sigma, size=10000)\n",
    "RL"
   ]
  },
  {
   "cell_type": "code",
   "execution_count": 14,
   "id": "504f2c98-7cbd-408a-8522-2f63c8b4c111",
   "metadata": {},
   "outputs": [
    {
     "data": {
      "text/plain": [
       "Text(0.5, 1.0, 'LN(0, 0.2) - linear-linear')"
      ]
     },
     "execution_count": 14,
     "metadata": {},
     "output_type": "execute_result"
    },
    {
     "data": {
      "image/png": "[encoded data removed]",
      "text/plain": [
       "<Figure size 432x288 with 1 Axes>"
      ]
     },
     "metadata": {
      "needs_background": "light"
     },
     "output_type": "display_data"
    }
   ],
   "source": [
    "#2 Explore the shape of the distribution\n",
    "mean = 0\n",
    "sigma = 0.2\n",
    "RL_one = np.random.lognormal(mean, sigma, size=10000)\n",
    "\n",
    "plt.hist(RL_one, edgecolor ='w', bins=50)\n",
    "plt.title('LN(0, 0.2) - linear-linear')"
   ]
  },
  {
   "cell_type": "code",
   "execution_count": 15,
   "id": "153a208c-1ffc-40d3-b6c1-f5a9b7a7db90",
   "metadata": {},
   "outputs": [
    {
     "data": {
      "text/plain": [
       "Text(0.5, 1.0, 'LN(0, 0.2) - log-linear')"
      ]
     },
     "execution_count": 15,
     "metadata": {},
     "output_type": "execute_result"
    },
    {
     "data": {
      "image/png": "[encoded data removed]",
      "text/plain": [
       "<Figure size 432x288 with 1 Axes>"
      ]
     },
     "metadata": {
      "needs_background": "light"
     },
     "output_type": "display_data"
    }
   ],
   "source": [
    "plt.hist(RL_one, edgecolor ='w', bins=50)\n",
    "plt.xscale('log')\n",
    "plt.yscale('linear')\n",
    "plt.title('LN(0, 0.2) - log-linear')"
   ]
  },
  {
   "cell_type": "code",
   "execution_count": 16,
   "id": "ca205953-1f70-45c3-b611-1b96271b79c0",
   "metadata": {},
   "outputs": [
    {
     "data": {
      "text/plain": [
       "Text(0.5, 1.0, 'LN(0, 0.5) - linear-linear')"
      ]
     },
     "execution_count": 16,
     "metadata": {},
     "output_type": "execute_result"
    },
    {
     "data": {
      "image/png": "[encoded data removed]",
      "text/plain": [
       "<Figure size 432x288 with 1 Axes>"
      ]
     },
     "metadata": {
      "needs_background": "light"
     },
     "output_type": "display_data"
    }
   ],
   "source": [
    "mean = 0\n",
    "sigma = 0.5\n",
    "RL_two = np.random.lognormal(mean, sigma, size=10000)\n",
    "\n",
    "plt.hist(RL_two, edgecolor ='w', bins=50)\n",
    "plt.title('LN(0, 0.5) - linear-linear')"
   ]
  },
  {
   "cell_type": "code",
   "execution_count": 17,
   "id": "372fc959-0707-4f5e-a1e9-ccd543694a37",
   "metadata": {},
   "outputs": [
    {
     "data": {
      "text/plain": [
       "Text(0.5, 1.0, 'LN(0, 0.5) - log-linear')"
      ]
     },
     "execution_count": 17,
     "metadata": {},
     "output_type": "execute_result"
    },
    {
     "data": {
      "image/png": "[encoded data removed]",
      "text/plain": [
       "<Figure size 432x288 with 1 Axes>"
      ]
     },
     "metadata": {
      "needs_background": "light"
     },
     "output_type": "display_data"
    }
   ],
   "source": [
    "plt.hist(RL_two, edgecolor ='w', bins=50)\n",
    "plt.xscale('log')\n",
    "plt.yscale('linear')\n",
    "plt.title('LN(0, 0.5) - log-linear')"
   ]
  },
  {
   "cell_type": "code",
   "execution_count": 18,
   "id": "aa1696c0-8949-44a8-a6e6-137b73748ee0",
   "metadata": {},
   "outputs": [
    {
     "data": {
      "text/plain": [
       "Text(0.5, 1.0, 'LN(0, 1.68) - linear-linear')"
      ]
     },
     "execution_count": 18,
     "metadata": {},
     "output_type": "execute_result"
    },
    {
     "data": {
      "image/png": "[encoded data removed]",
      "text/plain": [
       "<Figure size 432x288 with 1 Axes>"
      ]
     },
     "metadata": {
      "needs_background": "light"
     },
     "output_type": "display_data"
    }
   ],
   "source": [
    "mean = 0\n",
    "sigma = 1.68\n",
    "RL_three = np.random.lognormal(mean, sigma, size=10000)\n",
    "\n",
    "plt.hist(RL_three, edgecolor ='w', bins=50)\n",
    "plt.title('LN(0, 1.68) - linear-linear')"
   ]
  },
  {
   "cell_type": "code",
   "execution_count": 19,
   "id": "4e783bfd-0bba-4fb3-b231-81390c879a6c",
   "metadata": {},
   "outputs": [
    {
     "data": {
      "text/plain": [
       "Text(0.5, 1.0, 'LN(0, 1.68) - log-linear')"
      ]
     },
     "execution_count": 19,
     "metadata": {},
     "output_type": "execute_result"
    },
    {
     "data": {
      "image/png": "[encoded data removed]",
      "text/plain": [
       "<Figure size 432x288 with 1 Axes>"
      ]
     },
     "metadata": {
      "needs_background": "light"
     },
     "output_type": "display_data"
    }
   ],
   "source": [
    "plt.hist(RL_three, edgecolor ='w', bins=50)\n",
    "plt.xscale('log')\n",
    "plt.yscale('linear')\n",
    "plt.title('LN(0, 1.68) - log-linear')"
   ]
  },
  {
   "cell_type": "markdown",
   "id": "a971e3ab-a719-4e6f-9bdb-22e52e247f25",
   "metadata": {},
   "source": [
    "- All graphs skewed to the right, but the larger the variance gets, the skewer the graph gets to the right. The log graph of LN(0,0.5) and LN(0,1.68) do not look normal since the bin width is to wide."
   ]
  },
  {
   "cell_type": "code",
   "execution_count": 20,
   "id": "c57ec810-dc43-4e2d-911c-c0b385e2fdd4",
   "metadata": {},
   "outputs": [],
   "source": [
    "#3 Look at the histograms and tell-what do you think, which one describes the least unequal distribution,\n",
    "#  and which one the most unequal distribution?"
   ]
  },
  {
   "cell_type": "markdown",
   "id": "b8eead30-bb06-4d0c-ba6b-b975c8833279",
   "metadata": {},
   "source": [
    "- I think the 'LN(0, 0.2)' graph descirbes the least unequal distribution, while the 'LN(0, 1.68)' graph describes the most unequal distribution."
   ]
  },
  {
   "cell_type": "code",
   "execution_count": 21,
   "id": "33f73c98-2f95-4546-a298-b0a3f1c15328",
   "metadata": {},
   "outputs": [
    {
     "data": {
      "text/plain": [
       "(1.0184872645697458,\n",
       " 1.0202013400267558,\n",
       " 0.042134724369827445,\n",
       " 0.04247629348257031)"
      ]
     },
     "execution_count": 21,
     "metadata": {},
     "output_type": "execute_result"
    }
   ],
   "source": [
    "#4 Compute sample means and variance, and compare those with what you get using the corresponding theoretical formulas.\n",
    "e = 2.718281828459045\n",
    "np.mean(RL_one), e**(0 + 1/2 * 0.2**2), np.var(RL_one), e**(2 * 0 + 0.2**2) * (e**(0.2**2) - 1)"
   ]
  },
  {
   "cell_type": "code",
   "execution_count": 22,
   "id": "78694ab0-672d-456b-ad35-7ad5a08e53f1",
   "metadata": {},
   "outputs": [
    {
     "data": {
      "text/plain": [
       "(1.1373863012136123,\n",
       " 1.1331484530668263,\n",
       " 0.3697686877560255,\n",
       " 0.3646958540123865)"
      ]
     },
     "execution_count": 22,
     "metadata": {},
     "output_type": "execute_result"
    }
   ],
   "source": [
    "np.mean(RL_two), e**(0 + 1/2 * 0.5**2), np.var(RL_two), e**(2 * 0 + 0.5**2) * (e**(0.5**2) - 1)"
   ]
  },
  {
   "cell_type": "code",
   "execution_count": 23,
   "id": "c11fb224-7afa-4f2e-84bd-a5299bf73569",
   "metadata": {},
   "outputs": [
    {
     "data": {
      "text/plain": [
       "(4.09218774071618, 4.1008735008239405, 214.69304606293616, 265.99982369887033)"
      ]
     },
     "execution_count": 23,
     "metadata": {},
     "output_type": "execute_result"
    }
   ],
   "source": [
    "np.mean(RL_three), e**(0 + 1/2 * 1.68**2), np.var(RL_three), e**(2 * 0 + 1.68**2) * (e**(1.68**2) - 1)"
   ]
  },
  {
   "cell_type": "markdown",
   "id": "3ee46edd-dbc2-4c81-a493-7fecb35f5a1d",
   "metadata": {},
   "source": [
    "- The less inequality, the more similar the theoretical and sample values are. The first sample with 0 log-mean and 0.2 log-variance has the least inequality and its theoretical and sample values are the most similar, while the last sample with 0 log-mean and 1.68 log- variance has the most ineqality and its each values are the least similar."
   ]
  },
  {
   "cell_type": "code",
   "execution_count": 24,
   "id": "7aae0bf2-95ce-4d41-b7e0-12fa4a3d7c51",
   "metadata": {},
   "outputs": [
    {
     "data": {
      "text/plain": [
       "0.19636966210322607"
      ]
     },
     "execution_count": 24,
     "metadata": {},
     "output_type": "execute_result"
    }
   ],
   "source": [
    "#5 Compute the Pareto ratio of all three samples.\n",
    "RL_one_20 = (RL_one >= np.percentile(RL_one, 80))\n",
    "RL_one_20.sum()/RL_one.sum()"
   ]
  },
  {
   "cell_type": "code",
   "execution_count": 25,
   "id": "19e45a8c-7693-43f7-9d60-7d7b2eb868eb",
   "metadata": {},
   "outputs": [
    {
     "data": {
      "text/plain": [
       "0.17584175208246863"
      ]
     },
     "execution_count": 25,
     "metadata": {},
     "output_type": "execute_result"
    }
   ],
   "source": [
    "RL_two_20 = (RL_two >= np.percentile(RL_two, 80))\n",
    "RL_two_20.sum()/RL_two.sum()"
   ]
  },
  {
   "cell_type": "code",
   "execution_count": 26,
   "id": "12898ea5-271d-44be-aa02-d05c904c2a33",
   "metadata": {},
   "outputs": [
    {
     "data": {
      "text/plain": [
       "0.04887361300901549"
      ]
     },
     "execution_count": 26,
     "metadata": {},
     "output_type": "execute_result"
    }
   ],
   "source": [
    "RL_three_20 = (RL_three >= np.percentile(RL_three, 80))\n",
    "RL_three_20.sum()/RL_three.sum()"
   ]
  },
  {
   "cell_type": "markdown",
   "id": "76f4e3b7-0e7b-400f-bd72-00d515acfb4b",
   "metadata": {},
   "source": [
    "- Based on the Pareto ratio, first sample with 0 log-mean and 0.2 log-variance is the most unequal one and the last sample with 0 log-mean and 1.68 log- variance is the most equal one. This result is different from the result I gased based on the histogram."
   ]
  },
  {
   "cell_type": "markdown",
   "id": "f6f7225a-1219-4677-9ba4-7a28d45e3c7d",
   "metadata": {},
   "source": [
    "### Q.3 Inequality in data "
   ]
  },
  {
   "cell_type": "code",
   "execution_count": 27,
   "id": "c96a8bc8-fff6-417e-9808-493a2d4793b3",
   "metadata": {},
   "outputs": [],
   "source": [
    "#1 Load both datasets and do basic checks—do the values of interest (number of citations and income) look reasonable?\n",
    "treatment = pd.read_csv(\"../data/treatment.csv.bz2\", sep=\"\\t\")\n",
    "citation = pd.read_csv(\"../data/mag-30k-citations.csv.bz2\", sep=\"\\t\")"
   ]
  },
  {
   "cell_type": "code",
   "execution_count": 28,
   "id": "6628d790-3bca-4eb3-a44a-994183f37536",
   "metadata": {},
   "outputs": [
    {
     "data": {
      "text/html": [
       "<div>\n",
       "<style scoped>\n",
       "    .dataframe tbody tr th:only-of-type {\n",
       "        vertical-align: middle;\n",
       "    }\n",
       "\n",
       "    .dataframe tbody tr th {\n",
       "        vertical-align: top;\n",
       "    }\n",
       "\n",
       "    .dataframe thead th {\n",
       "        text-align: right;\n",
       "    }\n",
       "</style>\n",
       "<table border=\"1\" class=\"dataframe\">\n",
       "  <thead>\n",
       "    <tr style=\"text-align: right;\">\n",
       "      <th></th>\n",
       "      <th>re78</th>\n",
       "    </tr>\n",
       "  </thead>\n",
       "  <tbody>\n",
       "    <tr>\n",
       "      <th>0</th>\n",
       "      <td>9930.05</td>\n",
       "    </tr>\n",
       "    <tr>\n",
       "      <th>1</th>\n",
       "      <td>24909.50</td>\n",
       "    </tr>\n",
       "    <tr>\n",
       "      <th>2</th>\n",
       "      <td>7506.15</td>\n",
       "    </tr>\n",
       "    <tr>\n",
       "      <th>3</th>\n",
       "      <td>289.79</td>\n",
       "    </tr>\n",
       "    <tr>\n",
       "      <th>4</th>\n",
       "      <td>4056.49</td>\n",
       "    </tr>\n",
       "    <tr>\n",
       "      <th>...</th>\n",
       "      <td>...</td>\n",
       "    </tr>\n",
       "    <tr>\n",
       "      <th>2670</th>\n",
       "      <td>38568.70</td>\n",
       "    </tr>\n",
       "    <tr>\n",
       "      <th>2671</th>\n",
       "      <td>59109.10</td>\n",
       "    </tr>\n",
       "    <tr>\n",
       "      <th>2672</th>\n",
       "      <td>55710.30</td>\n",
       "    </tr>\n",
       "    <tr>\n",
       "      <th>2673</th>\n",
       "      <td>20540.40</td>\n",
       "    </tr>\n",
       "    <tr>\n",
       "      <th>2674</th>\n",
       "      <td>53198.20</td>\n",
       "    </tr>\n",
       "  </tbody>\n",
       "</table>\n",
       "<p>2675 rows × 1 columns</p>\n",
       "</div>"
      ],
      "text/plain": [
       "          re78\n",
       "0      9930.05\n",
       "1     24909.50\n",
       "2      7506.15\n",
       "3       289.79\n",
       "4      4056.49\n",
       "...        ...\n",
       "2670  38568.70\n",
       "2671  59109.10\n",
       "2672  55710.30\n",
       "2673  20540.40\n",
       "2674  53198.20\n",
       "\n",
       "[2675 rows x 1 columns]"
      ]
     },
     "execution_count": 28,
     "metadata": {},
     "output_type": "execute_result"
    }
   ],
   "source": [
    "income = treatment[[\"re78\"]]\n",
    "income"
   ]
  },
  {
   "cell_type": "code",
   "execution_count": 29,
   "id": "833415f1-d535-4787-8252-a2db7990263f",
   "metadata": {},
   "outputs": [
    {
     "data": {
      "text/html": [
       "<div>\n",
       "<style scoped>\n",
       "    .dataframe tbody tr th:only-of-type {\n",
       "        vertical-align: middle;\n",
       "    }\n",
       "\n",
       "    .dataframe tbody tr th {\n",
       "        vertical-align: top;\n",
       "    }\n",
       "\n",
       "    .dataframe thead th {\n",
       "        text-align: right;\n",
       "    }\n",
       "</style>\n",
       "<table border=\"1\" class=\"dataframe\">\n",
       "  <thead>\n",
       "    <tr style=\"text-align: right;\">\n",
       "      <th></th>\n",
       "      <th>citations</th>\n",
       "    </tr>\n",
       "  </thead>\n",
       "  <tbody>\n",
       "    <tr>\n",
       "      <th>0</th>\n",
       "      <td>10</td>\n",
       "    </tr>\n",
       "    <tr>\n",
       "      <th>1</th>\n",
       "      <td>0</td>\n",
       "    </tr>\n",
       "    <tr>\n",
       "      <th>2</th>\n",
       "      <td>3</td>\n",
       "    </tr>\n",
       "    <tr>\n",
       "      <th>3</th>\n",
       "      <td>0</td>\n",
       "    </tr>\n",
       "    <tr>\n",
       "      <th>4</th>\n",
       "      <td>42</td>\n",
       "    </tr>\n",
       "    <tr>\n",
       "      <th>...</th>\n",
       "      <td>...</td>\n",
       "    </tr>\n",
       "    <tr>\n",
       "      <th>29995</th>\n",
       "      <td>0</td>\n",
       "    </tr>\n",
       "    <tr>\n",
       "      <th>29996</th>\n",
       "      <td>1</td>\n",
       "    </tr>\n",
       "    <tr>\n",
       "      <th>29997</th>\n",
       "      <td>0</td>\n",
       "    </tr>\n",
       "    <tr>\n",
       "      <th>29998</th>\n",
       "      <td>11</td>\n",
       "    </tr>\n",
       "    <tr>\n",
       "      <th>29999</th>\n",
       "      <td>84</td>\n",
       "    </tr>\n",
       "  </tbody>\n",
       "</table>\n",
       "<p>30000 rows × 1 columns</p>\n",
       "</div>"
      ],
      "text/plain": [
       "       citations\n",
       "0             10\n",
       "1              0\n",
       "2              3\n",
       "3              0\n",
       "4             42\n",
       "...          ...\n",
       "29995          0\n",
       "29996          1\n",
       "29997          0\n",
       "29998         11\n",
       "29999         84\n",
       "\n",
       "[30000 rows x 1 columns]"
      ]
     },
     "execution_count": 29,
     "metadata": {},
     "output_type": "execute_result"
    }
   ],
   "source": [
    "citations = citation[[\"citations\"]]\n",
    "citations"
   ]
  },
  {
   "cell_type": "markdown",
   "id": "ddee1231-ef4f-4c5d-853b-c1b74ef795ee",
   "metadata": {},
   "source": [
    "- Yes, they look reasonable."
   ]
  },
  {
   "cell_type": "code",
   "execution_count": 30,
   "id": "3db58abe-017c-491a-b018-1a8a84d84ff8",
   "metadata": {},
   "outputs": [
    {
     "data": {
      "text/plain": [
       "Text(0.5, 1.0, 'distrubution of income')"
      ]
     },
     "execution_count": 30,
     "metadata": {},
     "output_type": "execute_result"
    },
    {
     "data": {
      "image/png": "[encoded data removed]",
      "text/plain": [
       "<Figure size 432x288 with 1 Axes>"
      ]
     },
     "metadata": {
      "needs_background": "light"
     },
     "output_type": "display_data"
    }
   ],
   "source": [
    "#2  Show the distribution of income and citations on a histogram.\n",
    "plt.hist(income, edgecolor ='w', bins=50)\n",
    "plt.title(\"distrubution of income\")"
   ]
  },
  {
   "cell_type": "code",
   "execution_count": 80,
   "id": "d7bf7f14-5ec6-4f6e-a4fa-91d89058aba5",
   "metadata": {},
   "outputs": [
    {
     "data": {
      "image/png": "[encoded data removed]",
      "text/plain": [
       "<Figure size 432x288 with 1 Axes>"
      ]
     },
     "metadata": {
      "needs_background": "light"
     },
     "output_type": "display_data"
    }
   ],
   "source": [
    "plt.hist(np.log(1+income), edgecolor ='w', bins=50)\n",
    "plt.title(\"distrubution of log-income\")\n",
    "plt.yscale('linear')"
   ]
  },
  {
   "cell_type": "code",
   "execution_count": 32,
   "id": "98f7be70-9592-4236-9bf4-5a828c45dd71",
   "metadata": {},
   "outputs": [
    {
     "data": {
      "text/plain": [
       "Text(0.5, 1.0, 'distrubution of citation')"
      ]
     },
     "execution_count": 32,
     "metadata": {},
     "output_type": "execute_result"
    },
    {
     "data": {
      "image/png": "[encoded data removed]",
      "text/plain": [
       "<Figure size 432x288 with 1 Axes>"
      ]
     },
     "metadata": {
      "needs_background": "light"
     },
     "output_type": "display_data"
    }
   ],
   "source": [
    "plt.hist(citations, edgecolor ='w', bins=50)\n",
    "plt.title(\"distrubution of citation\")"
   ]
  },
  {
   "cell_type": "code",
   "execution_count": 33,
   "id": "7a1c7620-c0b5-4179-a6bb-7b26878f2df9",
   "metadata": {},
   "outputs": [
    {
     "data": {
      "image/png": "[encoded data removed]",
      "text/plain": [
       "<Figure size 432x288 with 1 Axes>"
      ]
     },
     "metadata": {
      "needs_background": "light"
     },
     "output_type": "display_data"
    }
   ],
   "source": [
    "plt.hist(citations, edgecolor ='w', bins=50)\n",
    "plt.title(\"distrubution of log citation\")\n",
    "plt.xscale('log')\n",
    "plt.yscale('linear')"
   ]
  },
  {
   "cell_type": "code",
   "execution_count": 34,
   "id": "d58cc5dc-40e1-4eb6-97d8-161ac8ff7405",
   "metadata": {},
   "outputs": [
    {
     "data": {
      "text/plain": [
       "(re78    20502.376079\n",
       " dtype: float64,\n",
       " re78    15629.597535\n",
       " dtype: float64)"
      ]
     },
     "execution_count": 34,
     "metadata": {},
     "output_type": "execute_result"
    }
   ],
   "source": [
    "#3 Compute sample mean and standard deviation for both datasets. \n",
    "#  Compare these: how much smaller (or larger) is std. dev compared to the mean?\n",
    "np.mean(income), np.var(income)**0.5"
   ]
  },
  {
   "cell_type": "code",
   "execution_count": 35,
   "id": "180ed8fe-0f31-498e-bffb-f0d42a7db121",
   "metadata": {},
   "outputs": [
    {
     "data": {
      "text/plain": [
       "(citations    15.605633\n",
       " dtype: float64,\n",
       " citations    79.176783\n",
       " dtype: float64)"
      ]
     },
     "execution_count": 35,
     "metadata": {},
     "output_type": "execute_result"
    }
   ],
   "source": [
    "np.mean(citations), np.var(citations)**0.5"
   ]
  },
  {
   "cell_type": "markdown",
   "id": "510f5fc9-1e8c-4756-a87c-330615a5d5b0",
   "metadata": {},
   "source": [
    "- The standard deviation in income dataset is about 4873 smaller than its mean, while the standard deviation in citations dataset is about 64 larger than its mean."
   ]
  },
  {
   "cell_type": "code",
   "execution_count": 36,
   "id": "3e7415f2-f15b-4ca5-8d85-9e7eff4b9117",
   "metadata": {},
   "outputs": [
    {
     "data": {
      "text/plain": [
       "0.4339874223192208"
      ]
     },
     "execution_count": 36,
     "metadata": {},
     "output_type": "execute_result"
    }
   ],
   "source": [
    "#4 Compute the Pareto ratio for both distributions.\n",
    "income_20 = income[income.re78 >= income.re78.quantile(.8)]\n",
    "income_20.re78.sum()/income.re78.sum()"
   ]
  },
  {
   "cell_type": "code",
   "execution_count": 37,
   "id": "bf555476-bab5-4e9f-83e5-f10901b8d8ed",
   "metadata": {},
   "outputs": [
    {
     "data": {
      "text/plain": [
       "0.869156223500488"
      ]
     },
     "execution_count": 37,
     "metadata": {},
     "output_type": "execute_result"
    }
   ],
   "source": [
    "citation_20 = citations[citations.citations >= citations.citations.quantile(.8)]\n",
    "citation_20.citations.sum()/citations.citations.sum()"
   ]
  },
  {
   "cell_type": "markdown",
   "id": "08d8d771-5f32-424b-8b15-d664c512b951",
   "metadata": {},
   "source": [
    "- The Pareto ratio for income distribution is about 0.43, and that for citation distribution is about 0.87."
   ]
  },
  {
   "cell_type": "markdown",
   "id": "19b4cbea-556d-40f4-83ae-79f4233b5714",
   "metadata": {},
   "source": [
    "### Q.4 Variance of mean "
   ]
  },
  {
   "cell_type": "code",
   "execution_count": 38,
   "id": "30c3c0d4-ad49-4ca1-862c-19f9be1d61a2",
   "metadata": {},
   "outputs": [],
   "source": [
    "#1  Pick your number of repetitions R.\n",
    "s, p = 3, 0.6\n",
    "R = 100000"
   ]
  },
  {
   "cell_type": "markdown",
   "id": "340f5e91-5727-40f4-b92c-254b800f026c",
   "metadata": {},
   "source": [
    "- I chose 100000 as the number of repetitions R."
   ]
  },
  {
   "cell_type": "code",
   "execution_count": 39,
   "id": "d63540e7-d6ad-47bf-960d-e21b353abaa9",
   "metadata": {},
   "outputs": [],
   "source": [
    "#2 Now do R times in a loop: create a single realization of this RV.\n",
    "realization = []\n",
    "for i in range(R):\n",
    "    n_RV = np.random.binomial(s, p)\n",
    "    realization.append(n_RV)"
   ]
  },
  {
   "cell_type": "markdown",
   "id": "96f82d44-4496-40b2-b322-214988270edf",
   "metadata": {},
   "source": [
    "- 'Realization' is a single realization of the RV."
   ]
  },
  {
   "cell_type": "code",
   "execution_count": 40,
   "id": "8be19ded-17d4-4232-b216-8e475a0d1bdd",
   "metadata": {},
   "outputs": [
    {
     "data": {
      "text/plain": [
       "0.7219274375000001"
      ]
     },
     "execution_count": 40,
     "metadata": {},
     "output_type": "execute_result"
    }
   ],
   "source": [
    "#3 Compute variance of your sample.\n",
    "np.var(realization)"
   ]
  },
  {
   "cell_type": "markdown",
   "id": "d3a53df1-de21-49e8-ace9-7afe9165ff73",
   "metadata": {},
   "source": [
    "- The variance of the sample is about 0.72."
   ]
  },
  {
   "cell_type": "code",
   "execution_count": 58,
   "id": "76b3bd0d-06e7-4f08-9663-3ac35c44cc08",
   "metadata": {},
   "outputs": [],
   "source": [
    "#4 Do a loop of R again, but this time create a pair of realizations (S = 2).\n",
    "#  Compute the pair mean, and store it in a vector. You should have R pair means.\n",
    "pair_realization = []\n",
    "S = 2\n",
    "for i in range(R):\n",
    "    n_RV = np.random.binomial(s, p, size=S)\n",
    "    pair_realization.append(n_RV)"
   ]
  },
  {
   "cell_type": "code",
   "execution_count": 60,
   "id": "63bbac59-7956-4337-b6a0-75b1b0eca692",
   "metadata": {},
   "outputs": [
    {
     "data": {
      "text/plain": [
       "array([2.5, 2. , 1. , ..., 1. , 2.5, 2. ])"
      ]
     },
     "execution_count": 60,
     "metadata": {},
     "output_type": "execute_result"
    }
   ],
   "source": [
    "pair_ = np.array(pair_realization)\n",
    "pair_mean = np.mean(pair_, axis=1)\n",
    "pair_mean"
   ]
  },
  {
   "cell_type": "markdown",
   "id": "c3e3dbd2-5855-489d-bcd8-ec65fde7b1c5",
   "metadata": {},
   "source": [
    "- 'Pair_mean' is a vector of R pair means."
   ]
  },
  {
   "cell_type": "code",
   "execution_count": 61,
   "id": "357d3d5e-7945-43db-a4c7-e56e937e70c5",
   "metadata": {},
   "outputs": [
    {
     "data": {
      "text/plain": [
       "0.3637684997749999"
      ]
     },
     "execution_count": 61,
     "metadata": {},
     "output_type": "execute_result"
    }
   ],
   "source": [
    "#5 Compute variance of your pair means.\n",
    "np.var(pair_mean)"
   ]
  },
  {
   "cell_type": "markdown",
   "id": "29687857-4943-4eb2-91c5-1ef205ced28a",
   "metadata": {},
   "source": [
    "- The variance of the pair means is about 0.36."
   ]
  },
  {
   "cell_type": "code",
   "execution_count": 64,
   "id": "659d0b2f-5ab8-49de-8e57-d926a1573803",
   "metadata": {},
   "outputs": [],
   "source": [
    "#6  Repeat with S = 10-tuples and with S = 100-tuples. In both cases compute variance.\n",
    "realizations = []\n",
    "S = 10\n",
    "for i in range(R):\n",
    "    n_RV = np.random.binomial(s, p, size=S)\n",
    "    realizations.append(n_RV)"
   ]
  },
  {
   "cell_type": "code",
   "execution_count": 68,
   "id": "437aefac-9364-450a-b709-8690223f0f99",
   "metadata": {},
   "outputs": [
    {
     "data": {
      "text/plain": [
       "array([2.2, 1.8, 1.2, ..., 2. , 2.1, 1.7])"
      ]
     },
     "execution_count": 68,
     "metadata": {},
     "output_type": "execute_result"
    }
   ],
   "source": [
    "index_mean = np.array(realizations)\n",
    "mean = np.mean(index_mean, axis=1)\n",
    "mean"
   ]
  },
  {
   "cell_type": "code",
   "execution_count": 70,
   "id": "3788dce3-a8b3-4b89-a760-e87451526bca",
   "metadata": {},
   "outputs": [
    {
     "data": {
      "text/plain": [
       "0.07232058150399999"
      ]
     },
     "execution_count": 70,
     "metadata": {},
     "output_type": "execute_result"
    }
   ],
   "source": [
    "np.var(mean)"
   ]
  },
  {
   "cell_type": "code",
   "execution_count": 71,
   "id": "3649399a-16d5-4517-bdd4-b43909d81bc4",
   "metadata": {},
   "outputs": [],
   "source": [
    "new_realizations = []\n",
    "S = 100\n",
    "for i in range(R):\n",
    "    n_RV = np.random.binomial(s, p, size=S)\n",
    "    new_realizations.append(n_RV)"
   ]
  },
  {
   "cell_type": "code",
   "execution_count": 72,
   "id": "b4bddfee-d0ea-42c2-b6af-7140efcd7663",
   "metadata": {},
   "outputs": [
    {
     "data": {
      "text/plain": [
       "array([1.84, 1.72, 1.7 , ..., 1.77, 1.78, 1.7 ])"
      ]
     },
     "execution_count": 72,
     "metadata": {},
     "output_type": "execute_result"
    }
   ],
   "source": [
    "index_means = np.array(new_realizations)\n",
    "means = np.mean(index_means, axis=1)\n",
    "means"
   ]
  },
  {
   "cell_type": "code",
   "execution_count": 73,
   "id": "4748af45-c044-4321-b199-7032d6e0a0d0",
   "metadata": {},
   "outputs": [
    {
     "data": {
      "text/plain": [
       "0.00722642496351"
      ]
     },
     "execution_count": 73,
     "metadata": {},
     "output_type": "execute_result"
    }
   ],
   "source": [
    "np.var(means)"
   ]
  },
  {
   "cell_type": "markdown",
   "id": "388e2ce0-e30e-4d49-8698-91ffebfa1f66",
   "metadata": {},
   "source": [
    "- The variance of means in S = 10-tuples is about 0.07, and the variance of means in S = 100-tuples is about 0.007."
   ]
  },
  {
   "cell_type": "code",
   "execution_count": 74,
   "id": "e2f86dae-aab2-4498-9328-c0371a2cedcd",
   "metadata": {},
   "outputs": [],
   "source": [
    "#7  Explain why variance of mean gets smaller when sample size S gets larger."
   ]
  },
  {
   "cell_type": "markdown",
   "id": "69f6da6b-1fa5-4ab8-bba1-95288a157a08",
   "metadata": {},
   "source": [
    "- As the sample size increases, the variance of mean decreases since the sample size is in the denominator in the formula for calculating variance. The more samples, the closer the results are to the mean value."
   ]
  },
  {
   "cell_type": "markdown",
   "id": "2577d342-5386-44ee-87d4-f41bc8085ae7",
   "metadata": {},
   "source": [
    "- I spent about 7 hours for this assignment."
   ]
  },
  {
   "cell_type": "code",
   "execution_count": null,
   "id": "85f3f036-e0ba-43fb-91fd-19b4f6545077",
   "metadata": {},
   "outputs": [],
   "source": []
  }
 ],
 "metadata": {
  "kernelspec": {
   "display_name": "Python 3 (ipykernel)",
   "language": "python",
   "name": "python3"
  },
  "language_info": {
   "codemirror_mode": {
    "name": "ipython",
    "version": 3
   },
   "file_extension": ".py",
   "mimetype": "text/x-python",
   "name": "python",
   "nbconvert_exporter": "python",
   "pygments_lexer": "ipython3",
   "version": "3.9.7"
  }
 },
 "nbformat": 4,
 "nbformat_minor": 5
}
