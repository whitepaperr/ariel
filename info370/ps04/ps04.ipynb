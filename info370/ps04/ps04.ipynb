{
 "cells": [
  {
   "cell_type": "code",
   "execution_count": 2,
   "id": "8e2a1f9b-7b63-4225-b661-2782f9581dce",
   "metadata": {},
   "outputs": [],
   "source": [
    "import pandas as pd\n",
    "import matplotlib.pyplot as plt\n",
    "import numpy as np"
   ]
  },
  {
   "cell_type": "markdown",
   "id": "1fe033cb-88df-4cf9-a6df-6a028f853424",
   "metadata": {},
   "source": [
    "### Q.1 Explore Central Limit Theorem "
   ]
  },
  {
   "cell_type": "code",
   "execution_count": 3,
   "id": "eae0e4a1-51b5-454e-ab2a-66b7319b6cb3",
   "metadata": {},
   "outputs": [
    {
     "data": {
      "text/plain": [
       "array([-1, -1,  1, -1, -1,  1,  1,  1, -1, -1])"
      ]
     },
     "execution_count": 3,
     "metadata": {},
     "output_type": "execute_result"
    }
   ],
   "source": [
    "np.random.randint(0,2, size=10)*2 - 1"
   ]
  },
  {
   "cell_type": "code",
   "execution_count": 4,
   "id": "18067bcf-1031-428e-9962-2076505dceaf",
   "metadata": {},
   "outputs": [],
   "source": [
    "#1 What is Random Variable (RV)? What makes X a RV?"
   ]
  },
  {
   "cell_type": "markdown",
   "id": "c214f017-f4d8-4ab5-8995-44bc373d84ad",
   "metadata": {},
   "source": [
    "- Random variable (RV) is a central concept that connects probability theory to statistics. RV-s are typically denoted by capital Latin letters, such as X or Z."
   ]
  },
  {
   "cell_type": "code",
   "execution_count": 5,
   "id": "5e7f22eb-8392-4324-9a6c-a909131e2057",
   "metadata": {},
   "outputs": [
    {
     "data": {
      "text/plain": [
       "0.0"
      ]
     },
     "execution_count": 5,
     "metadata": {},
     "output_type": "execute_result"
    }
   ],
   "source": [
    "#2 Calculate the expected value and variance of this random variable. \n",
    "#  Explain what is the difference between expected value and the sample mean.\n",
    "(0.5 * 1) + (0.5 * (-1))"
   ]
  },
  {
   "cell_type": "code",
   "execution_count": 6,
   "id": "dbe9df61-0fe4-4132-a5b2-4561708dde33",
   "metadata": {},
   "outputs": [
    {
     "data": {
      "text/plain": [
       "1.0"
      ]
     },
     "execution_count": 6,
     "metadata": {},
     "output_type": "execute_result"
    }
   ],
   "source": [
    "(0.5 * 1**2) + (0.5 * (-1)**2) - 0.0**2"
   ]
  },
  {
   "cell_type": "markdown",
   "id": "705df408-77e9-46ee-801d-a096fd94cdd2",
   "metadata": {},
   "source": [
    "- The expected value of this random variable is 0.0, and the variance is 1.0. The expected value and the sample mean is different because the expected value is a population parameter calculated based on probabilities, while the sample mean is a statistic calculated from observed data."
   ]
  },
  {
   "cell_type": "code",
   "execution_count": 7,
   "id": "b2dacce9-bf13-42b6-96fa-fd5c7a0f25aa",
   "metadata": {},
   "outputs": [],
   "source": [
    "#3 Choose your number of repetitions R. \n",
    "R = 1000"
   ]
  },
  {
   "cell_type": "markdown",
   "id": "5cd1ae1b-7eb0-4777-b521-f9cfa319b262",
   "metadata": {},
   "source": [
    "- I chose R = 1000 repetitions. This means I will generate 1000 samples, each of size S, from the random variable X."
   ]
  },
  {
   "cell_type": "code",
   "execution_count": 8,
   "id": "ffd6676c-2d2f-4326-b6f9-188fc544c460",
   "metadata": {},
   "outputs": [],
   "source": [
    "#4 Create a vector of R random realizations of X.\n",
    "#  Make a histogram of those. Comment the shape of the histogram.\n",
    "vector = []\n",
    "for i in range(R):\n",
    "    RV = np.random.randint(0,2, size=1)*2 - 1\n",
    "    vector.append(RV)\n",
    "vectors = np.reshape(vector, -1)"
   ]
  },
  {
   "cell_type": "code",
   "execution_count": 9,
   "id": "67ac96c5-c585-4f4e-8828-9f7f3ed0cb6f",
   "metadata": {},
   "outputs": [
    {
     "data": {
      "image/png": "[encoded data removed]",
      "text/plain": [
       "<Figure size 432x288 with 1 Axes>"
      ]
     },
     "metadata": {
      "needs_background": "light"
     },
     "output_type": "display_data"
    }
   ],
   "source": [
    "histogram = plt.hist(vectors, edgecolor ='w', bins=100)"
   ]
  },
  {
   "cell_type": "markdown",
   "id": "b9f77058-fc83-4b4b-a270-f8b3d74c5ee6",
   "metadata": {},
   "source": [
    "- It is distributed only at -1 and 1, and has the same value of each, so there is no remarkable shape in this histogram."
   ]
  },
  {
   "cell_type": "code",
   "execution_count": 10,
   "id": "3d67449b-c2e8-4667-9360-cd07dd3d1857",
   "metadata": {},
   "outputs": [
    {
     "data": {
      "text/plain": [
       "(0.004, 0.9999839999999997)"
      ]
     },
     "execution_count": 10,
     "metadata": {},
     "output_type": "execute_result"
    }
   ],
   "source": [
    "#5 Compute and report mean and variance of the sample you created.\n",
    "#  Compare these numbers with the theoretical values computed in question 2 above.\n",
    "np.mean(vectors), np.var(vectors)"
   ]
  },
  {
   "cell_type": "markdown",
   "id": "e4cc46ca-813b-4dc0-a494-54697b30cc69",
   "metadata": {},
   "source": [
    "- The sample mean is about 0, and the sample variance is about 1. These numbers are close to the theoretical values computed in question 2 above."
   ]
  },
  {
   "cell_type": "code",
   "execution_count": 11,
   "id": "68d9d2ba-a62f-4473-ae6e-df335c934fb1",
   "metadata": {},
   "outputs": [],
   "source": [
    "#6 Now create R pairs of random realizations of X (i.e. sample size S = 2). \n",
    "#  For each pair, compute its mean. You should have R mean values. Make the histogram. How does this look like?\n",
    "pair_vec = []\n",
    "for i in range(R):\n",
    "    RV = np.random.randint(0,2, size=2)*2 - 1\n",
    "    pair_vec.append(RV)\n",
    "pair_vectors = np.mean(pair_vec, axis=1)"
   ]
  },
  {
   "cell_type": "code",
   "execution_count": 12,
   "id": "eea28b6d-45e9-48c5-8fcd-f904b279691f",
   "metadata": {},
   "outputs": [
    {
     "data": {
      "image/png": "[encoded data removed]",
      "text/plain": [
       "<Figure size 432x288 with 1 Axes>"
      ]
     },
     "metadata": {
      "needs_background": "light"
     },
     "output_type": "display_data"
    }
   ],
   "source": [
    "histogram = plt.hist(pair_vectors, edgecolor ='w', bins=100)"
   ]
  },
  {
   "cell_type": "markdown",
   "id": "3940e6c1-b6e6-45c2-87ee-bac688df6e0c",
   "metadata": {},
   "source": [
    "- It is distrubuted at -1, 0, and 1. 0 is newly appeared. It can be seen that the graph is more uniformly distributed than when the sample size was 1."
   ]
  },
  {
   "cell_type": "code",
   "execution_count": 13,
   "id": "0b505f77-1fc0-431a-9cbd-2c164e8952da",
   "metadata": {},
   "outputs": [
    {
     "data": {
      "text/plain": [
       "(-0.008, 0.503936)"
      ]
     },
     "execution_count": 13,
     "metadata": {},
     "output_type": "execute_result"
    }
   ],
   "source": [
    "#7 Compute and report mean of the R pair means, and variance of the means. \n",
    "np.mean(pair_vectors), np.var(pair_vectors)"
   ]
  },
  {
   "cell_type": "markdown",
   "id": "798ef154-3ce0-4232-939e-ea7816973503",
   "metadata": {},
   "source": [
    "- The sample mean is about 0, and the sample variance is about 0.5."
   ]
  },
  {
   "cell_type": "code",
   "execution_count": 14,
   "id": "a0637f20-200b-4c3a-871a-ea76b3134aba",
   "metadata": {},
   "outputs": [
    {
     "data": {
      "text/plain": [
       "0.0"
      ]
     },
     "execution_count": 14,
     "metadata": {},
     "output_type": "execute_result"
    }
   ],
   "source": [
    "#8 Compute the expected value and variance of the pair means, i.e. the theoretical concepts. \n",
    "#  Compare the theoretical values with the sample values above. Are those fairly similar?\n",
    "(0.25 * 1) + (0.5 * 0) + (0.25 * (-1))"
   ]
  },
  {
   "cell_type": "code",
   "execution_count": 15,
   "id": "e3915652-86ab-4d27-98b7-1832a580f9d4",
   "metadata": {},
   "outputs": [
    {
     "data": {
      "text/plain": [
       "0.5"
      ]
     },
     "execution_count": 15,
     "metadata": {},
     "output_type": "execute_result"
    }
   ],
   "source": [
    "(0.25 * 1**2) + (0.5 * 0**2) + (0.25 * (-1)**2) - 0.0**2"
   ]
  },
  {
   "cell_type": "markdown",
   "id": "6ebc6a3d-9847-4d7e-b9b9-dbf154de994f",
   "metadata": {},
   "source": [
    "- The expected value is 0, and the variance of the pair means is 0.5. Those values are fairly close to the sample mean and sample varianve I computed in question 7 above. I can notice that in the mean distribution, the sample mean is equal to the expected value of the random value, and the sample variance is equal to the variance of the random value divided by the sample size."
   ]
  },
  {
   "cell_type": "code",
   "execution_count": 42,
   "id": "08cc6f7d-68d5-42d8-a5b8-f82ac96d94a4",
   "metadata": {},
   "outputs": [],
   "source": [
    "#9 Repeat this with 5-tuples of random numbers.\n",
    "five_vec = []\n",
    "for i in range(R):\n",
    "    RV = np.random.randint(0,2, size=5)*2 - 1\n",
    "    five_vec.append(RV)\n",
    "five_vectors = np.mean(five_vec, axis=1)"
   ]
  },
  {
   "cell_type": "code",
   "execution_count": 43,
   "id": "8d8f04dd-d283-48e5-89d7-73395fa00fc6",
   "metadata": {},
   "outputs": [
    {
     "data": {
      "image/png": "[encoded data removed]",
      "text/plain": [
       "<Figure size 432x288 with 1 Axes>"
      ]
     },
     "metadata": {
      "needs_background": "light"
     },
     "output_type": "display_data"
    }
   ],
   "source": [
    "histogram = plt.hist(five_vectors, edgecolor ='w', bins=100)"
   ]
  },
  {
   "cell_type": "code",
   "execution_count": 44,
   "id": "fc774a44-5b0c-4e33-a15b-f2bea8831860",
   "metadata": {},
   "outputs": [
    {
     "data": {
      "text/plain": [
       "(0.0016000000000000014, 0.19903744)"
      ]
     },
     "execution_count": 44,
     "metadata": {},
     "output_type": "execute_result"
    }
   ],
   "source": [
    "# Compare the theoretical and sample version of mean and variance of 5-tuples. Are they similar?\n",
    "np.mean(five_vectors), np.var(five_vectors)"
   ]
  },
  {
   "cell_type": "code",
   "execution_count": 19,
   "id": "e19c033d-4235-4096-b77e-0fbee021452f",
   "metadata": {},
   "outputs": [
    {
     "data": {
      "text/plain": [
       "(0.0, 0.2)"
      ]
     },
     "execution_count": 19,
     "metadata": {},
     "output_type": "execute_result"
    }
   ],
   "source": [
    "0.0, 1.0 / 5"
   ]
  },
  {
   "cell_type": "markdown",
   "id": "e3c70d10-ac83-4fba-a60e-1e5036ff6e5d",
   "metadata": {},
   "source": [
    "- The sample mean is about 0, and the sample variance is about 0.2. The expected value is also 0.0, and the vaiance is, again, also 0.2. They are similar."
   ]
  },
  {
   "cell_type": "code",
   "execution_count": 20,
   "id": "e683b415-df5f-4adb-b8bb-32770f3f2cff",
   "metadata": {},
   "outputs": [],
   "source": [
    "# Do you spot any noticeable differences in the histogram compared to your previous histogram?"
   ]
  },
  {
   "cell_type": "markdown",
   "id": "a98b6b70-bd63-4cee-bc26-6377494c91d8",
   "metadata": {},
   "source": [
    "- The mean values of random variables has diversified. "
   ]
  },
  {
   "cell_type": "code",
   "execution_count": 21,
   "id": "754cc82c-a836-4956-8050-e5699904d57f",
   "metadata": {},
   "outputs": [],
   "source": [
    "#10 Repeat with 25-tuples...\n",
    "twentyfive_vec = []\n",
    "for i in range(R):\n",
    "    RV = np.random.randint(0,2, size=25)*2 - 1\n",
    "    twentyfive_vec.append(RV)\n",
    "twentyfive_vectors = np.mean(twentyfive_vec, axis=1)"
   ]
  },
  {
   "cell_type": "code",
   "execution_count": 22,
   "id": "852646ec-bdae-42f3-afc3-d9272230b0a8",
   "metadata": {},
   "outputs": [
    {
     "data": {
      "image/png": "[encoded data removed]",
      "text/plain": [
       "<Figure size 432x288 with 1 Axes>"
      ]
     },
     "metadata": {
      "needs_background": "light"
     },
     "output_type": "display_data"
    }
   ],
   "source": [
    "histogram = plt.hist(twentyfive_vectors, edgecolor ='w', bins=100)"
   ]
  },
  {
   "cell_type": "code",
   "execution_count": 23,
   "id": "975ceaf6-6a71-42e9-89a7-569c8211c17e",
   "metadata": {},
   "outputs": [
    {
     "data": {
      "text/plain": [
       "(-0.006000000000000002, 0.04039920000000001)"
      ]
     },
     "execution_count": 23,
     "metadata": {},
     "output_type": "execute_result"
    }
   ],
   "source": [
    "# Compare the theoretical and sample version of mean and variance of 25-tuples.\n",
    "np.mean(twentyfive_vectors), np.var(twentyfive_vectors)"
   ]
  },
  {
   "cell_type": "code",
   "execution_count": 24,
   "id": "7015ddcb-b250-4027-a3d6-859deea9573e",
   "metadata": {},
   "outputs": [
    {
     "data": {
      "text/plain": [
       "(0.0, 0.04)"
      ]
     },
     "execution_count": 24,
     "metadata": {},
     "output_type": "execute_result"
    }
   ],
   "source": [
    "0.0, 1.0 / 25"
   ]
  },
  {
   "cell_type": "markdown",
   "id": "8a926eb1-0290-4fd6-a4f3-680105ba38b7",
   "metadata": {},
   "source": [
    "- The sample mean is about 0, and the sample variance is about 0.04. The expected value is also 0, and the variance is, again, also 0.04. They are similar."
   ]
  },
  {
   "cell_type": "code",
   "execution_count": 25,
   "id": "67f8f679-9369-41eb-a526-fd5f64776907",
   "metadata": {},
   "outputs": [],
   "source": [
    "#11  ... and with 1000-tuple.\n",
    "thousand_vec = []\n",
    "for i in range(R):\n",
    "    RV = np.random.randint(0,2, size=1000)*2 - 1\n",
    "    thousand_vec.append(RV)\n",
    "thousand_vectors = np.mean(thousand_vec, axis=1)"
   ]
  },
  {
   "cell_type": "code",
   "execution_count": 26,
   "id": "02491aa0-a065-4138-aebb-b6d7531acb62",
   "metadata": {},
   "outputs": [
    {
     "data": {
      "image/png": "[encoded data removed]",
      "text/plain": [
       "<Figure size 432x288 with 1 Axes>"
      ]
     },
     "metadata": {
      "needs_background": "light"
     },
     "output_type": "display_data"
    }
   ],
   "source": [
    "histogram = plt.hist(thousand_vectors, edgecolor ='w', bins=100)"
   ]
  },
  {
   "cell_type": "code",
   "execution_count": 27,
   "id": "e2f99377-db0f-4450-81a2-93386b3ecacd",
   "metadata": {},
   "outputs": [
    {
     "data": {
      "text/plain": [
       "(0.0006060000000000001, 0.001031892764)"
      ]
     },
     "execution_count": 27,
     "metadata": {},
     "output_type": "execute_result"
    }
   ],
   "source": [
    "# Compare the theoretical and sample version of mean and variance of 1000-tuples.\n",
    "np.mean(thousand_vectors), np.var(thousand_vectors)"
   ]
  },
  {
   "cell_type": "code",
   "execution_count": 28,
   "id": "b48c1e3d-6bea-4925-b948-d457548769c5",
   "metadata": {},
   "outputs": [
    {
     "data": {
      "text/plain": [
       "(0.0, 0.001)"
      ]
     },
     "execution_count": 28,
     "metadata": {},
     "output_type": "execute_result"
    }
   ],
   "source": [
    "0.0, 1.0 / 1000"
   ]
  },
  {
   "cell_type": "markdown",
   "id": "4ae7f670-073a-4733-b89a-f8efbdeab8ca",
   "metadata": {},
   "source": [
    "- The sample mean is about 0, and the sample variance is about 0.001. The expected value is also 0, and the variance is, again, also 0.001. They are similar."
   ]
  },
  {
   "cell_type": "code",
   "execution_count": 29,
   "id": "2d546b2f-da7d-470a-8781-c4507b181d83",
   "metadata": {},
   "outputs": [],
   "source": [
    "#12 Comment on the tuple size, and how the shape of the histogram changes when the tuple size increases."
   ]
  },
  {
   "cell_type": "markdown",
   "id": "540e8ccf-c0b3-449b-b67b-c3b1db5a57f3",
   "metadata": {},
   "source": [
    "- As the tuple size increases, the histogram becomes more and more like a normal distribution. "
   ]
  },
  {
   "cell_type": "code",
   "execution_count": 30,
   "id": "f9850f46-6c36-4f87-a6be-4d8b76c31ede",
   "metadata": {},
   "outputs": [],
   "source": [
    "#13 Explain why do the histograms resemble normal distribution as S grows."
   ]
  },
  {
   "cell_type": "markdown",
   "id": "a919e901-2a3e-4d6d-a015-b7ef29ea873e",
   "metadata": {},
   "source": [
    "- This is because that the central limit theorem only holds true when the sample size is “sufficiently large.”"
   ]
  },
  {
   "cell_type": "code",
   "execution_count": 31,
   "id": "054f1694-1024-45e0-aa75-bcbaf5364044",
   "metadata": {},
   "outputs": [],
   "source": [
    "#14  Explain what is the difference between R and S. How do changing these values affect the histograms?"
   ]
  },
  {
   "cell_type": "markdown",
   "id": "332e40e5-1ff9-4cf5-8e49-df31c0b1b5b9",
   "metadata": {},
   "source": [
    "- The sample size is used to satisfy the central limit theroem, which applies only when it is large enough. The larger the size, the more the histogram has a normal distribution. On the other hand, R is just a value representing the number of means of each random variable."
   ]
  },
  {
   "cell_type": "markdown",
   "id": "8c196b64-b4a2-48d5-b432-32f53e16efc1",
   "metadata": {},
   "source": [
    "### Q.2 Is povery in Azraq refugee camp falling? "
   ]
  },
  {
   "cell_type": "markdown",
   "id": "6f7e84f1-048a-40b4-83d5-a0963e91f62f",
   "metadata": {},
   "source": [
    "#### 2.1 Background"
   ]
  },
  {
   "cell_type": "code",
   "execution_count": 32,
   "id": "a492b8e0-c0d0-427f-b402-410f6c4687be",
   "metadata": {},
   "outputs": [],
   "source": [
    "#1 What was the abject poverty in Azraq camp in Q1 and Q2 2022 (when including all assistance)? \n",
    "#  Lets call these variables p1 and p2.\n",
    "p1, p2 = 0.66, 0.51"
   ]
  },
  {
   "cell_type": "markdown",
   "id": "bf8ad167-64d2-4ff2-a90f-26f4065ad47b",
   "metadata": {},
   "source": [
    "- 66% of housing suffer from abject poverty in Q1 2022, and 51% of housing in Q2 2022."
   ]
  },
  {
   "cell_type": "code",
   "execution_count": 33,
   "id": "8401d109-13db-4944-b121-8bd4dc4407de",
   "metadata": {},
   "outputs": [],
   "source": [
    "#2  How many households were surveyed in the camp? Call this sample size S.\n",
    "S = 325"
   ]
  },
  {
   "cell_type": "markdown",
   "id": "be28cefd-d96d-45fd-86df-0aa9ef6bce0d",
   "metadata": {},
   "source": [
    "- There are 325 households in Azraq camp."
   ]
  },
  {
   "cell_type": "markdown",
   "id": "99ab91c4-c643-4f7b-bbfd-2b37217970a5",
   "metadata": {},
   "source": [
    "#### 2.2 Simulations"
   ]
  },
  {
   "cell_type": "code",
   "execution_count": 51,
   "id": "6540cdd3-066e-442a-bbc9-d10e18d7071d",
   "metadata": {},
   "outputs": [],
   "source": [
    "#1  Create a random sample using the correct values of S and p2 you found in 2.1 above.\n",
    "poverty = np.random.binomial(1, p2, size=S)"
   ]
  },
  {
   "cell_type": "code",
   "execution_count": 52,
   "id": "749deaa5-b464-4beb-8168-5fece245657e",
   "metadata": {},
   "outputs": [
    {
     "data": {
      "text/plain": [
       "0.5076923076923077"
      ]
     },
     "execution_count": 52,
     "metadata": {},
     "output_type": "execute_result"
    }
   ],
   "source": [
    "#2 Compute the sample mean and compare it with p1 and p2 above. How close is it to these figures?\n",
    "np.mean(poverty)"
   ]
  },
  {
   "cell_type": "markdown",
   "id": "cc014931-69fe-4dc9-af87-2786baeb68d7",
   "metadata": {},
   "source": [
    "- The sample mean is about 0.51. It is quite close to p2, but not close to p1."
   ]
  },
  {
   "cell_type": "code",
   "execution_count": 36,
   "id": "70ee7a48-7aff-4b55-9411-a08725c987c1",
   "metadata": {},
   "outputs": [],
   "source": [
    "#3 Pick your number of replications R.\n",
    "R = 1000"
   ]
  },
  {
   "cell_type": "markdown",
   "id": "ab6f3828-054d-4171-a99b-a971568db841",
   "metadata": {},
   "source": [
    "- I chose 1000 as the number of replications R."
   ]
  },
  {
   "cell_type": "code",
   "execution_count": 65,
   "id": "ec50e4c0-a6a6-4c1e-a659-82f9a0fc4cb3",
   "metadata": {},
   "outputs": [],
   "source": [
    "#4 Repeat the points 1 and 2 for R times: create the sample, compute the average, \n",
    "#  but also store the average in an array. You should have R averages now.\n",
    "poverties = []\n",
    "for i in range(R):\n",
    "    pov = np.random.binomial(1, p2, size=S)\n",
    "    poverties.append(pov)\n",
    "\n",
    "ave_pov = np.mean(poverties, axis=1)"
   ]
  },
  {
   "cell_type": "markdown",
   "id": "e5f5252e-6984-4650-8f77-6f5647eb98b4",
   "metadata": {},
   "source": [
    "- The R averages are in ave_pov."
   ]
  },
  {
   "cell_type": "code",
   "execution_count": 66,
   "id": "7bae982f-9dd5-4c2d-aef2-573ec42a8fab",
   "metadata": {},
   "outputs": [
    {
     "data": {
      "text/plain": [
       "0.5113723076923077"
      ]
     },
     "execution_count": 66,
     "metadata": {},
     "output_type": "execute_result"
    }
   ],
   "source": [
    "#5 What is the average of the averages? Which probability from 1 does it resemble? Why?\n",
    "np.mean(ave_pov)"
   ]
  },
  {
   "cell_type": "markdown",
   "id": "c36825aa-a654-4eab-97c1-558201855304",
   "metadata": {},
   "source": [
    "- The average of the averages is about 0.51. It is quite close to p2, but not close to p1."
   ]
  },
  {
   "cell_type": "code",
   "execution_count": 67,
   "id": "f5e8aa9f-eb75-4909-a402-3617c9847f80",
   "metadata": {},
   "outputs": [
    {
     "data": {
      "image/png": "[encoded data removed]",
      "text/plain": [
       "<Figure size 432x288 with 1 Axes>"
      ]
     },
     "metadata": {
      "needs_background": "light"
     },
     "output_type": "display_data"
    }
   ],
   "source": [
    "#6 Plot a histogram of the averages. Which distribution does it resemble? \n",
    "#  What do you say, by just eyeballing the plot, what are the largest and smallest values that are “reasonably” common?\n",
    "mean_his = plt.hist(ave_pov, edgecolor ='w', bins=100)"
   ]
  },
  {
   "cell_type": "markdown",
   "id": "3a8eaf06-463b-419e-a68e-dba2c5aa6715",
   "metadata": {},
   "source": [
    "- It is centered 0.51. I can see about 15 for 0.55, about 1 for 0.6, and cannot even see the value of 0.65 in the histogram."
   ]
  },
  {
   "cell_type": "code",
   "execution_count": 68,
   "id": "4e750eb8-f5ef-4b2c-b8a9-3fcfd18f34eb",
   "metadata": {},
   "outputs": [
    {
     "data": {
      "text/plain": [
       "array([0.45846154, 0.56307692])"
      ]
     },
     "execution_count": 68,
     "metadata": {},
     "output_type": "execute_result"
    }
   ],
   "source": [
    "#7 Finally, compute 2.5th and 97.5th percentile and the 95% confidence intervals.\n",
    "#  Does the Q1 poverty value fall into this interval?\n",
    "CI = np.percentile(ave_pov, [2.5, 97.5])\n",
    "CI"
   ]
  },
  {
   "cell_type": "markdown",
   "id": "61e35007-6ceb-461a-b717-b64489f67f76",
   "metadata": {},
   "source": [
    "- The 95% confidence intervals is from 0.46 to 0.56. The p1 does not fall into this interval."
   ]
  },
  {
   "cell_type": "markdown",
   "id": "97906740-55f6-4603-85f8-803432a8ad68",
   "metadata": {},
   "source": [
    "#### 2.3 Theoretical CI "
   ]
  },
  {
   "cell_type": "code",
   "execution_count": 69,
   "id": "4fdb05f2-1290-4ea9-adae-cced4fc98585",
   "metadata": {},
   "outputs": [
    {
     "data": {
      "text/plain": [
       "0.24994082840236695"
      ]
     },
     "execution_count": 69,
     "metadata": {},
     "output_type": "execute_result"
    }
   ],
   "source": [
    "#1 Compute variance of your sample of X.\n",
    "np.var(poverty)"
   ]
  },
  {
   "cell_type": "markdown",
   "id": "bbddafc4-0b25-478f-8f8a-1a4be9de4290",
   "metadata": {},
   "source": [
    "- The sample variance is about 0.2499."
   ]
  },
  {
   "cell_type": "code",
   "execution_count": 70,
   "id": "5f2ee6d4-e7da-45ca-a6f8-0a15803f90c7",
   "metadata": {},
   "outputs": [
    {
     "data": {
      "text/plain": [
       "0.0007684883692307692"
      ]
     },
     "execution_count": 70,
     "metadata": {},
     "output_type": "execute_result"
    }
   ],
   "source": [
    "#2 But this was variance of X (or sample variance if that was what you computed).\n",
    "#  What we need is variance of sample mean. \n",
    "#  What does CLT tell about relationship b/w sample variance and variance of the sample mean?\n",
    "np.var(ave_pov)"
   ]
  },
  {
   "cell_type": "code",
   "execution_count": 71,
   "id": "81cf22d4-edc7-4117-b246-d0603bdeab14",
   "metadata": {},
   "outputs": [
    {
     "data": {
      "text/plain": [
       "0.0007690487027765137"
      ]
     },
     "execution_count": 71,
     "metadata": {},
     "output_type": "execute_result"
    }
   ],
   "source": [
    "np.var(poverty) / S"
   ]
  },
  {
   "cell_type": "markdown",
   "id": "01260920-276f-4676-a67b-a2fac602f884",
   "metadata": {},
   "source": [
    "- The variance of sample mean is about 0.00077. The variance of the sample mean is the sample variance divided by the size of the sample."
   ]
  },
  {
   "cell_type": "code",
   "execution_count": 72,
   "id": "df08d2bd-7d2f-4f7f-b49d-32ffb75c8c78",
   "metadata": {},
   "outputs": [
    {
     "data": {
      "text/plain": [
       "0.02773172736734071"
      ]
     },
     "execution_count": 72,
     "metadata": {},
     "output_type": "execute_result"
    }
   ],
   "source": [
    "#3 Compute the standard deviation of sample mean using CLT.\n",
    "np.sqrt(np.var(poverty)) / np.sqrt(S)"
   ]
  },
  {
   "cell_type": "markdown",
   "id": "f1d1654d-f678-48ca-8ff7-4f8ac006a8b1",
   "metadata": {},
   "source": [
    "- The standard deviation of the sample mean is the sample standard deviation divided by square root of the sample size. Therefore, the standard deviation of sample mean is about 0.028."
   ]
  },
  {
   "cell_type": "code",
   "execution_count": 73,
   "id": "c9435899-4d1d-4af2-97ee-b8614c856dfa",
   "metadata": {},
   "outputs": [
    {
     "data": {
      "text/plain": [
       "0.027721622774122896"
      ]
     },
     "execution_count": 73,
     "metadata": {},
     "output_type": "execute_result"
    }
   ],
   "source": [
    "#4 Compare the standard deviation you got here with the standard deviation of the sample of averages you computed in 2.2.4.\n",
    "np.sqrt(np.var(ave_pov))"
   ]
  },
  {
   "cell_type": "markdown",
   "id": "c77dca6a-2bee-4fb8-ada8-a6a3360de280",
   "metadata": {},
   "source": [
    "- I got about 0.028 for the standard deviation. It is similar to the one I computed in 2.3.3."
   ]
  },
  {
   "cell_type": "code",
   "execution_count": 74,
   "id": "72f3bf86-1ab4-45b1-8b05-dab100838c81",
   "metadata": {},
   "outputs": [
    {
     "data": {
      "text/plain": [
       "0.5069558053231159"
      ]
     },
     "execution_count": 74,
     "metadata": {},
     "output_type": "execute_result"
    }
   ],
   "source": [
    "#5 Use this standard deviation to compute the confidence interval. \n",
    "#  Compare it to what you got in 2.2.7. Does p1 falls inside or outside of this interval?\n",
    "0.51 - 1.96 * (0.028 / np.sqrt(S))"
   ]
  },
  {
   "cell_type": "code",
   "execution_count": 75,
   "id": "50434b27-627d-408f-9503-aedb2390dd48",
   "metadata": {},
   "outputs": [
    {
     "data": {
      "text/plain": [
       "0.5130441946768841"
      ]
     },
     "execution_count": 75,
     "metadata": {},
     "output_type": "execute_result"
    }
   ],
   "source": [
    "0.51 + 1.96 * (0.028 / np.sqrt(S))"
   ]
  },
  {
   "cell_type": "markdown",
   "id": "67e0a689-880b-43d9-af90-5f7e26ff7095",
   "metadata": {},
   "source": [
    "- The 95% confidence interval is from about 0.507 to about 0.513. The p1 does not fall inside this interval agian."
   ]
  },
  {
   "cell_type": "markdown",
   "id": "96a1116a-76c6-4a5e-9bc3-41e17d2b7006",
   "metadata": {},
   "source": [
    "##### I spent about 6 hours."
   ]
  }
 ],
 "metadata": {
  "kernelspec": {
   "display_name": "Python 3 (ipykernel)",
   "language": "python",
   "name": "python3"
  },
  "language_info": {
   "codemirror_mode": {
    "name": "ipython",
    "version": 3
   },
   "file_extension": ".py",
   "mimetype": "text/x-python",
   "name": "python",
   "nbconvert_exporter": "python",
   "pygments_lexer": "ipython3",
   "version": "3.9.7"
  }
 },
 "nbformat": 4,
 "nbformat_minor": 5
}
